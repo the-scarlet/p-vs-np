{
 "cells": [
  {
   "cell_type": "code",
   "execution_count": 26,
   "id": "000dd598",
   "metadata": {},
   "outputs": [],
   "source": [
    "from sympy import *\n",
    "import sympy\n",
    "import numpy as np\n",
    "import matplotlib.pyplot as plt\n",
    "import time \n",
    "import shapely\n",
    "from shapely.geometry import LineString, Point\n",
    "from sympy import *\n",
    "from sympy import diff as D\n"
   ]
  },
  {
   "cell_type": "code",
   "execution_count": 27,
   "id": "8a8643f3",
   "metadata": {},
   "outputs": [],
   "source": [
    "\n",
    "def power21(f):\n",
    "    test=True\n",
    "    while test:\n",
    "        test=False\n",
    "        for i in vars:\n",
    "            f1= f.subs(i**2, i)\n",
    "            if f1!=f:\n",
    "                test==True\n",
    "                f=f1\n",
    "\n",
    "    return f "
   ]
  },
  {
   "cell_type": "code",
   "execution_count": 28,
   "id": "7cfd50fa",
   "metadata": {},
   "outputs": [],
   "source": [
    "\n",
    "def createvars(n):\n",
    "\n",
    "    symbols_dict = dict(('x%d'%k, symbols('x%d'%k)) for k in range(n))\n",
    "    return  symbols_dict"
   ]
  },
  {
   "cell_type": "code",
   "execution_count": 29,
   "id": "f7c4c60f",
   "metadata": {},
   "outputs": [],
   "source": [
    "def createrandomp(n):\n",
    "    \n",
    "\n",
    "    p=[]\n",
    "    for i in range(n):\n",
    "        while True:\n",
    "            a=np.random.random()\n",
    "            b=np.random.random()\n",
    "\n",
    "            if not((a,b) in p):\n",
    "                p.append((a,b))\n",
    "                break\n",
    "    return p\n",
    "\n",
    "def plot(p):\n",
    "    x=[i[0] for i in p]\n",
    "    y=[i[1] for i in p]\n",
    "    n= [i for i in range (len(p))]\n",
    "    fig, ax = plt.subplots()\n",
    "    ax.scatter(x, y)\n",
    "\n",
    "    for i, txt in enumerate(n):\n",
    "        ax.annotate(txt, (x[i], y[i]))\n",
    "def dist(p,i,j):\n",
    "    return (((p[i][0]-p[j][0])**2)+((p[i][1]-p[j][1])**2))**0.5\n",
    "\n",
    "\n",
    "def custompath(p,path):\n",
    "    d=0\n",
    "    for i in range(0,len(path)):\n",
    "        d+=dist(p,path[i],path[i-1])\n",
    "        #d+=dist(p,path[-1], path[0])\n",
    "    return d\n",
    "            \n",
    "def printpath(p,path):\n",
    "    x=[i[0] for i in p]\n",
    "    y=[i[1] for i in p]\n",
    "    n= [i for i in range (len(p))]\n",
    "    fig, ax = plt.subplots()\n",
    "    ax.scatter(x, y)\n",
    "\n",
    "    for i, txt in enumerate(n):\n",
    "        ax.annotate(txt, (x[i], y[i]))\n",
    "    x=[p[i][0] for i in path]\n",
    "    x.append(x[0])\n",
    "    y=[p[i][1] for i in path]\n",
    "    y.append(y[0])\n",
    "    #plt.plot(x,y)\n",
    "    #plt.plot(x, y, 'ro', 'k')\n",
    "    plt.plot(x, y, 'r', zorder=1, lw=3)\n",
    "    plt.scatter(x, y, s=120, zorder=2)\n",
    "def intersect (p , i , j, k, l):\n",
    "    \n",
    "    A = p[i]\n",
    "    B = p[j]\n",
    "\n",
    "    #line 2\n",
    "    C = p[k]\n",
    "    D = p[l]\n",
    "\n",
    "    line1 = LineString([A, B])\n",
    "    line2 = LineString([C, D])\n",
    "\n",
    "    int_pt = line1.intersection(line2)\n",
    "\n",
    "    if int_pt.is_empty: \n",
    "        #print('empty')\n",
    "        return False\n",
    "    if type(int_pt)==shapely.geometry.linestring.LineString: \n",
    "        #print('line',int_pt)\n",
    "        return True\n",
    "    elif type(int_pt)==shapely.geometry.point.Point:\n",
    "        point_of_intersection = int_pt.x, int_pt.y\n",
    "        \n",
    "        #print('point')\n",
    "  \n",
    "        if point_of_intersection in (A,B,C,D): \n",
    "            \n",
    "            if len((A,B,C,D))==len(set((A,B,C,D))): return True\n",
    "            else: return False\n",
    "\n",
    "        else: return True    "
   ]
  },
  {
   "cell_type": "code",
   "execution_count": 51,
   "id": "05c0badd",
   "metadata": {},
   "outputs": [
    {
     "data": {
      "image/png": "[encoded data removed]",
      "text/plain": [
       "<Figure size 640x480 with 1 Axes>"
      ]
     },
     "metadata": {},
     "output_type": "display_data"
    }
   ],
   "source": [
    "n=6\n",
    "p=createrandomp(n)\n",
    "plot(p)"
   ]
  },
  {
   "cell_type": "code",
   "execution_count": 52,
   "id": "7b9593e9",
   "metadata": {},
   "outputs": [
    {
     "data": {
      "text/plain": [
       "{x0: (0, 1),\n",
       " x1: (0, 2),\n",
       " x2: (0, 3),\n",
       " x3: (0, 4),\n",
       " x4: (0, 5),\n",
       " x5: (1, 2),\n",
       " x6: (1, 3),\n",
       " x7: (1, 4),\n",
       " x8: (1, 5),\n",
       " x9: (2, 3),\n",
       " x10: (2, 4),\n",
       " x11: (2, 5),\n",
       " x12: (3, 4),\n",
       " x13: (3, 5),\n",
       " x14: (4, 5)}"
      ]
     },
     "execution_count": 52,
     "metadata": {},
     "output_type": "execute_result"
    }
   ],
   "source": [
    "couples=[(i,j) for i in range(n) for j in range(i+1,n)]\n",
    "distances=[dist(p,i,j) for i in range(n) for j in range(i+1,n)]\n",
    "N=len(couples)#n*(n-1)/2\n",
    "symbols_dict=createvars(N)\n",
    "locals().update(symbols_dict)\n",
    "vars=list(symbols_dict.values())\n",
    "err=0.001\n",
    "xcouples=dict((vars[var],couples[var]) for var in range (len(vars)))\n",
    "\n",
    "xcouples"
   ]
  },
  {
   "cell_type": "code",
   "execution_count": 53,
   "id": "9ed48cf3",
   "metadata": {},
   "outputs": [
    {
     "data": {
      "text/plain": [
       "{'x0': x0,\n",
       " 'x1': x1,\n",
       " 'x2': x2,\n",
       " 'x3': x3,\n",
       " 'x4': x4,\n",
       " 'x5': x5,\n",
       " 'x6': x6,\n",
       " 'x7': x7,\n",
       " 'x8': x8,\n",
       " 'x9': x9,\n",
       " 'x10': x10,\n",
       " 'x11': x11,\n",
       " 'x12': x12,\n",
       " 'x13': x13,\n",
       " 'x14': x14}"
      ]
     },
     "execution_count": 53,
     "metadata": {},
     "output_type": "execute_result"
    }
   ],
   "source": [
    "symbols_dict"
   ]
  },
  {
   "cell_type": "code",
   "execution_count": 54,
   "id": "69544b47",
   "metadata": {},
   "outputs": [],
   "source": [
    "def sumpointcond(couples,vars,k):\n",
    "#cond of the k th point\n",
    "    kcond=0\n",
    "    for i in range (len(couples)):\n",
    "        if k in couples[i]:\n",
    "            kcond+=vars[i]\n",
    "    return kcond"
   ]
  },
  {
   "cell_type": "code",
   "execution_count": 55,
   "id": "5056974d",
   "metadata": {},
   "outputs": [],
   "source": [
    "def fullsumpointcond(couples,vars):\n",
    "    conds= []\n",
    "    for i in range (n):\n",
    "        conds.append(sumpointcond(couples,vars,i))\n",
    "    return conds\n",
    "        "
   ]
  },
  {
   "cell_type": "code",
   "execution_count": 56,
   "id": "6951a368",
   "metadata": {},
   "outputs": [
    {
     "data": {
      "text/latex": [
       "$\\displaystyle x_{0}$"
      ],
      "text/plain": [
       "x0"
      ]
     },
     "execution_count": 56,
     "metadata": {},
     "output_type": "execute_result"
    }
   ],
   "source": [
    "vars [0]"
   ]
  },
  {
   "cell_type": "code",
   "execution_count": 57,
   "id": "4b708c0f",
   "metadata": {},
   "outputs": [],
   "source": [
    "def fullpointmultcond(f):#f is the rresult of fullsumpointcond(couples,vars) and returns the xi*xj*xk cond\n",
    "    l=[]\n",
    "    for cond in f:\n",
    "        listofvars=cond.args\n",
    "        for i in range(len(listofvars)):\n",
    "            for j in range(i+1,len(listofvars)):\n",
    "                for k in range(j+1,len(listofvars)):\n",
    "                    l.append(listofvars[i]*listofvars[j]*listofvars[k])\n",
    "    return l"
   ]
  },
  {
   "cell_type": "code",
   "execution_count": 58,
   "id": "feba9e7e",
   "metadata": {},
   "outputs": [],
   "source": [
    "def intersectioncond():\n",
    "    prohibited=[]\n",
    "    for i in range (len(p)):\n",
    "            for j in range (len(p)):\n",
    "                if j!=i:\n",
    "                    for k in range(len(p)):\n",
    "                        for l in range(len(p)):\n",
    "                            if k!=l:\n",
    "                                #print(i,j,k,l)\n",
    "                                if len(set((i,j,k,l)))>2:\n",
    "                                    if intersect(p,i,j,k,l):\n",
    "                                        #print('done')\n",
    "                                        prohibited.append(vars[couples.index((min(i,j),max(i,j)))]*vars[couples.index((min(k,l),max(k,l)))])\n",
    "                                        prohibited=list(set(prohibited))\n",
    "    return prohibited\n"
   ]
  },
  {
   "cell_type": "code",
   "execution_count": 59,
   "id": "d587e633",
   "metadata": {},
   "outputs": [
    {
     "data": {
      "text/plain": [
       "[x2*x8, x4*x7, x7*x9, x3*x9, x11*x3, x4*x9, x11*x7, x8*x9, x2*x7]"
      ]
     },
     "execution_count": 59,
     "metadata": {},
     "output_type": "execute_result"
    }
   ],
   "source": [
    "intersectioncond()"
   ]
  },
  {
   "cell_type": "code",
   "execution_count": 60,
   "id": "e3e930d3",
   "metadata": {},
   "outputs": [],
   "source": [
    "def fullcond():\n",
    "    c=set(fullsumpointcond(couples,vars))\n",
    "    c1=set(fullpointmultcond(c))\n",
    "    #print(c1)\n",
    "    c2=set(intersectioncond())\n",
    "    c=c2.union(c1)\n",
    "    #the boucles\n",
    "    xes=list(xcouples.keys())\n",
    "    for x1 in range( len(xes)):\n",
    "        print(xes[x1])\n",
    "        for x2 in range( x1+1,len(xes)):\n",
    "            for x3 in range( x2+1,len(xes)):\n",
    "                \n",
    "                l=[]\n",
    "                l.extend(xcouples[xes[x1]])\n",
    "                l.extend(xcouples[xes[x2]])\n",
    "                l.extend(xcouples[xes[x3]])\n",
    "                #print(l)\n",
    "                l=set(l)\n",
    "                #print(len(l)==4)\n",
    "                if len(l)<4:\n",
    "                    c.add(xes[x1]*xes[x2]*xes[x3])\n",
    "\n",
    "    return c"
   ]
  },
  {
   "cell_type": "code",
   "execution_count": 61,
   "id": "f2a71e52",
   "metadata": {},
   "outputs": [
    {
     "name": "stdout",
     "output_type": "stream",
     "text": [
      "x0\n",
      "x1\n",
      "x2\n",
      "x3\n",
      "x4\n",
      "x5\n",
      "x6\n",
      "x7\n",
      "x8\n",
      "x9\n",
      "x10\n",
      "x11\n",
      "x12\n",
      "x13\n",
      "x14\n"
     ]
    },
    {
     "data": {
      "text/plain": [
       "{x0*x1*x2,\n",
       " x0*x1*x3,\n",
       " x0*x1*x4,\n",
       " x0*x1*x5,\n",
       " x0*x2*x3,\n",
       " x0*x2*x4,\n",
       " x0*x2*x6,\n",
       " x0*x3*x4,\n",
       " x0*x3*x7,\n",
       " x0*x4*x8,\n",
       " x0*x5*x6,\n",
       " x0*x5*x7,\n",
       " x0*x5*x8,\n",
       " x0*x6*x7,\n",
       " x0*x6*x8,\n",
       " x0*x7*x8,\n",
       " x1*x10*x11,\n",
       " x1*x10*x3,\n",
       " x1*x10*x5,\n",
       " x1*x10*x9,\n",
       " x1*x11*x4,\n",
       " x1*x11*x5,\n",
       " x1*x11*x9,\n",
       " x1*x2*x3,\n",
       " x1*x2*x4,\n",
       " x1*x2*x9,\n",
       " x1*x3*x4,\n",
       " x1*x5*x9,\n",
       " x10*x11*x14,\n",
       " x10*x11*x5,\n",
       " x10*x11*x9,\n",
       " x10*x12*x14,\n",
       " x10*x12*x3,\n",
       " x10*x12*x7,\n",
       " x10*x12*x9,\n",
       " x10*x14*x3,\n",
       " x10*x14*x7,\n",
       " x10*x3*x7,\n",
       " x10*x5*x7,\n",
       " x10*x5*x9,\n",
       " x11*x13*x14,\n",
       " x11*x13*x4,\n",
       " x11*x13*x8,\n",
       " x11*x13*x9,\n",
       " x11*x14*x4,\n",
       " x11*x14*x8,\n",
       " x11*x3,\n",
       " x11*x4*x8,\n",
       " x11*x5*x8,\n",
       " x11*x5*x9,\n",
       " x11*x7,\n",
       " x12*x13*x14,\n",
       " x12*x13*x2,\n",
       " x12*x13*x6,\n",
       " x12*x13*x9,\n",
       " x12*x14*x3,\n",
       " x12*x14*x7,\n",
       " x12*x2*x3,\n",
       " x12*x2*x6,\n",
       " x12*x2*x9,\n",
       " x12*x3*x7,\n",
       " x12*x6*x7,\n",
       " x12*x6*x9,\n",
       " x13*x14*x4,\n",
       " x13*x14*x8,\n",
       " x13*x2*x4,\n",
       " x13*x2*x6,\n",
       " x13*x2*x9,\n",
       " x13*x4*x8,\n",
       " x13*x6*x8,\n",
       " x13*x6*x9,\n",
       " x14*x3*x4,\n",
       " x14*x3*x7,\n",
       " x14*x4*x8,\n",
       " x14*x7*x8,\n",
       " x2*x3*x4,\n",
       " x2*x6*x9,\n",
       " x2*x7,\n",
       " x2*x8,\n",
       " x3*x9,\n",
       " x4*x7,\n",
       " x4*x9,\n",
       " x5*x6*x7,\n",
       " x5*x6*x8,\n",
       " x5*x6*x9,\n",
       " x5*x7*x8,\n",
       " x6*x7*x8,\n",
       " x7*x9,\n",
       " x8*x9}"
      ]
     },
     "execution_count": 61,
     "metadata": {},
     "output_type": "execute_result"
    }
   ],
   "source": [
    "cond =fullcond()\n",
    "cond"
   ]
  },
  {
   "cell_type": "code",
   "execution_count": 74,
   "id": "29f02f20",
   "metadata": {},
   "outputs": [
    {
     "name": "stdout",
     "output_type": "stream",
     "text": [
      "0\n",
      "1\n",
      "2\n",
      "3\n",
      "4\n",
      "5\n",
      "6\n",
      "7\n",
      "8\n",
      "9\n",
      "10\n",
      "11\n",
      "12\n",
      "13\n",
      "14\n"
     ]
    }
   ],
   "source": [
    "J=0\n",
    "valid=[]\n",
    "d=list(xcouples.keys())\n",
    "for x1 in range(len(xcouples.keys())) :\n",
    "    print(x1)\n",
    "    for x2 in range(x1+1,len(xcouples.keys())) :\n",
    "        for x3 in range(x2+1,len(xcouples.keys())) :\n",
    "            test=True\n",
    "            for i in cond:\n",
    "                if len(i.args)==2:\n",
    "                    for v in vars:\n",
    "                        if (d[x1]*d[x2]*d[x3])==i*v:\n",
    "                            test=False\n",
    "                            break\n",
    "                else:\n",
    "                    if (d[x1]*d[x2]*d[x3])==i:\n",
    "                            test=False\n",
    "                            break\n",
    "            if test:\n",
    "                valid.append(d[x1]*d[x2]*d[x3])\n",
    "                J+=d[x1]*d[x2]*d[x3]*dist(p,*couples[x1])*dist(p,*couples[x2])*dist(p,*couples[x3])\n",
    "            #print(d[x1]*d[x2]*d[x3],couples[x1],couples[x2],couples[x3], string)\n"
   ]
  },
  {
   "cell_type": "code",
   "execution_count": 75,
   "id": "6baa9edf",
   "metadata": {},
   "outputs": [
    {
     "data": {
      "image/png": "[encoded data removed]",
      "text/plain": [
       "<Figure size 640x480 with 1 Axes>"
      ]
     },
     "metadata": {},
     "output_type": "display_data"
    }
   ],
   "source": [
    "plot(p)"
   ]
  },
  {
   "cell_type": "code",
   "execution_count": 76,
   "id": "cb6d70f1",
   "metadata": {},
   "outputs": [
    {
     "data": {
      "text/plain": [
       "[x0*x11*x2,\n",
       " x0*x14*x2,\n",
       " x0*x11*x5,\n",
       " x0*x14*x5,\n",
       " x0*x10*x13,\n",
       " x0*x11*x12,\n",
       " x0*x11*x14,\n",
       " x0*x12*x14,\n",
       " x1*x13*x3,\n",
       " x1*x4*x5,\n",
       " x1*x10*x4,\n",
       " x1*x12*x4,\n",
       " x1*x14*x4,\n",
       " x1*x13*x5,\n",
       " x1*x10*x8,\n",
       " x1*x10*x12,\n",
       " x1*x12*x13,\n",
       " x11*x2*x5,\n",
       " x14*x2*x5,\n",
       " x10*x13*x2,\n",
       " x11*x12*x2,\n",
       " x11*x14*x2,\n",
       " x12*x14*x2,\n",
       " x10*x3*x4,\n",
       " x13*x3*x4,\n",
       " x10*x13*x3,\n",
       " x10*x13*x4,\n",
       " x10*x14*x4,\n",
       " x11*x14*x5,\n",
       " x12*x14*x5,\n",
       " x10*x12*x13,\n",
       " x10*x13*x14,\n",
       " x11*x12*x14]"
      ]
     },
     "execution_count": 76,
     "metadata": {},
     "output_type": "execute_result"
    }
   ],
   "source": [
    "valid"
   ]
  },
  {
   "cell_type": "code",
   "execution_count": 77,
   "id": "48c895f5",
   "metadata": {},
   "outputs": [
    {
     "data": {
      "text/plain": [
       "33"
      ]
     },
     "execution_count": 77,
     "metadata": {},
     "output_type": "execute_result"
    }
   ],
   "source": [
    "len(valid)"
   ]
  },
  {
   "cell_type": "code",
   "execution_count": 78,
   "id": "894451c0",
   "metadata": {},
   "outputs": [
    {
     "data": {
      "text/plain": [
       "defaultdict(int,\n",
       "            {x12: 0.532391261422724,\n",
       "             x9: 0.549565172107172,\n",
       "             x8: 0.625315070952329,\n",
       "             x4: 0.326430334623607,\n",
       "             x6: 0.652787841229528,\n",
       "             x7: 0.758094285119563,\n",
       "             x11: 0.404163878920092,\n",
       "             x10: 0.218402516954374,\n",
       "             x13: 0.155200861368594,\n",
       "             x14: 0.378310008055368,\n",
       "             x3: 0.267737675127967,\n",
       "             x5: 0.568062617531193,\n",
       "             x1: 0.107318006083469,\n",
       "             x2: 0.461424070417243,\n",
       "             x0: 0.490729853525285})"
      ]
     },
     "execution_count": 78,
     "metadata": {},
     "output_type": "execute_result"
    }
   ],
   "source": [
    "coeff=J.as_coefficients_dict()\n",
    "coeff"
   ]
  },
  {
   "cell_type": "code",
   "execution_count": 79,
   "id": "9d3b845d",
   "metadata": {},
   "outputs": [],
   "source": [
    "def minw(coeff):# find the next w to add to path\n",
    "    minimum=min(coeff.values())\n",
    "    for i in coeff.keys():\n",
    "        \n",
    "        if coeff[i]==minimum:\n",
    "            return i\n",
    "def appliestocond(s):#s does not contain a prohibited w\n",
    "    if type(s)==int: return True\n",
    "    else:\n",
    "        \n",
    "        args=s.args\n",
    "        for i in cond:\n",
    "            test=True\n",
    "            argi=i.args\n",
    "            for j in argi:\n",
    "                if not(j in args):\n",
    "                    test=False\n",
    "                    break\n",
    "            if test:\n",
    "                return False\n",
    "        return True\n",
    "                \n",
    "                \n",
    "    \n",
    "    \n",
    "    \n",
    "    \n",
    "    #test=True\n",
    "    #for j in cond:\n",
    "        #if s.subs(j,1)!=s:\n",
    "            #print(j)\n",
    "            #test=False\n",
    "            #break\n",
    "    \n",
    "    #return test\n",
    "\n",
    "            \n",
    "\n",
    "    \n",
    "def pathof(coeff):#the path resulting from the coeff\n",
    "    coeff1=coeff.copy()\n",
    "    #print(coeff1)\n",
    "    s=1\n",
    "    while coeff1:\n",
    "        wmin= minw(coeff1)\n",
    "        s1=s*wmin\n",
    "        s1=power21(s1)\n",
    "        #print(s1 , appliestocond(s1), not(cycle(s1)), testpath(s1))\n",
    "        if appliestocond(s1) and ((not(cycle(s1))) or testpath(s1)) :\n",
    "            s=s1\n",
    "        del coeff1[wmin]\n",
    "    return s\n",
    "     \n",
    "            \n",
    "def testpath(s):#contains n x's\n",
    "    #print(s.args,n)\n",
    "    return len(s.args)==n\n",
    "\n",
    "def fullpath(coeff):\n",
    "    \n",
    "    minimum=minw(coeff)\n",
    "    s=pathof(coeff)\n",
    "    #print(coeff)\n",
    "    if testpath(s):\n",
    "        return s\n",
    "    else:\n",
    "        \n",
    "        del coeff[minimum]\n",
    "        cond.add(minimum)\n",
    "        #print(cond)\n",
    "        return fullpath(coeff)\n",
    "    \n",
    "    \n",
    "\n",
    "def cycle(s):\n",
    "    l=[]\n",
    "    for i in s.args:\n",
    "        l.append(xcouples[i])\n",
    "    #print(l)\n",
    "    path=[]\n",
    "    path.extend(l[0])\n",
    "    del l[0]\n",
    "    while(l):\n",
    "        exists=False\n",
    "        for i in l:\n",
    "            \n",
    "\n",
    "            if path[-1] == i[0]:\n",
    "                exists=True\n",
    "                \n",
    "                path.append(i[1])\n",
    "                del l[l.index(i)]\n",
    "                #print(path)\n",
    "                if path[-1] in path [:-2]: return True\n",
    "                break\n",
    "\n",
    "         \n",
    "            elif path[-1] == i[1]:\n",
    "                exists=True\n",
    "                path.append(i[0])\n",
    "                del l[l.index(i)]\n",
    "                #print(path)\n",
    "                if path[-1] in path [:-2]: return True\n",
    "                break\n",
    "        #print(path) \n",
    "        #print(exists)\n",
    "        if exists==False:\n",
    "            try : \n",
    "                path=[]\n",
    "                path.extend(l[0])\n",
    "                del l[0]\n",
    "            except:\n",
    "                pass\n",
    "    return False\n",
    "def ultimatefullpath():\n",
    "    l=[]\n",
    "    test=True\n",
    "    coeff=J.as_coefficients_dict()\n",
    "    \n",
    "    while test:\n",
    "        try:\n",
    "            \n",
    "            print(len(coeff))\n",
    "            solution=fullpath(coeff)\n",
    "            if type(solution)!= int :\n",
    "                l.append(solution)\n",
    "            del coeff[minw(coeff)]\n",
    "        except:\n",
    "            \n",
    "            test=False\n",
    "            print(test)\n",
    "    return l\n",
    "\n",
    "\n"
   ]
  },
  {
   "cell_type": "code",
   "execution_count": 80,
   "id": "673fd964",
   "metadata": {},
   "outputs": [
    {
     "name": "stdout",
     "output_type": "stream",
     "text": [
      "15\n",
      "False\n"
     ]
    },
    {
     "data": {
      "text/plain": [
       "[]"
      ]
     },
     "execution_count": 80,
     "metadata": {},
     "output_type": "execute_result"
    }
   ],
   "source": [
    "l=ultimatefullpath()\n",
    "l"
   ]
  },
  {
   "cell_type": "code",
   "execution_count": 81,
   "id": "e7fdd894",
   "metadata": {},
   "outputs": [],
   "source": [
    "def finalpath(l):\n",
    "    distances=[]\n",
    "    paths=[]\n",
    "    for solution in l:\n",
    "        if type (solution)==int:\n",
    "            print('error')\n",
    "        else:\n",
    "            road=[]\n",
    "            for x in solution.args:\n",
    "                road.append(xcouples[x])\n",
    "            path=[]\n",
    "            #print(road)\n",
    "            path.extend(road[0])\n",
    "            del road[0]\n",
    "            #print(road)\n",
    "            while road:\n",
    "                test=True\n",
    "                for i in range (len(road)):\n",
    "                    #print(i, road[i])\n",
    "                    if path[-1] in road[i]:\n",
    "                        test=False\n",
    "                        if path[-1]==road[i][0]:\n",
    "                            path.append(road[i][1])\n",
    "\n",
    "                        else: path.append(road[i][0])\n",
    "                        del road[i]\n",
    "                        break\n",
    "                if test:\n",
    "                    print('error: point',path[-1],' not existing')\n",
    "                    break\n",
    "            #print(path)\n",
    "            paths.append(path)\n",
    "            distances.append(custompath(p,path))\n",
    "    print(distances)\n",
    "\n",
    "    print(paths)\n",
    "    mindist= min(distances)\n",
    "    solution=paths[distances.index(mindist)]\n",
    "    return solution\n",
    "\n"
   ]
  },
  {
   "cell_type": "code",
   "execution_count": 82,
   "id": "81f52808",
   "metadata": {},
   "outputs": [
    {
     "name": "stdout",
     "output_type": "stream",
     "text": [
      "[]\n",
      "[]\n"
     ]
    },
    {
     "ename": "ValueError",
     "evalue": "min() arg is an empty sequence",
     "output_type": "error",
     "traceback": [
      "\u001b[1;31m---------------------------------------------------------------------------\u001b[0m",
      "\u001b[1;31mValueError\u001b[0m                                Traceback (most recent call last)",
      "Cell \u001b[1;32mIn[82], line 1\u001b[0m\n\u001b[1;32m----> 1\u001b[0m path\u001b[38;5;241m=\u001b[39m \u001b[43mfinalpath\u001b[49m\u001b[43m(\u001b[49m\u001b[43ml\u001b[49m\u001b[43m)\u001b[49m\n",
      "Cell \u001b[1;32mIn[81], line 37\u001b[0m, in \u001b[0;36mfinalpath\u001b[1;34m(l)\u001b[0m\n\u001b[0;32m     34\u001b[0m \u001b[38;5;28mprint\u001b[39m(distances)\n\u001b[0;32m     36\u001b[0m \u001b[38;5;28mprint\u001b[39m(paths)\n\u001b[1;32m---> 37\u001b[0m mindist\u001b[38;5;241m=\u001b[39m \u001b[38;5;28;43mmin\u001b[39;49m\u001b[43m(\u001b[49m\u001b[43mdistances\u001b[49m\u001b[43m)\u001b[49m\n\u001b[0;32m     38\u001b[0m solution\u001b[38;5;241m=\u001b[39mpaths[distances\u001b[38;5;241m.\u001b[39mindex(mindist)]\n\u001b[0;32m     39\u001b[0m \u001b[38;5;28;01mreturn\u001b[39;00m solution\n",
      "\u001b[1;31mValueError\u001b[0m: min() arg is an empty sequence"
     ]
    }
   ],
   "source": [
    "path= finalpath(l)"
   ]
  },
  {
   "cell_type": "code",
   "execution_count": 71,
   "id": "09f0dd98",
   "metadata": {},
   "outputs": [
    {
     "data": {
      "image/png": "[encoded data removed]",
      "text/plain": [
       "<Figure size 640x480 with 1 Axes>"
      ]
     },
     "metadata": {},
     "output_type": "display_data"
    }
   ],
   "source": [
    "printpath(p,path)"
   ]
  },
  {
   "cell_type": "code",
   "execution_count": 72,
   "id": "e300ce91",
   "metadata": {},
   "outputs": [
    {
     "data": {
      "text/plain": [
       "2.0027490872166185"
      ]
     },
     "execution_count": 72,
     "metadata": {},
     "output_type": "execute_result"
    }
   ],
   "source": [
    "custompath(p,[0,1,3,5,4,2,0])#mypath"
   ]
  },
  {
   "cell_type": "code",
   "execution_count": 73,
   "id": "6b47f728",
   "metadata": {},
   "outputs": [
    {
     "data": {
      "text/plain": [
       "2.129417009396119"
      ]
     },
     "execution_count": 73,
     "metadata": {},
     "output_type": "execute_result"
    }
   ],
   "source": [
    "custompath(p,path)#pc's"
   ]
  },
  {
   "cell_type": "code",
   "execution_count": null,
   "id": "36ec01f8",
   "metadata": {},
   "outputs": [],
   "source": [
    "def getCity():\n",
    "    cities = []\n",
    "    f = open(\"wi29.tsp\")\n",
    "    for i in f.readlines():\n",
    "        if not( \"EOF\" in i):\n",
    "            \n",
    "            node_city_val = i.split()\n",
    "            cities.append((float(node_city_val[1]), float(node_city_val[2])))\n",
    "    return cities"
   ]
  },
  {
   "cell_type": "code",
   "execution_count": null,
   "id": "6f44042d",
   "metadata": {},
   "outputs": [],
   "source": [
    "p=getCity()\n",
    "p"
   ]
  },
  {
   "cell_type": "code",
   "execution_count": null,
   "id": "f1c5d638",
   "metadata": {},
   "outputs": [],
   "source": [
    "plot(p)"
   ]
  },
  {
   "cell_type": "code",
   "execution_count": null,
   "id": "778b2305",
   "metadata": {},
   "outputs": [],
   "source": [
    "n=len(p)\n",
    "couples=[(i,j) for i in range(n) for j in range(i+1,n)]\n",
    "distances=[dist(p,i,j) for i in range(n) for j in range(i+1,n)]\n",
    "N=len(couples)#n*(n-1)/2\n",
    "symbols_dict=createvars(N)\n",
    "locals().update(symbols_dict)\n",
    "vars=list(symbols_dict.values())\n",
    "err=0.001\n",
    "xcouples=dict((vars[var],couples[var]) for var in range (len(vars)))\n",
    "\n"
   ]
  },
  {
   "cell_type": "code",
   "execution_count": null,
   "id": "35734696",
   "metadata": {},
   "outputs": [],
   "source": [
    "cond =fullcond()\n",
    "cond"
   ]
  },
  {
   "cell_type": "code",
   "execution_count": null,
   "id": "ba1f7ed2",
   "metadata": {},
   "outputs": [],
   "source": []
  }
 ],
 "metadata": {
  "kernelspec": {
   "display_name": "Python 3 (ipykernel)",
   "language": "python",
   "name": "python3"
  },
  "language_info": {
   "codemirror_mode": {
    "name": "ipython",
    "version": 3
   },
   "file_extension": ".py",
   "mimetype": "text/x-python",
   "name": "python",
   "nbconvert_exporter": "python",
   "pygments_lexer": "ipython3",
   "version": "3.9.16"
  }
 },
 "nbformat": 4,
 "nbformat_minor": 5
}
