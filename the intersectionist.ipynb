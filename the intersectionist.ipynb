{
 "cells": [
  {
   "cell_type": "code",
   "execution_count": 1,
   "id": "000dd598",
   "metadata": {},
   "outputs": [],
   "source": [
    "from sympy import *\n",
    "import sympy\n",
    "import numpy as np\n",
    "import matplotlib.pyplot as plt\n",
    "import time \n",
    "import shapely\n",
    "from shapely.geometry import LineString, Point\n",
    "from sympy import *\n",
    "from sympy import diff as D\n"
   ]
  },
  {
   "cell_type": "code",
   "execution_count": 2,
   "id": "7cfd50fa",
   "metadata": {},
   "outputs": [],
   "source": [
    "\n",
    "def createvars(n):\n",
    "\n",
    "    symbols_dict = dict(('x%d'%k, symbols('x%d'%k)) for k in range(n))\n",
    "    return  symbols_dict"
   ]
  },
  {
   "cell_type": "code",
   "execution_count": 3,
   "id": "f7c4c60f",
   "metadata": {},
   "outputs": [],
   "source": [
    "def createrandomp(n):\n",
    "    \n",
    "\n",
    "    p=[]\n",
    "    for i in range(n):\n",
    "        while True:\n",
    "            a=np.random.random()\n",
    "            b=np.random.random()\n",
    "\n",
    "            if not((a,b) in p):\n",
    "                p.append((a,b))\n",
    "                break\n",
    "    return p\n",
    "\n",
    "def plot(p):\n",
    "    x=[i[0] for i in p]\n",
    "    y=[i[1] for i in p]\n",
    "    n= [i for i in range (len(p))]\n",
    "    fig, ax = plt.subplots()\n",
    "    ax.scatter(x, y)\n",
    "\n",
    "    for i, txt in enumerate(n):\n",
    "        ax.annotate(txt, (x[i], y[i]))\n",
    "def dist(p,i,j):\n",
    "    return (((p[i][0]-p[j][0])**2)+((p[i][1]-p[j][1])**2))**0.5\n",
    "\n",
    "\n",
    "def custompath(p,path):\n",
    "    d=0\n",
    "    for i in range(0,len(path)):\n",
    "        d+=dist(p,path[i],path[i-1])\n",
    "        #d+=dist(p,path[-1], path[0])\n",
    "    return d\n",
    "            \n",
    "def printpath(p,path):\n",
    "    x=[i[0] for i in p]\n",
    "    y=[i[1] for i in p]\n",
    "    n= [i for i in range (len(p))]\n",
    "    fig, ax = plt.subplots()\n",
    "    ax.scatter(x, y)\n",
    "\n",
    "    for i, txt in enumerate(n):\n",
    "        ax.annotate(txt, (x[i], y[i]))\n",
    "    x=[p[i][0] for i in path]\n",
    "    x.append(x[0])\n",
    "    y=[p[i][1] for i in path]\n",
    "    y.append(y[0])\n",
    "    #plt.plot(x,y)\n",
    "    #plt.plot(x, y, 'ro', 'k')\n",
    "    plt.plot(x, y, 'r', zorder=1, lw=3)\n",
    "    plt.scatter(x, y, s=120, zorder=2)\n",
    "def intersect (p , i , j, k, l):\n",
    "    \n",
    "    A = p[i]\n",
    "    B = p[j]\n",
    "\n",
    "    #line 2\n",
    "    C = p[k]\n",
    "    D = p[l]\n",
    "\n",
    "    line1 = LineString([A, B])\n",
    "    line2 = LineString([C, D])\n",
    "\n",
    "    int_pt = line1.intersection(line2)\n",
    "\n",
    "    if int_pt.is_empty: \n",
    "        #print('empty')\n",
    "        return False\n",
    "    if type(int_pt)==shapely.geometry.linestring.LineString: \n",
    "        #print('line',int_pt)\n",
    "        return True\n",
    "    elif type(int_pt)==shapely.geometry.point.Point:\n",
    "        point_of_intersection = int_pt.x, int_pt.y\n",
    "        \n",
    "        #print('point')\n",
    "  \n",
    "        if point_of_intersection in (A,B,C,D): \n",
    "            \n",
    "            if len((A,B,C,D))==len(set((A,B,C,D))): return True\n",
    "            else: return False\n",
    "\n",
    "        else: return True    "
   ]
  },
  {
   "cell_type": "code",
   "execution_count": 307,
   "id": "05c0badd",
   "metadata": {},
   "outputs": [
    {
     "data": {
      "image/png": "[encoded data removed]",
      "text/plain": [
       "<Figure size 640x480 with 1 Axes>"
      ]
     },
     "metadata": {},
     "output_type": "display_data"
    }
   ],
   "source": [
    "n=6\n",
    "p=createrandomp(n)\n",
    "plot(p)"
   ]
  },
  {
   "cell_type": "code",
   "execution_count": 308,
   "id": "7b9593e9",
   "metadata": {},
   "outputs": [
    {
     "data": {
      "text/plain": [
       "{x0: (0, 1),\n",
       " x1: (0, 2),\n",
       " x2: (0, 3),\n",
       " x3: (0, 4),\n",
       " x4: (0, 5),\n",
       " x5: (1, 2),\n",
       " x6: (1, 3),\n",
       " x7: (1, 4),\n",
       " x8: (1, 5),\n",
       " x9: (2, 3),\n",
       " x10: (2, 4),\n",
       " x11: (2, 5),\n",
       " x12: (3, 4),\n",
       " x13: (3, 5),\n",
       " x14: (4, 5)}"
      ]
     },
     "execution_count": 308,
     "metadata": {},
     "output_type": "execute_result"
    }
   ],
   "source": [
    "couples=[(i,j) for i in range(n) for j in range(i+1,n)]\n",
    "distances=[dist(p,i,j) for i in range(n) for j in range(i+1,n)]\n",
    "N=len(couples)#n*(n-1)/2\n",
    "symbols_dict=createvars(N)\n",
    "locals().update(symbols_dict)\n",
    "vars=list(symbols_dict.values())\n",
    "err=0.001\n",
    "xcouples=dict((vars[var],couples[var]) for var in range (len(vars)))\n",
    "\n",
    "xcouples"
   ]
  },
  {
   "cell_type": "code",
   "execution_count": 309,
   "id": "9ed48cf3",
   "metadata": {},
   "outputs": [
    {
     "data": {
      "text/plain": [
       "{'x0': x0,\n",
       " 'x1': x1,\n",
       " 'x2': x2,\n",
       " 'x3': x3,\n",
       " 'x4': x4,\n",
       " 'x5': x5,\n",
       " 'x6': x6,\n",
       " 'x7': x7,\n",
       " 'x8': x8,\n",
       " 'x9': x9,\n",
       " 'x10': x10,\n",
       " 'x11': x11,\n",
       " 'x12': x12,\n",
       " 'x13': x13,\n",
       " 'x14': x14}"
      ]
     },
     "execution_count": 309,
     "metadata": {},
     "output_type": "execute_result"
    }
   ],
   "source": [
    "symbols_dict"
   ]
  },
  {
   "cell_type": "code",
   "execution_count": 310,
   "id": "5a36c3a9",
   "metadata": {},
   "outputs": [
    {
     "data": {
      "text/plain": [
       "{x0: set(),\n",
       " x1: set(),\n",
       " x2: set(),\n",
       " x3: set(),\n",
       " x4: set(),\n",
       " x5: set(),\n",
       " x6: set(),\n",
       " x7: set(),\n",
       " x8: set(),\n",
       " x9: set(),\n",
       " x10: set(),\n",
       " x11: set(),\n",
       " x12: set(),\n",
       " x13: set(),\n",
       " x14: set()}"
      ]
     },
     "execution_count": 310,
     "metadata": {},
     "output_type": "execute_result"
    }
   ],
   "source": [
    "dict((var,set()) for var in vars)"
   ]
  },
  {
   "cell_type": "code",
   "execution_count": 311,
   "id": "feba9e7e",
   "metadata": {},
   "outputs": [],
   "source": [
    "def intersectioncond():\n",
    "    prohibited=dict((var,set()) for var in vars)\n",
    "    for i in range (len(p)):\n",
    "            for j in range (len(p)):\n",
    "                if j!=i:\n",
    "                    for k in range(len(p)):\n",
    "                        for l in range(len(p)):\n",
    "                            if k!=l:\n",
    "                                #print(i,j,k,l)\n",
    "                                if len(set((i,j,k,l)))>2:\n",
    "                                    if intersect(p,i,j,k,l):\n",
    "                                        #print('done')\n",
    "                                        prohibited[vars[couples.index((min(i,j),max(i,j)))]].add(vars[couples.index((min(k,l),max(k,l)))])\n",
    "                                        prohibited[vars[couples.index((min(k,l),max(k,l)))]].add(vars[couples.index((min(i,j),max(i,j)))])\n",
    "    #prohibited=list(set(prohibited))\n",
    "    return prohibited\n"
   ]
  },
  {
   "cell_type": "code",
   "execution_count": 312,
   "id": "d587e633",
   "metadata": {},
   "outputs": [
    {
     "data": {
      "text/plain": [
       "{x0: {x10},\n",
       " x1: set(),\n",
       " x2: {x11, x8},\n",
       " x3: set(),\n",
       " x4: {x12},\n",
       " x5: set(),\n",
       " x6: set(),\n",
       " x7: set(),\n",
       " x8: {x12, x2, x9},\n",
       " x9: {x8},\n",
       " x10: {x0},\n",
       " x11: {x12, x2},\n",
       " x12: {x11, x4, x8},\n",
       " x13: set(),\n",
       " x14: set()}"
      ]
     },
     "execution_count": 312,
     "metadata": {},
     "output_type": "execute_result"
    }
   ],
   "source": [
    "intersectioncond()"
   ]
  },
  {
   "cell_type": "code",
   "execution_count": 313,
   "id": "c5167233",
   "metadata": {},
   "outputs": [],
   "source": [
    "def priority():\n",
    "    def linecost(dist, numintersection):\n",
    "        return dist*(numintersection+1)\n",
    "    intersections=intersectioncond()\n",
    "    priority=dict()\n",
    "    for i in range(len(vars)):\n",
    "        priority[vars[i]]= linecost(distances [i],len(intersections[vars[i]]))\n",
    "    return priority\n",
    "    "
   ]
  },
  {
   "cell_type": "code",
   "execution_count": 314,
   "id": "1a5edbbb",
   "metadata": {},
   "outputs": [],
   "source": [
    "order= priority()"
   ]
  },
  {
   "cell_type": "code",
   "execution_count": 315,
   "id": "a5838a70",
   "metadata": {},
   "outputs": [],
   "source": [
    "def prioritylist():\n",
    "    plist=[]\n",
    "    order= priority()\n",
    "    while order:\n",
    "        m=min(order.values())\n",
    "        for var in order.keys():\n",
    "            if order[var]==m:\n",
    "                break\n",
    "\n",
    "        print(var,couples[vars.index(var)], order[var])\n",
    "        plist.append((couples[vars.index(var)], order[var],var))\n",
    "        del order[var]\n",
    "    return plist"
   ]
  },
  {
   "cell_type": "code",
   "execution_count": 316,
   "id": "dec4d8e0",
   "metadata": {},
   "outputs": [
    {
     "name": "stdout",
     "output_type": "stream",
     "text": [
      "x5 (1, 2) 0.043110881755678086\n",
      "x3 (0, 4) 0.1153348411746518\n",
      "x13 (3, 5) 0.12874886046287518\n",
      "x1 (0, 2) 0.3442956166781276\n",
      "x7 (1, 4) 0.49287025658094424\n",
      "x0 (0, 1) 0.7715513403099993\n",
      "x14 (4, 5) 0.8401292670565521\n",
      "x10 (2, 4) 0.9055058283096806\n",
      "x6 (1, 3) 0.9158347177670644\n",
      "x4 (0, 5) 1.6301720771242272\n",
      "x9 (2, 3) 1.7697795608094093\n",
      "x2 (0, 3) 2.3509321455935144\n",
      "x11 (2, 5) 2.8801693758569193\n",
      "x12 (3, 4) 3.303255465835614\n",
      "x8 (1, 5) 3.976469294995245\n"
     ]
    }
   ],
   "source": [
    "plist=prioritylist()"
   ]
  },
  {
   "cell_type": "code",
   "execution_count": 317,
   "id": "be93019e",
   "metadata": {},
   "outputs": [
    {
     "data": {
      "text/plain": [
       "[((1, 2), 0.043110881755678086, x5),\n",
       " ((0, 4), 0.1153348411746518, x3),\n",
       " ((3, 5), 0.12874886046287518, x13),\n",
       " ((0, 2), 0.3442956166781276, x1),\n",
       " ((1, 4), 0.49287025658094424, x7),\n",
       " ((0, 1), 0.7715513403099993, x0),\n",
       " ((4, 5), 0.8401292670565521, x14),\n",
       " ((2, 4), 0.9055058283096806, x10),\n",
       " ((1, 3), 0.9158347177670644, x6),\n",
       " ((0, 5), 1.6301720771242272, x4),\n",
       " ((2, 3), 1.7697795608094093, x9),\n",
       " ((0, 3), 2.3509321455935144, x2),\n",
       " ((2, 5), 2.8801693758569193, x11),\n",
       " ((3, 4), 3.303255465835614, x12),\n",
       " ((1, 5), 3.976469294995245, x8)]"
      ]
     },
     "execution_count": 317,
     "metadata": {},
     "output_type": "execute_result"
    }
   ],
   "source": [
    "plist"
   ]
  },
  {
   "cell_type": "code",
   "execution_count": 323,
   "id": "0c0480cd",
   "metadata": {},
   "outputs": [
    {
     "name": "stdout",
     "output_type": "stream",
     "text": [
      "((1, 2), 0.043110881755678086, x5)\n",
      "x5\n",
      "added\n",
      "((0, 4), 0.1153348411746518, x3)\n",
      "x3\n",
      "added\n",
      "((3, 5), 0.12874886046287518, x13)\n",
      "x13\n",
      "added\n",
      "((0, 2), 0.3442956166781276, x1)\n",
      "x1\n",
      "added\n",
      "((1, 4), 0.49287025658094424, x7)\n",
      "x7\n",
      "added\n",
      "((0, 1), 0.7715513403099993, x0)\n",
      "((4, 5), 0.8401292670565521, x14)\n",
      "((2, 4), 0.9055058283096806, x10)\n",
      "((1, 3), 0.9158347177670644, x6)\n",
      "((0, 5), 1.6301720771242272, x4)\n",
      "((2, 3), 1.7697795608094093, x9)\n",
      "((0, 3), 2.3509321455935144, x2)\n",
      "((2, 5), 2.8801693758569193, x11)\n",
      "((3, 4), 3.303255465835614, x12)\n",
      "((1, 5), 3.976469294995245, x8)\n",
      "[x5, x5, x3, x13, x1, x7]\n",
      "1.124360456652277\n"
     ]
    }
   ],
   "source": [
    "\n",
    "added=[]\n",
    "optimalpath=[plist[0][2]]\n",
    "optimaldistance=0\n",
    "def cycle(s):#s=[x1,x3,...]\n",
    "    l=[]\n",
    "    for i in s:\n",
    "        l.append(xcouples[i])\n",
    "    #print(l)\n",
    "    path=[]\n",
    "    path.extend(l[0])\n",
    "    del l[0]\n",
    "    while(l):\n",
    "        exists=False\n",
    "        for i in l:\n",
    "            \n",
    "\n",
    "            if path[-1] == i[0]:\n",
    "                exists=True\n",
    "                \n",
    "                path.append(i[1])\n",
    "                del l[l.index(i)]\n",
    "                #print(path)\n",
    "                if path[-1] in path [:-2]: return True\n",
    "                break\n",
    "\n",
    "         \n",
    "            elif path[-1] == i[1]:\n",
    "                exists=True\n",
    "                path.append(i[0])\n",
    "                del l[l.index(i)]\n",
    "                #print(path)\n",
    "                if path[-1] in path [:-2]: return True\n",
    "                break\n",
    "        #print(path) \n",
    "        print(exists)\n",
    "        if exists==False:\n",
    "            try : \n",
    "                path=[]\n",
    "                path.extend(l[0])\n",
    "                del l[0]\n",
    "            except:\n",
    "                pass\n",
    "    return False\n",
    "def addingtest(couple):#no cycle nor pt repeats 3 times\n",
    "    if len(optimalpath)==n+1: return False\n",
    "    if len(optimalpath)==n:\n",
    "        if added.count(couple[0])==1 and added.count(couple[1])==1:\n",
    "            return True\n",
    "    else:\n",
    "        for x in xcouples.keys():\n",
    "            if xcouples[x]==couple:\n",
    "                break\n",
    "        print(x)    \n",
    "        testpath=optimalpath+[x]\n",
    "        if added.count(couple[0])<2 and added.count(couple[1])<2 and cycle(testpath):\n",
    "            return True\n",
    "    return False\n",
    "    \n",
    "for i in range (len(plist)):\n",
    "    print(plist[i])\n",
    "    couple=plist[i][0]\n",
    "    if  addingtest(couple):#no cycle\n",
    "        print('added')\n",
    "        added.append(couple[0])\n",
    "        added.append(couple[1])\n",
    "        optimalpath.append(plist[i][2])\n",
    "        optimaldistance+=plist[i][1]\n",
    "print(optimalpath)\n",
    "print(optimaldistance)"
   ]
  },
  {
   "cell_type": "code",
   "execution_count": 324,
   "id": "ed761788",
   "metadata": {},
   "outputs": [
    {
     "data": {
      "image/png": "[encoded data removed]",
      "text/plain": [
       "<Figure size 640x480 with 1 Axes>"
      ]
     },
     "metadata": {},
     "output_type": "display_data"
    }
   ],
   "source": [
    "plot(p)"
   ]
  },
  {
   "cell_type": "code",
   "execution_count": 325,
   "id": "273a2af3",
   "metadata": {},
   "outputs": [
    {
     "data": {
      "text/plain": [
       "[x5, x3, x13, x1, x7]"
      ]
     },
     "execution_count": 325,
     "metadata": {},
     "output_type": "execute_result"
    }
   ],
   "source": [
    "del optimalpath[0]\n",
    "optimalpath"
   ]
  },
  {
   "cell_type": "code",
   "execution_count": 326,
   "id": "ad493597",
   "metadata": {},
   "outputs": [
    {
     "name": "stdout",
     "output_type": "stream",
     "text": [
      "error: point 0  not existing\n",
      "[0.9956115961894016]\n",
      "[[0, 2, 1, 4, 0]]\n"
     ]
    }
   ],
   "source": [
    "def createl():\n",
    "    path=1\n",
    "    for i in optimalpath:\n",
    "        path*=i\n",
    "    return [path]\n",
    "def finalpath(l):\n",
    "    distances=[]\n",
    "    paths=[]\n",
    "    for solution in l:\n",
    "        if type (solution)==int:\n",
    "            print('error')\n",
    "        else:\n",
    "            road=[]\n",
    "            for x in solution.args:\n",
    "                road.append(xcouples[x])\n",
    "            path=[]\n",
    "            #print(road)\n",
    "            path.extend(road[0])\n",
    "            del road[0]\n",
    "            #print(road)\n",
    "            while road:\n",
    "                test=True\n",
    "                for i in range (len(road)):\n",
    "                    #print(i, road[i])\n",
    "                    if path[-1] in road[i]:\n",
    "                        test=False\n",
    "                        if path[-1]==road[i][0]:\n",
    "                            path.append(road[i][1])\n",
    "\n",
    "                        else: path.append(road[i][0])\n",
    "                        del road[i]\n",
    "                        break\n",
    "                if test:\n",
    "                    print('error: point',path[-1],' not existing')\n",
    "                    break\n",
    "            #print(path)\n",
    "            paths.append(path)\n",
    "            distances.append(custompath(p,path))\n",
    "    print(distances)\n",
    "\n",
    "    print(paths)\n",
    "    mindist= min(distances)\n",
    "    solution=paths[distances.index(mindist)]\n",
    "    return solution\n",
    "l=createl()\n",
    "path=finalpath(l)"
   ]
  },
  {
   "cell_type": "code",
   "execution_count": 327,
   "id": "dfbf3bcc",
   "metadata": {},
   "outputs": [
    {
     "data": {
      "image/png": "[encoded data removed]",
      "text/plain": [
       "<Figure size 640x480 with 1 Axes>"
      ]
     },
     "metadata": {},
     "output_type": "display_data"
    }
   ],
   "source": [
    "printpath(p,path)"
   ]
  },
  {
   "cell_type": "code",
   "execution_count": 266,
   "id": "836de100",
   "metadata": {},
   "outputs": [
    {
     "data": {
      "text/plain": [
       "2.519971737292008"
      ]
     },
     "execution_count": 266,
     "metadata": {},
     "output_type": "execute_result"
    }
   ],
   "source": [
    "custompath(p,path) #algo attempt"
   ]
  }
 ],
 "metadata": {
  "kernelspec": {
   "display_name": "Python 3 (ipykernel)",
   "language": "python",
   "name": "python3"
  },
  "language_info": {
   "codemirror_mode": {
    "name": "ipython",
    "version": 3
   },
   "file_extension": ".py",
   "mimetype": "text/x-python",
   "name": "python",
   "nbconvert_exporter": "python",
   "pygments_lexer": "ipython3",
   "version": "3.9.16"
  }
 },
 "nbformat": 4,
 "nbformat_minor": 5
}
