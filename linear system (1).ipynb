{
 "cells": [
  {
   "cell_type": "code",
   "execution_count": 32,
   "id": "64a69ec3",
   "metadata": {},
   "outputs": [],
   "source": [
    "import numpy as np"
   ]
  },
  {
   "cell_type": "code",
   "execution_count": 33,
   "id": "01b16e0e",
   "metadata": {},
   "outputs": [],
   "source": [
    "phi=0\n",
    "a=[[2,0,0,0,0,0,-1,0,0,-1],[0,2,0,0,0,0,-1,-1,0,0],[0,0,4,0,0,0,0,-1,-1,0],[0,0,0,2*(2**0.5),0,0,0,0,-1,-1],[0,0,0,0,2*(5**0.5),0,-1,0,-1,0],[0,0,0,0,0,0,0,-1,0,-1],[0]*10,[0]*10,[0]*10,[0]*10]"
   ]
  },
  {
   "cell_type": "code",
   "execution_count": 34,
   "id": "6d67df35",
   "metadata": {},
   "outputs": [
    {
     "name": "stdout",
     "output_type": "stream",
     "text": [
      "10\n",
      "10\n",
      "10\n",
      "10\n",
      "10\n",
      "10\n",
      "10\n",
      "10\n",
      "10\n",
      "10\n"
     ]
    }
   ],
   "source": [
    "for i in range(len(a)):\n",
    "    print (len(a[i]))"
   ]
  },
  {
   "cell_type": "code",
   "execution_count": 35,
   "id": "7307d8e9",
   "metadata": {},
   "outputs": [],
   "source": [
    "a=np.array(a)"
   ]
  },
  {
   "cell_type": "code",
   "execution_count": 36,
   "id": "208ac013",
   "metadata": {},
   "outputs": [],
   "source": [
    "a=a.round(3)"
   ]
  },
  {
   "cell_type": "code",
   "execution_count": 37,
   "id": "ac26e78a",
   "metadata": {},
   "outputs": [
    {
     "data": {
      "text/plain": [
       "array([[ 2.   ,  0.   ,  0.   ,  0.   ,  0.   ,  0.   , -1.   ,  0.   ,\n",
       "         0.   , -1.   ],\n",
       "       [ 0.   ,  2.   ,  0.   ,  0.   ,  0.   ,  0.   , -1.   , -1.   ,\n",
       "         0.   ,  0.   ],\n",
       "       [ 0.   ,  0.   ,  4.   ,  0.   ,  0.   ,  0.   ,  0.   , -1.   ,\n",
       "        -1.   ,  0.   ],\n",
       "       [ 0.   ,  0.   ,  0.   ,  2.828,  0.   ,  0.   ,  0.   ,  0.   ,\n",
       "        -1.   , -1.   ],\n",
       "       [ 0.   ,  0.   ,  0.   ,  0.   ,  4.472,  0.   , -1.   ,  0.   ,\n",
       "        -1.   ,  0.   ],\n",
       "       [ 0.   ,  0.   ,  0.   ,  0.   ,  0.   ,  0.   ,  0.   , -1.   ,\n",
       "         0.   , -1.   ],\n",
       "       [ 0.   ,  0.   ,  0.   ,  0.   ,  0.   ,  0.   ,  0.   ,  0.   ,\n",
       "         0.   ,  0.   ],\n",
       "       [ 0.   ,  0.   ,  0.   ,  0.   ,  0.   ,  0.   ,  0.   ,  0.   ,\n",
       "         0.   ,  0.   ],\n",
       "       [ 0.   ,  0.   ,  0.   ,  0.   ,  0.   ,  0.   ,  0.   ,  0.   ,\n",
       "         0.   ,  0.   ],\n",
       "       [ 0.   ,  0.   ,  0.   ,  0.   ,  0.   ,  0.   ,  0.   ,  0.   ,\n",
       "         0.   ,  0.   ]])"
      ]
     },
     "execution_count": 37,
     "metadata": {},
     "output_type": "execute_result"
    }
   ],
   "source": [
    "a"
   ]
  },
  {
   "cell_type": "code",
   "execution_count": 38,
   "id": "265e84c3",
   "metadata": {},
   "outputs": [],
   "source": [
    "k = np.eye(10)\n",
    "for i in range (len(a)):\n",
    "    k[i,i]= a[i,i]\n",
    "\n",
    "    \n",
    "        "
   ]
  },
  {
   "cell_type": "code",
   "execution_count": 39,
   "id": "5c08ec7f",
   "metadata": {},
   "outputs": [
    {
     "data": {
      "text/plain": [
       "array([[2.   , 0.   , 0.   , 0.   , 0.   , 0.   , 0.   , 0.   , 0.   ,\n",
       "        0.   ],\n",
       "       [0.   , 2.   , 0.   , 0.   , 0.   , 0.   , 0.   , 0.   , 0.   ,\n",
       "        0.   ],\n",
       "       [0.   , 0.   , 4.   , 0.   , 0.   , 0.   , 0.   , 0.   , 0.   ,\n",
       "        0.   ],\n",
       "       [0.   , 0.   , 0.   , 2.828, 0.   , 0.   , 0.   , 0.   , 0.   ,\n",
       "        0.   ],\n",
       "       [0.   , 0.   , 0.   , 0.   , 4.472, 0.   , 0.   , 0.   , 0.   ,\n",
       "        0.   ],\n",
       "       [0.   , 0.   , 0.   , 0.   , 0.   , 0.   , 0.   , 0.   , 0.   ,\n",
       "        0.   ],\n",
       "       [0.   , 0.   , 0.   , 0.   , 0.   , 0.   , 0.   , 0.   , 0.   ,\n",
       "        0.   ],\n",
       "       [0.   , 0.   , 0.   , 0.   , 0.   , 0.   , 0.   , 0.   , 0.   ,\n",
       "        0.   ],\n",
       "       [0.   , 0.   , 0.   , 0.   , 0.   , 0.   , 0.   , 0.   , 0.   ,\n",
       "        0.   ],\n",
       "       [0.   , 0.   , 0.   , 0.   , 0.   , 0.   , 0.   , 0.   , 0.   ,\n",
       "        0.   ]])"
      ]
     },
     "execution_count": 39,
     "metadata": {},
     "output_type": "execute_result"
    }
   ],
   "source": [
    "k"
   ]
  },
  {
   "cell_type": "code",
   "execution_count": 40,
   "id": "2aa36b81",
   "metadata": {},
   "outputs": [
    {
     "data": {
      "text/plain": [
       "array([[ 0.,  0.,  0.,  0.,  0.,  0., -1.,  0.,  0., -1.],\n",
       "       [ 0.,  0.,  0.,  0.,  0.,  0., -1., -1.,  0.,  0.],\n",
       "       [ 0.,  0.,  0.,  0.,  0.,  0.,  0., -1., -1.,  0.],\n",
       "       [ 0.,  0.,  0.,  0.,  0.,  0.,  0.,  0., -1., -1.],\n",
       "       [ 0.,  0.,  0.,  0.,  0.,  0., -1.,  0., -1.,  0.],\n",
       "       [ 0.,  0.,  0.,  0.,  0.,  0.,  0., -1.,  0., -1.],\n",
       "       [ 0.,  0.,  0.,  0.,  0.,  0.,  0.,  0.,  0.,  0.],\n",
       "       [ 0.,  0.,  0.,  0.,  0.,  0.,  0.,  0.,  0.,  0.],\n",
       "       [ 0.,  0.,  0.,  0.,  0.,  0.,  0.,  0.,  0.,  0.],\n",
       "       [ 0.,  0.,  0.,  0.,  0.,  0.,  0.,  0.,  0.,  0.]])"
      ]
     },
     "execution_count": 40,
     "metadata": {},
     "output_type": "execute_result"
    }
   ],
   "source": [
    "a=a-k\n",
    "a"
   ]
  },
  {
   "cell_type": "code",
   "execution_count": 41,
   "id": "3ac86654",
   "metadata": {},
   "outputs": [],
   "source": [
    "k[5,5]=2*(2**0.5)"
   ]
  },
  {
   "cell_type": "code",
   "execution_count": 42,
   "id": "037a899c",
   "metadata": {},
   "outputs": [],
   "source": [
    "k=k.round(3)"
   ]
  },
  {
   "cell_type": "code",
   "execution_count": 43,
   "id": "f964b3f1",
   "metadata": {},
   "outputs": [
    {
     "data": {
      "text/plain": [
       "array([[ 0.,  0.,  0.,  0.,  0.,  0., -1.,  0.,  0., -1.],\n",
       "       [ 0.,  0.,  0.,  0.,  0.,  0., -1., -1.,  0.,  0.],\n",
       "       [ 0.,  0.,  0.,  0.,  0.,  0.,  0., -1., -1.,  0.],\n",
       "       [ 0.,  0.,  0.,  0.,  0.,  0.,  0.,  0., -1., -1.],\n",
       "       [ 0.,  0.,  0.,  0.,  0.,  0., -1.,  0., -1.,  0.],\n",
       "       [ 0.,  0.,  0.,  0.,  0.,  0.,  0., -1.,  0., -1.],\n",
       "       [ 1.,  1.,  0.,  0.,  1.,  0.,  0.,  0.,  0.,  0.],\n",
       "       [ 0.,  1.,  1.,  0.,  0.,  1.,  0.,  0.,  0.,  0.],\n",
       "       [ 0.,  0.,  1.,  1.,  1.,  0.,  0.,  0.,  0.,  0.],\n",
       "       [ 1.,  0.,  0.,  1.,  0.,  1.,  0.,  0.,  0.,  0.]])"
      ]
     },
     "execution_count": 43,
     "metadata": {},
     "output_type": "execute_result"
    }
   ],
   "source": [
    "a=a-a.T\n",
    "a"
   ]
  },
  {
   "cell_type": "code",
   "execution_count": 44,
   "id": "bf5b0ff3",
   "metadata": {},
   "outputs": [],
   "source": [
    "a=a+k"
   ]
  },
  {
   "cell_type": "code",
   "execution_count": 45,
   "id": "069f4b47",
   "metadata": {},
   "outputs": [
    {
     "data": {
      "text/plain": [
       "array([[ 2.   ,  0.   ,  0.   ,  0.   ,  0.   ,  0.   , -1.   ,  0.   ,\n",
       "         0.   , -1.   ],\n",
       "       [ 0.   ,  2.   ,  0.   ,  0.   ,  0.   ,  0.   , -1.   , -1.   ,\n",
       "         0.   ,  0.   ],\n",
       "       [ 0.   ,  0.   ,  4.   ,  0.   ,  0.   ,  0.   ,  0.   , -1.   ,\n",
       "        -1.   ,  0.   ],\n",
       "       [ 0.   ,  0.   ,  0.   ,  2.828,  0.   ,  0.   ,  0.   ,  0.   ,\n",
       "        -1.   , -1.   ],\n",
       "       [ 0.   ,  0.   ,  0.   ,  0.   ,  4.472,  0.   , -1.   ,  0.   ,\n",
       "        -1.   ,  0.   ],\n",
       "       [ 0.   ,  0.   ,  0.   ,  0.   ,  0.   ,  2.828,  0.   , -1.   ,\n",
       "         0.   , -1.   ],\n",
       "       [ 1.   ,  1.   ,  0.   ,  0.   ,  1.   ,  0.   ,  0.   ,  0.   ,\n",
       "         0.   ,  0.   ],\n",
       "       [ 0.   ,  1.   ,  1.   ,  0.   ,  0.   ,  1.   ,  0.   ,  0.   ,\n",
       "         0.   ,  0.   ],\n",
       "       [ 0.   ,  0.   ,  1.   ,  1.   ,  1.   ,  0.   ,  0.   ,  0.   ,\n",
       "         0.   ,  0.   ],\n",
       "       [ 1.   ,  0.   ,  0.   ,  1.   ,  0.   ,  1.   ,  0.   ,  0.   ,\n",
       "         0.   ,  0.   ]])"
      ]
     },
     "execution_count": 45,
     "metadata": {},
     "output_type": "execute_result"
    }
   ],
   "source": [
    "a"
   ]
  },
  {
   "cell_type": "code",
   "execution_count": 51,
   "id": "937b111f",
   "metadata": {},
   "outputs": [],
   "source": [
    "phi=0\n",
    "a[4,5]=phi\n",
    "a[5,4]=phi"
   ]
  },
  {
   "cell_type": "code",
   "execution_count": 52,
   "id": "1279ce89",
   "metadata": {},
   "outputs": [
    {
     "data": {
      "text/plain": [
       "array([[ 2.   ,  0.   ,  0.   ,  0.   ,  0.   ,  0.   , -1.   ,  0.   ,\n",
       "         0.   , -1.   ],\n",
       "       [ 0.   ,  2.   ,  0.   ,  0.   ,  0.   ,  0.   , -1.   , -1.   ,\n",
       "         0.   ,  0.   ],\n",
       "       [ 0.   ,  0.   ,  4.   ,  0.   ,  0.   ,  0.   ,  0.   , -1.   ,\n",
       "        -1.   ,  0.   ],\n",
       "       [ 0.   ,  0.   ,  0.   ,  2.828,  0.   ,  0.   ,  0.   ,  0.   ,\n",
       "        -1.   , -1.   ],\n",
       "       [ 0.   ,  0.   ,  0.   ,  0.   ,  4.472,  0.   , -1.   ,  0.   ,\n",
       "        -1.   ,  0.   ],\n",
       "       [ 0.   ,  0.   ,  0.   ,  0.   ,  0.   ,  2.828,  0.   , -1.   ,\n",
       "         0.   , -1.   ],\n",
       "       [ 1.   ,  1.   ,  0.   ,  0.   ,  1.   ,  0.   ,  0.   ,  0.   ,\n",
       "         0.   ,  0.   ],\n",
       "       [ 0.   ,  1.   ,  1.   ,  0.   ,  0.   ,  1.   ,  0.   ,  0.   ,\n",
       "         0.   ,  0.   ],\n",
       "       [ 0.   ,  0.   ,  1.   ,  1.   ,  1.   ,  0.   ,  0.   ,  0.   ,\n",
       "         0.   ,  0.   ],\n",
       "       [ 1.   ,  0.   ,  0.   ,  1.   ,  0.   ,  1.   ,  0.   ,  0.   ,\n",
       "         0.   ,  0.   ]])"
      ]
     },
     "execution_count": 52,
     "metadata": {},
     "output_type": "execute_result"
    }
   ],
   "source": [
    "a"
   ]
  },
  {
   "cell_type": "code",
   "execution_count": 55,
   "id": "7c0ce77d",
   "metadata": {},
   "outputs": [
    {
     "data": {
      "text/plain": [
       "[0, 0, 0, 0, 0, 0, 2, 2, 2, 2]"
      ]
     },
     "execution_count": 55,
     "metadata": {},
     "output_type": "execute_result"
    }
   ],
   "source": [
    "b=[0]*6+[2]*4\n",
    "b"
   ]
  },
  {
   "cell_type": "code",
   "execution_count": 56,
   "id": "4d07c20d",
   "metadata": {},
   "outputs": [],
   "source": [
    "b= np.array(b)"
   ]
  },
  {
   "cell_type": "code",
   "execution_count": 57,
   "id": "025486b7",
   "metadata": {},
   "outputs": [
    {
     "data": {
      "text/plain": [
       "array([0.65259915, 0.81101799, 0.65259915, 0.81101799, 0.53638286,\n",
       "       0.53638286, 0.70517178, 0.91686421, 1.69353237, 0.60002652])"
      ]
     },
     "execution_count": 57,
     "metadata": {},
     "output_type": "execute_result"
    }
   ],
   "source": [
    "np.linalg.solve(a,b)"
   ]
  },
  {
   "cell_type": "code",
   "execution_count": 82,
   "id": "980d272f",
   "metadata": {},
   "outputs": [],
   "source": [
    "def createa(phi):\n",
    "    a=[[2,0,0,0,0,0,-1,0,0,-1],[0,2,0,0,0,0,-1,-1,0,0],[0,0,4,0,0,0,0,-1,-1,0],[0,0,0,2*(2**0.5),0,0,0,0,-1,-1],[0,0,0,0,2*(5**0.5),0,-1,0,-1,0],[0,0,0,0,0,0,0,-1,0,-1],[0]*10,[0]*10,[0]*10,[0]*10]\n",
    "    a=np.array(a)\n",
    "    #a=a.round(3)\n",
    "    k = np.eye(10)\n",
    "    for i in range (len(a)):\n",
    "        k[i,i]= a[i,i]\n",
    "\n",
    "    a=a-k\n",
    "    k[5,5]=2*(2**0.5)\n",
    "    #k=k.round(3)\n",
    "    a=a-a.T\n",
    "    a=a+k\n",
    "    a[4,5]=phi\n",
    "    a[5,4]=phi\n",
    "    return a"
   ]
  },
  {
   "cell_type": "code",
   "execution_count": 83,
   "id": "e9daeb4a",
   "metadata": {},
   "outputs": [],
   "source": [
    "def createb():\n",
    "    b=[0]*6+[2]*4\n",
    "    b= np.array(b)\n",
    "    return b"
   ]
  },
  {
   "cell_type": "code",
   "execution_count": 84,
   "id": "22578ce4",
   "metadata": {},
   "outputs": [
    {
     "data": {
      "text/plain": [
       "array([0.65263606, 0.81099212, 0.65263606, 0.81099212, 0.53637182,\n",
       "       0.53637182, 0.70508387, 0.91690037, 1.69364386, 0.60018825])"
      ]
     },
     "execution_count": 84,
     "metadata": {},
     "output_type": "execute_result"
    }
   ],
   "source": [
    "phi=0\n",
    "a=createa(phi)\n",
    "b= createb()\n",
    "np.linalg.solve(a,b)"
   ]
  },
  {
   "cell_type": "code",
   "execution_count": 85,
   "id": "f10c72e9",
   "metadata": {},
   "outputs": [
    {
     "data": {
      "text/plain": [
       "array([0.77236473, 0.95977183, 0.77236473, 0.95977183, 0.26786344,\n",
       "       0.26786344, 0.68366185, 1.23588182, 1.85357708, 0.86106761])"
      ]
     },
     "execution_count": 85,
     "metadata": {},
     "output_type": "execute_result"
    }
   ],
   "source": [
    "phi=5\n",
    "a=createa(phi)\n",
    "b= createb()\n",
    "np.linalg.solve(a,b)"
   ]
  },
  {
   "cell_type": "code",
   "execution_count": 86,
   "id": "00661249",
   "metadata": {},
   "outputs": [
    {
     "data": {
      "text/plain": [
       "array([0.81221032, 1.00928559, 0.81221032, 1.00928559, 0.17850408,\n",
       "       0.17850408, 0.67653262, 1.34203857, 1.90680272, 0.94788803])"
      ]
     },
     "execution_count": 86,
     "metadata": {},
     "output_type": "execute_result"
    }
   ],
   "source": [
    "phi=10\n",
    "a=createa(phi)\n",
    "b= createb()\n",
    "np.linalg.solve(a,b)"
   ]
  },
  {
   "cell_type": "code",
   "execution_count": 87,
   "id": "0c75040f",
   "metadata": {},
   "outputs": [
    {
     "data": {
      "text/plain": [
       "array([0.87011059, 1.08123483, 0.87011059, 1.08123483, 0.04865458,\n",
       "       0.04865458, 0.66617302, 1.49629664, 1.98414574, 1.07404817])"
      ]
     },
     "execution_count": 87,
     "metadata": {},
     "output_type": "execute_result"
    }
   ],
   "source": [
    "phi=50\n",
    "a=createa(phi)\n",
    "b= createb()\n",
    "np.linalg.solve(a,b)"
   ]
  },
  {
   "cell_type": "code",
   "execution_count": 88,
   "id": "7603e282",
   "metadata": {},
   "outputs": [
    {
     "data": {
      "text/plain": [
       "array([0.88044283, 1.09407409, 0.88044283, 1.09407409, 0.02548308,\n",
       "       0.02548308, 0.66432436, 1.52382381, 1.99794752, 1.0965613 ])"
      ]
     },
     "execution_count": 88,
     "metadata": {},
     "output_type": "execute_result"
    }
   ],
   "source": [
    "phi=100\n",
    "a=createa(phi)\n",
    "b= createb()\n",
    "np.linalg.solve(a,b)"
   ]
  },
  {
   "cell_type": "code",
   "execution_count": 89,
   "id": "41ad1c92",
   "metadata": {},
   "outputs": [
    {
     "data": {
      "text/plain": [
       "array([0.89061876, 1.1067191 , 0.89061876, 1.1067191 , 0.00266214,\n",
       "       0.00266214, 0.66250367, 1.55093454, 2.01154049, 1.11873384])"
      ]
     },
     "execution_count": 89,
     "metadata": {},
     "output_type": "execute_result"
    }
   ],
   "source": [
    "phi=1000\n",
    "a=createa(phi)\n",
    "b= createb()\n",
    "np.linalg.solve(a,b)"
   ]
  },
  {
   "cell_type": "code",
   "execution_count": 81,
   "id": "f9d14534",
   "metadata": {},
   "outputs": [
    {
     "data": {
      "text/plain": [
       "array([8.9164290e-01, 1.1080897e+00, 8.9164290e-01, 1.1080897e+00,\n",
       "       2.6740000e-04, 2.6740000e-04, 6.6237820e-01, 1.5538013e+00,\n",
       "       2.0127702e+00, 1.1209075e+00])"
      ]
     },
     "execution_count": 81,
     "metadata": {},
     "output_type": "execute_result"
    }
   ],
   "source": [
    "phi=10000\n",
    "a=createa(phi)\n",
    "b= createb()\n",
    "np.linalg.solve(a,b).round(7)"
   ]
  },
  {
   "cell_type": "code",
   "execution_count": null,
   "id": "459bfa85",
   "metadata": {},
   "outputs": [],
   "source": []
  }
 ],
 "metadata": {
  "kernelspec": {
   "display_name": "Python 3 (ipykernel)",
   "language": "python",
   "name": "python3"
  },
  "language_info": {
   "codemirror_mode": {
    "name": "ipython",
    "version": 3
   },
   "file_extension": ".py",
   "mimetype": "text/x-python",
   "name": "python",
   "nbconvert_exporter": "python",
   "pygments_lexer": "ipython3",
   "version": "3.9.16"
  }
 },
 "nbformat": 4,
 "nbformat_minor": 5
}
