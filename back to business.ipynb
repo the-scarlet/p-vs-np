{
 "cells": [
  {
   "cell_type": "code",
   "execution_count": 265,
   "id": "64a69ec3",
   "metadata": {},
   "outputs": [],
   "source": [
    "import numpy as np\n",
    "import matplotlib.pyplot as plt\n",
    "import shapely\n",
    "from shapely.geometry import LineString, Point"
   ]
  },
  {
   "cell_type": "code",
   "execution_count": 266,
   "id": "01b16e0e",
   "metadata": {},
   "outputs": [],
   "source": [
    "phi=0\n",
    "a=[[2,0,0,0,0,0,-1,0,0,-1],[0,2,0,0,0,0,-1,-1,0,0],[0,0,4,0,0,0,0,-1,-1,0],[0,0,0,2*(2**0.5),0,0,0,0,-1,-1],[0,0,0,0,2*(5**0.5),0,-1,0,-1,0],[0,0,0,0,0,0,0,-1,0,-1],[0]*10,[0]*10,[0]*10,[0]*10]"
   ]
  },
  {
   "cell_type": "code",
   "execution_count": 267,
   "id": "6d67df35",
   "metadata": {},
   "outputs": [
    {
     "name": "stdout",
     "output_type": "stream",
     "text": [
      "10\n",
      "10\n",
      "10\n",
      "10\n",
      "10\n",
      "10\n",
      "10\n",
      "10\n",
      "10\n",
      "10\n"
     ]
    }
   ],
   "source": [
    "for i in range(len(a)):\n",
    "    print (len(a[i]))"
   ]
  },
  {
   "cell_type": "code",
   "execution_count": 268,
   "id": "7307d8e9",
   "metadata": {},
   "outputs": [],
   "source": [
    "a=np.array(a)"
   ]
  },
  {
   "cell_type": "code",
   "execution_count": 269,
   "id": "208ac013",
   "metadata": {},
   "outputs": [],
   "source": [
    "a=a.round(3)"
   ]
  },
  {
   "cell_type": "code",
   "execution_count": 270,
   "id": "ac26e78a",
   "metadata": {},
   "outputs": [
    {
     "data": {
      "text/plain": [
       "array([[ 2.   ,  0.   ,  0.   ,  0.   ,  0.   ,  0.   , -1.   ,  0.   ,\n",
       "         0.   , -1.   ],\n",
       "       [ 0.   ,  2.   ,  0.   ,  0.   ,  0.   ,  0.   , -1.   , -1.   ,\n",
       "         0.   ,  0.   ],\n",
       "       [ 0.   ,  0.   ,  4.   ,  0.   ,  0.   ,  0.   ,  0.   , -1.   ,\n",
       "        -1.   ,  0.   ],\n",
       "       [ 0.   ,  0.   ,  0.   ,  2.828,  0.   ,  0.   ,  0.   ,  0.   ,\n",
       "        -1.   , -1.   ],\n",
       "       [ 0.   ,  0.   ,  0.   ,  0.   ,  4.472,  0.   , -1.   ,  0.   ,\n",
       "        -1.   ,  0.   ],\n",
       "       [ 0.   ,  0.   ,  0.   ,  0.   ,  0.   ,  0.   ,  0.   , -1.   ,\n",
       "         0.   , -1.   ],\n",
       "       [ 0.   ,  0.   ,  0.   ,  0.   ,  0.   ,  0.   ,  0.   ,  0.   ,\n",
       "         0.   ,  0.   ],\n",
       "       [ 0.   ,  0.   ,  0.   ,  0.   ,  0.   ,  0.   ,  0.   ,  0.   ,\n",
       "         0.   ,  0.   ],\n",
       "       [ 0.   ,  0.   ,  0.   ,  0.   ,  0.   ,  0.   ,  0.   ,  0.   ,\n",
       "         0.   ,  0.   ],\n",
       "       [ 0.   ,  0.   ,  0.   ,  0.   ,  0.   ,  0.   ,  0.   ,  0.   ,\n",
       "         0.   ,  0.   ]])"
      ]
     },
     "execution_count": 270,
     "metadata": {},
     "output_type": "execute_result"
    }
   ],
   "source": [
    "a"
   ]
  },
  {
   "cell_type": "code",
   "execution_count": 271,
   "id": "265e84c3",
   "metadata": {},
   "outputs": [],
   "source": [
    "k = np.eye(10)\n",
    "for i in range (len(a)):\n",
    "    k[i,i]= a[i,i]\n",
    "\n",
    "    \n",
    "        "
   ]
  },
  {
   "cell_type": "code",
   "execution_count": 272,
   "id": "5c08ec7f",
   "metadata": {},
   "outputs": [
    {
     "data": {
      "text/plain": [
       "array([[2.   , 0.   , 0.   , 0.   , 0.   , 0.   , 0.   , 0.   , 0.   ,\n",
       "        0.   ],\n",
       "       [0.   , 2.   , 0.   , 0.   , 0.   , 0.   , 0.   , 0.   , 0.   ,\n",
       "        0.   ],\n",
       "       [0.   , 0.   , 4.   , 0.   , 0.   , 0.   , 0.   , 0.   , 0.   ,\n",
       "        0.   ],\n",
       "       [0.   , 0.   , 0.   , 2.828, 0.   , 0.   , 0.   , 0.   , 0.   ,\n",
       "        0.   ],\n",
       "       [0.   , 0.   , 0.   , 0.   , 4.472, 0.   , 0.   , 0.   , 0.   ,\n",
       "        0.   ],\n",
       "       [0.   , 0.   , 0.   , 0.   , 0.   , 0.   , 0.   , 0.   , 0.   ,\n",
       "        0.   ],\n",
       "       [0.   , 0.   , 0.   , 0.   , 0.   , 0.   , 0.   , 0.   , 0.   ,\n",
       "        0.   ],\n",
       "       [0.   , 0.   , 0.   , 0.   , 0.   , 0.   , 0.   , 0.   , 0.   ,\n",
       "        0.   ],\n",
       "       [0.   , 0.   , 0.   , 0.   , 0.   , 0.   , 0.   , 0.   , 0.   ,\n",
       "        0.   ],\n",
       "       [0.   , 0.   , 0.   , 0.   , 0.   , 0.   , 0.   , 0.   , 0.   ,\n",
       "        0.   ]])"
      ]
     },
     "execution_count": 272,
     "metadata": {},
     "output_type": "execute_result"
    }
   ],
   "source": [
    "k"
   ]
  },
  {
   "cell_type": "code",
   "execution_count": 273,
   "id": "2aa36b81",
   "metadata": {},
   "outputs": [
    {
     "data": {
      "text/plain": [
       "array([[ 0.,  0.,  0.,  0.,  0.,  0., -1.,  0.,  0., -1.],\n",
       "       [ 0.,  0.,  0.,  0.,  0.,  0., -1., -1.,  0.,  0.],\n",
       "       [ 0.,  0.,  0.,  0.,  0.,  0.,  0., -1., -1.,  0.],\n",
       "       [ 0.,  0.,  0.,  0.,  0.,  0.,  0.,  0., -1., -1.],\n",
       "       [ 0.,  0.,  0.,  0.,  0.,  0., -1.,  0., -1.,  0.],\n",
       "       [ 0.,  0.,  0.,  0.,  0.,  0.,  0., -1.,  0., -1.],\n",
       "       [ 0.,  0.,  0.,  0.,  0.,  0.,  0.,  0.,  0.,  0.],\n",
       "       [ 0.,  0.,  0.,  0.,  0.,  0.,  0.,  0.,  0.,  0.],\n",
       "       [ 0.,  0.,  0.,  0.,  0.,  0.,  0.,  0.,  0.,  0.],\n",
       "       [ 0.,  0.,  0.,  0.,  0.,  0.,  0.,  0.,  0.,  0.]])"
      ]
     },
     "execution_count": 273,
     "metadata": {},
     "output_type": "execute_result"
    }
   ],
   "source": [
    "a=a-k\n",
    "a"
   ]
  },
  {
   "cell_type": "code",
   "execution_count": 274,
   "id": "3ac86654",
   "metadata": {},
   "outputs": [],
   "source": [
    "k[5,5]=2*(2**0.5)"
   ]
  },
  {
   "cell_type": "code",
   "execution_count": 275,
   "id": "037a899c",
   "metadata": {},
   "outputs": [],
   "source": [
    "k=k.round(3)"
   ]
  },
  {
   "cell_type": "code",
   "execution_count": 276,
   "id": "f964b3f1",
   "metadata": {},
   "outputs": [
    {
     "data": {
      "text/plain": [
       "array([[ 0.,  0.,  0.,  0.,  0.,  0., -1.,  0.,  0., -1.],\n",
       "       [ 0.,  0.,  0.,  0.,  0.,  0., -1., -1.,  0.,  0.],\n",
       "       [ 0.,  0.,  0.,  0.,  0.,  0.,  0., -1., -1.,  0.],\n",
       "       [ 0.,  0.,  0.,  0.,  0.,  0.,  0.,  0., -1., -1.],\n",
       "       [ 0.,  0.,  0.,  0.,  0.,  0., -1.,  0., -1.,  0.],\n",
       "       [ 0.,  0.,  0.,  0.,  0.,  0.,  0., -1.,  0., -1.],\n",
       "       [ 1.,  1.,  0.,  0.,  1.,  0.,  0.,  0.,  0.,  0.],\n",
       "       [ 0.,  1.,  1.,  0.,  0.,  1.,  0.,  0.,  0.,  0.],\n",
       "       [ 0.,  0.,  1.,  1.,  1.,  0.,  0.,  0.,  0.,  0.],\n",
       "       [ 1.,  0.,  0.,  1.,  0.,  1.,  0.,  0.,  0.,  0.]])"
      ]
     },
     "execution_count": 276,
     "metadata": {},
     "output_type": "execute_result"
    }
   ],
   "source": [
    "a=a-a.T\n",
    "a"
   ]
  },
  {
   "cell_type": "code",
   "execution_count": 277,
   "id": "bf5b0ff3",
   "metadata": {},
   "outputs": [],
   "source": [
    "a=a+k"
   ]
  },
  {
   "cell_type": "code",
   "execution_count": 278,
   "id": "069f4b47",
   "metadata": {},
   "outputs": [
    {
     "data": {
      "text/plain": [
       "array([[ 2.   ,  0.   ,  0.   ,  0.   ,  0.   ,  0.   , -1.   ,  0.   ,\n",
       "         0.   , -1.   ],\n",
       "       [ 0.   ,  2.   ,  0.   ,  0.   ,  0.   ,  0.   , -1.   , -1.   ,\n",
       "         0.   ,  0.   ],\n",
       "       [ 0.   ,  0.   ,  4.   ,  0.   ,  0.   ,  0.   ,  0.   , -1.   ,\n",
       "        -1.   ,  0.   ],\n",
       "       [ 0.   ,  0.   ,  0.   ,  2.828,  0.   ,  0.   ,  0.   ,  0.   ,\n",
       "        -1.   , -1.   ],\n",
       "       [ 0.   ,  0.   ,  0.   ,  0.   ,  4.472,  0.   , -1.   ,  0.   ,\n",
       "        -1.   ,  0.   ],\n",
       "       [ 0.   ,  0.   ,  0.   ,  0.   ,  0.   ,  2.828,  0.   , -1.   ,\n",
       "         0.   , -1.   ],\n",
       "       [ 1.   ,  1.   ,  0.   ,  0.   ,  1.   ,  0.   ,  0.   ,  0.   ,\n",
       "         0.   ,  0.   ],\n",
       "       [ 0.   ,  1.   ,  1.   ,  0.   ,  0.   ,  1.   ,  0.   ,  0.   ,\n",
       "         0.   ,  0.   ],\n",
       "       [ 0.   ,  0.   ,  1.   ,  1.   ,  1.   ,  0.   ,  0.   ,  0.   ,\n",
       "         0.   ,  0.   ],\n",
       "       [ 1.   ,  0.   ,  0.   ,  1.   ,  0.   ,  1.   ,  0.   ,  0.   ,\n",
       "         0.   ,  0.   ]])"
      ]
     },
     "execution_count": 278,
     "metadata": {},
     "output_type": "execute_result"
    }
   ],
   "source": [
    "a"
   ]
  },
  {
   "cell_type": "code",
   "execution_count": 279,
   "id": "937b111f",
   "metadata": {},
   "outputs": [],
   "source": [
    "phi=0\n",
    "a[4,5]=phi\n",
    "a[5,4]=phi"
   ]
  },
  {
   "cell_type": "code",
   "execution_count": 280,
   "id": "1279ce89",
   "metadata": {},
   "outputs": [
    {
     "data": {
      "text/plain": [
       "array([[ 2.   ,  0.   ,  0.   ,  0.   ,  0.   ,  0.   , -1.   ,  0.   ,\n",
       "         0.   , -1.   ],\n",
       "       [ 0.   ,  2.   ,  0.   ,  0.   ,  0.   ,  0.   , -1.   , -1.   ,\n",
       "         0.   ,  0.   ],\n",
       "       [ 0.   ,  0.   ,  4.   ,  0.   ,  0.   ,  0.   ,  0.   , -1.   ,\n",
       "        -1.   ,  0.   ],\n",
       "       [ 0.   ,  0.   ,  0.   ,  2.828,  0.   ,  0.   ,  0.   ,  0.   ,\n",
       "        -1.   , -1.   ],\n",
       "       [ 0.   ,  0.   ,  0.   ,  0.   ,  4.472,  0.   , -1.   ,  0.   ,\n",
       "        -1.   ,  0.   ],\n",
       "       [ 0.   ,  0.   ,  0.   ,  0.   ,  0.   ,  2.828,  0.   , -1.   ,\n",
       "         0.   , -1.   ],\n",
       "       [ 1.   ,  1.   ,  0.   ,  0.   ,  1.   ,  0.   ,  0.   ,  0.   ,\n",
       "         0.   ,  0.   ],\n",
       "       [ 0.   ,  1.   ,  1.   ,  0.   ,  0.   ,  1.   ,  0.   ,  0.   ,\n",
       "         0.   ,  0.   ],\n",
       "       [ 0.   ,  0.   ,  1.   ,  1.   ,  1.   ,  0.   ,  0.   ,  0.   ,\n",
       "         0.   ,  0.   ],\n",
       "       [ 1.   ,  0.   ,  0.   ,  1.   ,  0.   ,  1.   ,  0.   ,  0.   ,\n",
       "         0.   ,  0.   ]])"
      ]
     },
     "execution_count": 280,
     "metadata": {},
     "output_type": "execute_result"
    }
   ],
   "source": [
    "a"
   ]
  },
  {
   "cell_type": "code",
   "execution_count": 281,
   "id": "7c0ce77d",
   "metadata": {},
   "outputs": [
    {
     "data": {
      "text/plain": [
       "[0, 0, 0, 0, 0, 0, 2, 2, 2, 2]"
      ]
     },
     "execution_count": 281,
     "metadata": {},
     "output_type": "execute_result"
    }
   ],
   "source": [
    "b=[0]*6+[2]*4\n",
    "b"
   ]
  },
  {
   "cell_type": "code",
   "execution_count": 282,
   "id": "4d07c20d",
   "metadata": {},
   "outputs": [],
   "source": [
    "b= np.array(b)"
   ]
  },
  {
   "cell_type": "code",
   "execution_count": 283,
   "id": "025486b7",
   "metadata": {},
   "outputs": [
    {
     "data": {
      "text/plain": [
       "array([0.65259915, 0.81101799, 0.65259915, 0.81101799, 0.53638286,\n",
       "       0.53638286, 0.70517178, 0.91686421, 1.69353237, 0.60002652])"
      ]
     },
     "execution_count": 283,
     "metadata": {},
     "output_type": "execute_result"
    }
   ],
   "source": [
    "np.linalg.solve(a,b)"
   ]
  },
  {
   "cell_type": "code",
   "execution_count": 284,
   "id": "980d272f",
   "metadata": {},
   "outputs": [],
   "source": [
    "def createa(phi):\n",
    "    a=[[2,0,0,0,0,0,-1,0,0,-1],[0,2,0,0,0,0,-1,-1,0,0],[0,0,4,0,0,0,0,-1,-1,0],[0,0,0,2*(2**0.5),0,0,0,0,-1,-1],[0,0,0,0,2*(5**0.5),0,-1,0,-1,0],[0,0,0,0,0,0,0,-1,0,-1],[0]*10,[0]*10,[0]*10,[0]*10]\n",
    "    a=np.array(a)\n",
    "    #a=a.round(3)\n",
    "    k = np.eye(10)\n",
    "    for i in range (len(a)):\n",
    "        k[i,i]= a[i,i]\n",
    "\n",
    "    a=a-k\n",
    "    k[5,5]=2*(2**0.5)\n",
    "    #k=k.round(3)\n",
    "    a=a-a.T\n",
    "    a=a+k\n",
    "    a[4,5]=phi\n",
    "    a[5,4]=phi\n",
    "    return a"
   ]
  },
  {
   "cell_type": "code",
   "execution_count": 285,
   "id": "e9daeb4a",
   "metadata": {},
   "outputs": [],
   "source": [
    "def createb():\n",
    "    b=[0]*6+[2]*4\n",
    "    b= np.array(b)\n",
    "    return b"
   ]
  },
  {
   "cell_type": "code",
   "execution_count": 286,
   "id": "22578ce4",
   "metadata": {},
   "outputs": [
    {
     "data": {
      "text/plain": [
       "array([0.65263606, 0.81099212, 0.65263606, 0.81099212, 0.53637182,\n",
       "       0.53637182, 0.70508387, 0.91690037, 1.69364386, 0.60018825])"
      ]
     },
     "execution_count": 286,
     "metadata": {},
     "output_type": "execute_result"
    }
   ],
   "source": [
    "phi=0\n",
    "a=createa(phi)\n",
    "b= createb()\n",
    "np.linalg.solve(a,b)"
   ]
  },
  {
   "cell_type": "code",
   "execution_count": 287,
   "id": "f10c72e9",
   "metadata": {},
   "outputs": [
    {
     "data": {
      "text/plain": [
       "array([0.77236473, 0.95977183, 0.77236473, 0.95977183, 0.26786344,\n",
       "       0.26786344, 0.68366185, 1.23588182, 1.85357708, 0.86106761])"
      ]
     },
     "execution_count": 287,
     "metadata": {},
     "output_type": "execute_result"
    }
   ],
   "source": [
    "phi=5\n",
    "a=createa(phi)\n",
    "b= createb()\n",
    "np.linalg.solve(a,b)"
   ]
  },
  {
   "cell_type": "code",
   "execution_count": 288,
   "id": "00661249",
   "metadata": {},
   "outputs": [
    {
     "data": {
      "text/plain": [
       "array([0.81221032, 1.00928559, 0.81221032, 1.00928559, 0.17850408,\n",
       "       0.17850408, 0.67653262, 1.34203857, 1.90680272, 0.94788803])"
      ]
     },
     "execution_count": 288,
     "metadata": {},
     "output_type": "execute_result"
    }
   ],
   "source": [
    "phi=10\n",
    "a=createa(phi)\n",
    "b= createb()\n",
    "np.linalg.solve(a,b)"
   ]
  },
  {
   "cell_type": "code",
   "execution_count": 289,
   "id": "0c75040f",
   "metadata": {},
   "outputs": [
    {
     "data": {
      "text/plain": [
       "array([0.87011059, 1.08123483, 0.87011059, 1.08123483, 0.04865458,\n",
       "       0.04865458, 0.66617302, 1.49629664, 1.98414574, 1.07404817])"
      ]
     },
     "execution_count": 289,
     "metadata": {},
     "output_type": "execute_result"
    }
   ],
   "source": [
    "phi=50\n",
    "a=createa(phi)\n",
    "b= createb()\n",
    "np.linalg.solve(a,b)"
   ]
  },
  {
   "cell_type": "code",
   "execution_count": 290,
   "id": "7603e282",
   "metadata": {},
   "outputs": [
    {
     "data": {
      "text/plain": [
       "array([0.88044283, 1.09407409, 0.88044283, 1.09407409, 0.02548308,\n",
       "       0.02548308, 0.66432436, 1.52382381, 1.99794752, 1.0965613 ])"
      ]
     },
     "execution_count": 290,
     "metadata": {},
     "output_type": "execute_result"
    }
   ],
   "source": [
    "phi=100\n",
    "a=createa(phi)\n",
    "b= createb()\n",
    "np.linalg.solve(a,b)"
   ]
  },
  {
   "cell_type": "code",
   "execution_count": 291,
   "id": "41ad1c92",
   "metadata": {},
   "outputs": [
    {
     "data": {
      "text/plain": [
       "array([0.89061876, 1.1067191 , 0.89061876, 1.1067191 , 0.00266214,\n",
       "       0.00266214, 0.66250367, 1.55093454, 2.01154049, 1.11873384])"
      ]
     },
     "execution_count": 291,
     "metadata": {},
     "output_type": "execute_result"
    }
   ],
   "source": [
    "phi=1000\n",
    "a=createa(phi)\n",
    "b= createb()\n",
    "np.linalg.solve(a,b)"
   ]
  },
  {
   "cell_type": "code",
   "execution_count": 292,
   "id": "f9d14534",
   "metadata": {},
   "outputs": [
    {
     "data": {
      "text/plain": [
       "array([8.9168660e-01, 1.1080460e+00, 8.9168660e-01, 1.1080460e+00,\n",
       "       2.6740000e-04, 2.6740000e-04, 6.6231260e-01, 1.5537794e+00,\n",
       "       2.0129669e+00, 1.1210605e+00])"
      ]
     },
     "execution_count": 292,
     "metadata": {},
     "output_type": "execute_result"
    }
   ],
   "source": [
    "phi=10000\n",
    "a=createa(phi)\n",
    "b= createb()\n",
    "np.linalg.solve(a,b).round(7)"
   ]
  },
  {
   "cell_type": "code",
   "execution_count": 293,
   "id": "459bfa85",
   "metadata": {},
   "outputs": [
    {
     "data": {
      "text/plain": [
       "array([8.9180570e-01, 1.1081940e+00, 8.9180570e-01, 1.1081940e+00,\n",
       "       3.0000000e-07, 3.0000000e-07, 6.6229130e-01, 1.5540968e+00,\n",
       "       2.0131260e+00, 1.1213201e+00])"
      ]
     },
     "execution_count": 293,
     "metadata": {},
     "output_type": "execute_result"
    }
   ],
   "source": [
    "phi=10000000\n",
    "a=createa(phi)\n",
    "b= createb()\n",
    "np.linalg.solve(a,b).round(7)"
   ]
  },
  {
   "cell_type": "code",
   "execution_count": 294,
   "id": "f8070151",
   "metadata": {},
   "outputs": [],
   "source": [
    "def createrandomp(n):\n",
    "    \n",
    "\n",
    "    p=[]\n",
    "    for i in range(n):\n",
    "        while True:\n",
    "            a=np.random.random()\n",
    "            b=np.random.random()\n",
    "\n",
    "            if not((a,b) in p):\n",
    "                p.append((a,b))\n",
    "                break\n",
    "    return p"
   ]
  },
  {
   "cell_type": "code",
   "execution_count": 295,
   "id": "a69e9a61",
   "metadata": {},
   "outputs": [],
   "source": [
    "p=[(0,0),(1,1),(0,1)]"
   ]
  },
  {
   "cell_type": "code",
   "execution_count": 296,
   "id": "1f048be5",
   "metadata": {},
   "outputs": [],
   "source": [
    "p=createrandomp(3)"
   ]
  },
  {
   "cell_type": "code",
   "execution_count": 297,
   "id": "f5c5efbb",
   "metadata": {},
   "outputs": [],
   "source": [
    "\n",
    "def plot(p):\n",
    "    x=[i[0] for i in p]\n",
    "    y=[i[1] for i in p]\n",
    "    n= [i for i in range (len(p))]\n",
    "    fig, ax = plt.subplots()\n",
    "    ax.scatter(x, y)\n",
    "\n",
    "    for i, txt in enumerate(n):\n",
    "        ax.annotate(txt, (x[i], y[i]))"
   ]
  },
  {
   "cell_type": "code",
   "execution_count": 298,
   "id": "89c6d128",
   "metadata": {},
   "outputs": [
    {
     "data": {
      "image/png": "[encoded data removed]",
      "text/plain": [
       "<Figure size 640x480 with 1 Axes>"
      ]
     },
     "metadata": {},
     "output_type": "display_data"
    }
   ],
   "source": [
    "plot (p)"
   ]
  },
  {
   "cell_type": "code",
   "execution_count": 299,
   "id": "272ba1f5",
   "metadata": {},
   "outputs": [],
   "source": [
    "def dist(p,i,j):\n",
    "    return (((p[i][0]-p[j][0])**2)+((p[i][1]-p[j][1])**2))**0.5"
   ]
  },
  {
   "cell_type": "code",
   "execution_count": 300,
   "id": "dcb4a7fe",
   "metadata": {},
   "outputs": [
    {
     "data": {
      "text/plain": [
       "0.11376166608838004"
      ]
     },
     "execution_count": 300,
     "metadata": {},
     "output_type": "execute_result"
    }
   ],
   "source": [
    "dist(p,0,1)"
   ]
  },
  {
   "cell_type": "code",
   "execution_count": 301,
   "id": "53b31e88",
   "metadata": {},
   "outputs": [],
   "source": [
    "def len_ord(p):\n",
    "    l=[]\n",
    "    orders=[]\n",
    "    \n",
    "    for i in range (len(p)):\n",
    "        for j in range(i+1,len(p)):\n",
    "            orders.append((i,j))\n",
    "            l.append(dist(p,i,j))\n",
    "    return l,orders\n",
    "            "
   ]
  },
  {
   "cell_type": "code",
   "execution_count": 302,
   "id": "b1b08890",
   "metadata": {},
   "outputs": [
    {
     "data": {
      "text/plain": [
       "([0.11376166608838004, 1.0955128601239597, 1.111672036802465],\n",
       " [(0, 1), (0, 2), (1, 2)])"
      ]
     },
     "execution_count": 302,
     "metadata": {},
     "output_type": "execute_result"
    }
   ],
   "source": [
    "len_ord(p)"
   ]
  },
  {
   "cell_type": "code",
   "execution_count": 303,
   "id": "a3de92ab",
   "metadata": {},
   "outputs": [],
   "source": [
    "\n",
    "def intersect (p , i , j, k, l):\n",
    "    \n",
    "    A = p[i]\n",
    "    B = p[j]\n",
    "\n",
    "    #line 2\n",
    "    C = p[k]\n",
    "    D = p[l]\n",
    "\n",
    "    line1 = LineString([A, B])\n",
    "    line2 = LineString([C, D])\n",
    "\n",
    "    int_pt = line1.intersection(line2)\n",
    "\n",
    "    if int_pt.is_empty: \n",
    "        #print('empty')\n",
    "        return False\n",
    "    if type(int_pt)==shapely.geometry.linestring.LineString: \n",
    "        #print('line',int_pt)\n",
    "        return True\n",
    "    elif type(int_pt)==shapely.geometry.point.Point:\n",
    "        point_of_intersection = int_pt.x, int_pt.y\n",
    "        \n",
    "        #print('point')\n",
    "  \n",
    "        if point_of_intersection in (A,B,C,D): \n",
    "            \n",
    "            if len((A,B,C,D))==len(set((A,B,C,D))): return True\n",
    "            else: return False\n",
    "\n",
    "        else: return True\n",
    "    \n",
    "\n",
    "    "
   ]
  },
  {
   "cell_type": "code",
   "execution_count": 304,
   "id": "f326b723",
   "metadata": {},
   "outputs": [
    {
     "data": {
      "text/plain": [
       "False"
      ]
     },
     "execution_count": 304,
     "metadata": {},
     "output_type": "execute_result"
    }
   ],
   "source": [
    "#intersect with 1 point that is a part of the set\n",
    "a= intersect(p,0,1,2,0)\n",
    "\n",
    "a"
   ]
  },
  {
   "cell_type": "code",
   "execution_count": 305,
   "id": "a2032639",
   "metadata": {},
   "outputs": [
    {
     "data": {
      "text/plain": [
       "[(0.10129175934675805, 0.9160667496902553),\n",
       " (0.007977220370710913, 0.8509966837083319),\n",
       " (0.8072262571028926, 0.07832877658961312)]"
      ]
     },
     "execution_count": 305,
     "metadata": {},
     "output_type": "execute_result"
    }
   ],
   "source": [
    "p"
   ]
  },
  {
   "cell_type": "code",
   "execution_count": 306,
   "id": "97ba5c2e",
   "metadata": {},
   "outputs": [
    {
     "data": {
      "text/plain": [
       "False"
      ]
     },
     "execution_count": 306,
     "metadata": {},
     "output_type": "execute_result"
    }
   ],
   "source": [
    "a"
   ]
  },
  {
   "cell_type": "code",
   "execution_count": null,
   "id": "7485b2ff",
   "metadata": {},
   "outputs": [],
   "source": []
  },
  {
   "cell_type": "code",
   "execution_count": 307,
   "id": "5b0eee0a",
   "metadata": {},
   "outputs": [
    {
     "data": {
      "text/plain": [
       "True"
      ]
     },
     "execution_count": 307,
     "metadata": {},
     "output_type": "execute_result"
    },
    {
     "data": {
      "image/png": "[encoded data removed]",
      "text/plain": [
       "<Figure size 640x480 with 1 Axes>"
      ]
     },
     "metadata": {},
     "output_type": "display_data"
    }
   ],
   "source": [
    "#case whre there is intersecrion\n",
    "p=[(0,1),(1,0),(1,1), (0,0)]\n",
    "plot (p)\n",
    "intersect(p,0,1,2,3)"
   ]
  },
  {
   "cell_type": "code",
   "execution_count": 308,
   "id": "c94d87b7",
   "metadata": {},
   "outputs": [
    {
     "data": {
      "text/plain": [
       "False"
      ]
     },
     "execution_count": 308,
     "metadata": {},
     "output_type": "execute_result"
    },
    {
     "data": {
      "image/png": "[encoded data removed]",
      "text/plain": [
       "<Figure size 640x480 with 1 Axes>"
      ]
     },
     "metadata": {},
     "output_type": "display_data"
    }
   ],
   "source": [
    "#paarallel\n",
    "p=[(0,1),(0,0),(1,1),(1,0)]\n",
    "plot (p)\n",
    "intersect(p,0,1,2,3)"
   ]
  },
  {
   "cell_type": "code",
   "execution_count": 309,
   "id": "01585c1c",
   "metadata": {},
   "outputs": [
    {
     "data": {
      "text/plain": [
       "True"
      ]
     },
     "execution_count": 309,
     "metadata": {},
     "output_type": "execute_result"
    },
    {
     "data": {
      "image/png": "[encoded data removed]",
      "text/plain": [
       "<Figure size 640x480 with 1 Axes>"
      ]
     },
     "metadata": {},
     "output_type": "display_data"
    }
   ],
   "source": [
    "#slight intersection\n",
    "p=[(0,1),(0,-1),(0,0),(1,0)]\n",
    "plot (p)\n",
    "intersect(p,0,1,2,3)"
   ]
  },
  {
   "cell_type": "code",
   "execution_count": 310,
   "id": "be0bc0d5",
   "metadata": {},
   "outputs": [
    {
     "data": {
      "text/plain": [
       "True"
      ]
     },
     "execution_count": 310,
     "metadata": {},
     "output_type": "execute_result"
    },
    {
     "data": {
      "image/png": "[encoded data removed]",
      "text/plain": [
       "<Figure size 640x480 with 1 Axes>"
      ]
     },
     "metadata": {},
     "output_type": "display_data"
    }
   ],
   "source": [
    "#line intersection\n",
    "p=[(0,0),(2,0),(1,0),(3,0)]\n",
    "plot (p)\n",
    "intersect(p,0,1,2,3)"
   ]
  },
  {
   "cell_type": "code",
   "execution_count": 311,
   "id": "662459f1",
   "metadata": {},
   "outputs": [
    {
     "data": {
      "text/plain": [
       "False"
      ]
     },
     "execution_count": 311,
     "metadata": {},
     "output_type": "execute_result"
    },
    {
     "data": {
      "image/png": "[encoded data removed]",
      "text/plain": [
       "<Figure size 640x480 with 1 Axes>"
      ]
     },
     "metadata": {},
     "output_type": "display_data"
    }
   ],
   "source": [
    "#point of the set intersection\n",
    "p=[(0,0),(-1,0),(0,0),(3,0)]\n",
    "plot (p)\n",
    "intersect(p,0,1,2,3)"
   ]
  },
  {
   "cell_type": "code",
   "execution_count": 312,
   "id": "0d19cac3",
   "metadata": {},
   "outputs": [],
   "source": [
    "#so it is ready for the next step"
   ]
  },
  {
   "cell_type": "code",
   "execution_count": 313,
   "id": "45059f2f",
   "metadata": {},
   "outputs": [],
   "source": [
    "def matrixA(p):\n",
    "    l,orders=len_ord(p)\n",
    "    #print('orders:', orders)\n",
    "    #print(l)\n",
    "    phi=min(l)\n",
    "    #print(phi)\n",
    "    a=np.array (l)\n",
    "    a=np.diag(a)\n",
    "    for i in range (len(p)):\n",
    "        for j in range (len(p)):\n",
    "            if j!=i:\n",
    "                for k in range(len(p)):\n",
    "                    for l in range(len(p)):\n",
    "                        if k!=l:\n",
    "                            #print(i,j,k,l)\n",
    "                            if len(set((i,j,k,l)))>2:\n",
    "                                if intersect(p,i,j,k,l):\n",
    "                                    #print('done')\n",
    "                                    a[orders.index((min(i,j),max(i,j))),orders.index((min(k,l),max(k,l)))]=phi\n",
    "                                    a[orders.index((min(k,l),max(k,l))),orders.index((min(i,j),max(i,j)))]=phi\n",
    "    d= np.linalg.eigvals(a)\n",
    "    print(d)       \n",
    "    return a"
   ]
  },
  {
   "cell_type": "code",
   "execution_count": 314,
   "id": "14b28618",
   "metadata": {},
   "outputs": [
    {
     "name": "stdout",
     "output_type": "stream",
     "text": [
      "[2.41421356 0.41421356 1.         1.         1.         1.        ]\n"
     ]
    },
    {
     "data": {
      "text/plain": [
       "array([[1.414, 0.   , 0.   , 0.   , 0.   , 1.   ],\n",
       "       [0.   , 1.   , 0.   , 0.   , 0.   , 0.   ],\n",
       "       [0.   , 0.   , 1.   , 0.   , 0.   , 0.   ],\n",
       "       [0.   , 0.   , 0.   , 1.   , 0.   , 0.   ],\n",
       "       [0.   , 0.   , 0.   , 0.   , 1.   , 0.   ],\n",
       "       [1.   , 0.   , 0.   , 0.   , 0.   , 1.414]])"
      ]
     },
     "execution_count": 314,
     "metadata": {},
     "output_type": "execute_result"
    },
    {
     "data": {
      "image/png": "[encoded data removed]",
      "text/plain": [
       "<Figure size 640x480 with 1 Axes>"
      ]
     },
     "metadata": {},
     "output_type": "display_data"
    }
   ],
   "source": [
    "#case whre there is intersecrion\n",
    "p=[(0,1),(1,0),(1,1), (0,0)]\n",
    "plot (p)\n",
    "intersect(p,0,1,2,3)\n",
    "matrixA(p).round(3)"
   ]
  },
  {
   "cell_type": "code",
   "execution_count": 315,
   "id": "7fbd5d6d",
   "metadata": {},
   "outputs": [
    {
     "name": "stdout",
     "output_type": "stream",
     "text": [
      "[2.41421356 0.41421356 1.         1.         1.         1.        ]\n"
     ]
    },
    {
     "data": {
      "text/plain": [
       "array([[1.   , 0.   , 0.   , 0.   , 0.   , 0.   ],\n",
       "       [0.   , 1.   , 0.   , 0.   , 0.   , 0.   ],\n",
       "       [0.   , 0.   , 1.414, 1.   , 0.   , 0.   ],\n",
       "       [0.   , 0.   , 1.   , 1.414, 0.   , 0.   ],\n",
       "       [0.   , 0.   , 0.   , 0.   , 1.   , 0.   ],\n",
       "       [0.   , 0.   , 0.   , 0.   , 0.   , 1.   ]])"
      ]
     },
     "execution_count": 315,
     "metadata": {},
     "output_type": "execute_result"
    },
    {
     "data": {
      "image/png": "[encoded data removed]",
      "text/plain": [
       "<Figure size 640x480 with 1 Axes>"
      ]
     },
     "metadata": {},
     "output_type": "display_data"
    }
   ],
   "source": [
    "#case whre there is intersecrion\n",
    "p=[(1,0),(1,1), (0,0),(0,1)]\n",
    "plot (p)\n",
    "intersect(p,0,1,2,3)\n",
    "matrixA(p).round(3)"
   ]
  },
  {
   "cell_type": "code",
   "execution_count": 316,
   "id": "4f4845f1",
   "metadata": {},
   "outputs": [],
   "source": [
    "def matrixC(p):\n",
    "    l, orders = len_ord(p)\n",
    "    c= np.zeros([len(p), len(l)])\n",
    "    for x in orders:\n",
    "        c[x[0],orders.index(x)]=1\n",
    "        c[x[1],orders.index(x)]=1\n",
    "    return c"
   ]
  },
  {
   "cell_type": "code",
   "execution_count": 317,
   "id": "2e07d7a0",
   "metadata": {},
   "outputs": [
    {
     "data": {
      "text/plain": [
       "array([[1., 1., 1., 0., 0., 0.],\n",
       "       [1., 0., 0., 1., 1., 0.],\n",
       "       [0., 1., 0., 1., 0., 1.],\n",
       "       [0., 0., 1., 0., 1., 1.]])"
      ]
     },
     "execution_count": 317,
     "metadata": {},
     "output_type": "execute_result"
    }
   ],
   "source": [
    "matrixC(p)"
   ]
  },
  {
   "cell_type": "code",
   "execution_count": 318,
   "id": "fad1c21d",
   "metadata": {},
   "outputs": [
    {
     "data": {
      "image/png": "[encoded data removed]",
      "text/plain": [
       "<Figure size 640x480 with 1 Axes>"
      ]
     },
     "metadata": {},
     "output_type": "display_data"
    }
   ],
   "source": [
    "plot(p)"
   ]
  },
  {
   "cell_type": "code",
   "execution_count": 319,
   "id": "ea2aade5",
   "metadata": {},
   "outputs": [],
   "source": [
    "def vectorb(p):\n",
    "    n=len(p)\n",
    "    return [2]*n"
   ]
  },
  {
   "cell_type": "code",
   "execution_count": 320,
   "id": "303a1413",
   "metadata": {},
   "outputs": [],
   "source": [
    "fun = lambda x: x.T@matrixA(p)@x"
   ]
  },
  {
   "cell_type": "code",
   "execution_count": null,
   "id": "f3f92de0",
   "metadata": {},
   "outputs": [],
   "source": [
    "\n"
   ]
  },
  {
   "cell_type": "code",
   "execution_count": 321,
   "id": "ab68a970",
   "metadata": {},
   "outputs": [],
   "source": [
    "# Import Libraries\n",
    "import numpy as np\n",
    "import cvxopt as opt\n",
    "from cvxopt import matrix, spmatrix, sparse\n",
    "from cvxopt.solvers import qp, options\n",
    "from cvxopt import blas\n",
    "\n",
    "# Generate random vector r and symmetric definite positive matrix Q\n",
    "n = 50\n",
    "r = matrix(np.random.sample(n))\n",
    "Q = np.random.randn(n,n)\n",
    "Q = 0.5 * (Q + Q.T)\n",
    "Q = Q + n * np.eye(n)\n",
    "Q = matrix(Q)\n",
    "# Solve\n",
    "sol = qp(Q, -r)"
   ]
  },
  {
   "cell_type": "code",
   "execution_count": null,
   "id": "334ba330",
   "metadata": {},
   "outputs": [],
   "source": []
  },
  {
   "cell_type": "code",
   "execution_count": 322,
   "id": "05267346",
   "metadata": {},
   "outputs": [
    {
     "name": "stdout",
     "output_type": "stream",
     "text": [
      "[(1, 0), (10, 10), (0, 0), (0, 1)]\n",
      "[ 1.33612523 14.22022396 13.45362405  1.         13.45362405  1.        ]\n",
      "[[0.28245557 0.44544478 0.60394232 0.30537766 0.55123471 0.05030627]]\n",
      "[[13.454  0.     0.     0.     0.     0.   ]\n",
      " [ 0.     1.     0.     0.     0.     0.   ]\n",
      " [ 0.     0.     1.414  1.     0.     0.   ]\n",
      " [ 0.     0.     1.    14.142  0.     0.   ]\n",
      " [ 0.     0.     0.     0.    13.454  0.   ]\n",
      " [ 0.     0.     0.     0.     0.     1.   ]] [2, 2, 2, 2] [[1. 1. 1. 0. 0. 0.]\n",
      " [1. 0. 0. 1. 1. 0.]\n",
      " [0. 1. 0. 1. 0. 1.]\n",
      " [0. 0. 1. 0. 1. 1.]]\n",
      "[[7.56588766]]\n",
      "[[0. 0. 0. 0. 0. 0.]]\n",
      "[ 1.33591214 14.22008786 13.454       1.         13.454       1.        ]\n",
      "[(0, 1), (0, 2), (0, 3), (1, 2), (1, 3), (2, 3)]\n",
      "\n",
      "The optimal value is 20.478103861517972\n",
      "A solution x is\n",
      "[0.70838881 0.70838881 0.58322237 0.58322237 0.70838881 0.70838881]\n",
      "A dual solution is\n",
      "[-1.40789880e+00 -1.76534274e+01 -8.87882823e-03 -1.40789880e+00]\n"
     ]
    }
   ],
   "source": [
    "p=[(1,0),(10,10), (0,0),(0,1)]\n",
    "# Import packages.\n",
    "import cvxpy as cp\n",
    "phi=1\n",
    "print(p)\n",
    "l,orders= len_ord(p)\n",
    "a=matrixA(p).round(3)\n",
    "c=matrixC(p)\n",
    "b=vectorb(p)\n",
    "q=np.zeros([1,len(l)])\n",
    "x=np.random.rand(1,len(l))\n",
    "print(x)\n",
    "print(a,b,c)\n",
    "res=x@a@x.T\n",
    "\n",
    "print((res))\n",
    "print(q)\n",
    "\n",
    "\n",
    "d= np.linalg.eigvals(a)\n",
    "print(d)\n",
    "print(orders)\n",
    "# Define and solve the CVXPY problem.\n",
    "x = cp.Variable(len(l))\n",
    "\n",
    "prob = cp.Problem(cp.Minimize(x@a@x.T),\n",
    "                 [x@c.T == b])\n",
    "prob.solve()\n",
    "\n",
    "# Print result.\n",
    "print(\"\\nThe optimal value is\", prob.value)\n",
    "print(\"A solution x is\")\n",
    "print(x.value)\n",
    "print(\"A dual solution is\")\n",
    "print(prob.constraints[0].dual_value)"
   ]
  },
  {
   "cell_type": "code",
   "execution_count": 323,
   "id": "c0b53935",
   "metadata": {},
   "outputs": [
    {
     "data": {
      "image/png": "[encoded data removed]",
      "text/plain": [
       "<Figure size 640x480 with 1 Axes>"
      ]
     },
     "metadata": {},
     "output_type": "display_data"
    }
   ],
   "source": [
    "plot(p)"
   ]
  },
  {
   "cell_type": "code",
   "execution_count": 324,
   "id": "541f5283",
   "metadata": {},
   "outputs": [],
   "source": [
    "def result(p):\n",
    "    #phi=1\n",
    "\n",
    "    l,orders= len_ord(p)\n",
    "    a=matrixA(p).round(3)\n",
    "    c=matrixC(p)\n",
    "    b=vectorb(p)\n",
    "    q=np.zeros([1,len(l)])\n",
    "    x=np.random.rand(1,len(l))\n",
    "    \n",
    "    res=x@a@x.T\n",
    "\n",
    "\n",
    "    # Define and solve the CVXPY problem.\n",
    "    x = cp.Variable(len(l))\n",
    "\n",
    "    prob = cp.Problem(cp.Minimize(x@a@x.T),\n",
    "                     [x@c.T == b])\n",
    "    prob.solve()\n",
    "\n",
    "    # Print result.\n",
    " \n",
    "    x=x.value\n",
    "    for i in range(1,len(x)):\n",
    "        for j in range (i,len(x)):\n",
    "            if x[j-1]<x[j]:\n",
    "                c=x[j]\n",
    "                x[j]=x[j-1]\n",
    "                x[j-1]=c\n",
    "                c=orders[j]\n",
    "                orders[j]=orders [j-1]\n",
    "                orders[j-1]=c\n",
    "        \n",
    "    return orders[:len(p)]"
   ]
  },
  {
   "cell_type": "code",
   "execution_count": 325,
   "id": "e331d2f2",
   "metadata": {},
   "outputs": [
    {
     "name": "stdout",
     "output_type": "stream",
     "text": [
      "[ 1.33612523 14.22022396 13.45362405  1.         13.45362405  1.        ]\n"
     ]
    },
    {
     "data": {
      "text/plain": [
       "[(0, 2), (0, 1), (2, 3), (1, 3)]"
      ]
     },
     "execution_count": 325,
     "metadata": {},
     "output_type": "execute_result"
    }
   ],
   "source": [
    "result(p)"
   ]
  },
  {
   "cell_type": "code",
   "execution_count": 326,
   "id": "c7bda362",
   "metadata": {},
   "outputs": [
    {
     "data": {
      "image/png": "[encoded data removed]",
      "text/plain": [
       "<Figure size 640x480 with 1 Axes>"
      ]
     },
     "metadata": {},
     "output_type": "display_data"
    }
   ],
   "source": [
    "plot(p)"
   ]
  },
  {
   "cell_type": "code",
   "execution_count": 327,
   "id": "b9b28dfc",
   "metadata": {},
   "outputs": [],
   "source": [
    "def sortedp(p):\n",
    "    res= result(p)\n",
    "    newp=[]\n",
    "    newp.append(res[0][0])\n",
    "    newp.append(res[0][1])\n",
    "    \n",
    "    del(res[0])\n",
    "    #print(newp)\n",
    "    print(res)\n",
    "    k=0\n",
    "    while res!=[]:\n",
    "        k+=1\n",
    "        #print(k)\n",
    "        for i in range (len(res)):\n",
    "            if newp[-1] in res[i]:\n",
    "                if newp[-1]==res[i][0]:\n",
    "                    newp.append (res[i][1])\n",
    "                else:\n",
    "                    newp.append (res[i][0])\n",
    "                del(res [i])\n",
    "                break\n",
    "        \n",
    "        #print(newp)\n",
    "        #print(res)\n",
    "        final=[]\n",
    "        for i in (newp):\n",
    "            final.append(p[i])\n",
    "            \n",
    "    return final\n",
    "            "
   ]
  },
  {
   "cell_type": "code",
   "execution_count": 328,
   "id": "dd0d8701",
   "metadata": {},
   "outputs": [
    {
     "name": "stdout",
     "output_type": "stream",
     "text": [
      "[ 1.33612523 14.22022396 13.45362405  1.         13.45362405  1.        ]\n",
      "[(0, 1), (2, 3), (1, 3)]\n"
     ]
    },
    {
     "data": {
      "text/plain": [
       "[(1, 0), (0, 0), (0, 1), (10, 10), (1, 0)]"
      ]
     },
     "execution_count": 328,
     "metadata": {},
     "output_type": "execute_result"
    }
   ],
   "source": [
    "sortedp(p)"
   ]
  },
  {
   "cell_type": "code",
   "execution_count": 329,
   "id": "89da2d7f",
   "metadata": {},
   "outputs": [],
   "source": [
    "def printpath(p):\n",
    "    newp=sortedp(p)\n",
    "    x=[i[0] for i in newp]\n",
    "    y=[i[1] for i in newp]\n",
    "    #plt.plot(x,y)\n",
    "    #plt.plot(x, y, 'ro', 'k')\n",
    "    plt.plot(x, y, 'r', zorder=1, lw=3)\n",
    "    plt.scatter(x, y, s=120, zorder=2)"
   ]
  },
  {
   "cell_type": "code",
   "execution_count": 330,
   "id": "3393f399",
   "metadata": {},
   "outputs": [
    {
     "name": "stdout",
     "output_type": "stream",
     "text": [
      "[ 1.33612523 14.22022396 13.45362405  1.         13.45362405  1.        ]\n",
      "[(0, 1), (2, 3), (1, 3)]\n"
     ]
    },
    {
     "data": {
      "image/png": "[encoded data removed]",
      "text/plain": [
       "<Figure size 640x480 with 1 Axes>"
      ]
     },
     "metadata": {},
     "output_type": "display_data"
    }
   ],
   "source": [
    "printpath(p)"
   ]
  },
  {
   "cell_type": "code",
   "execution_count": 331,
   "id": "a884eb6e",
   "metadata": {},
   "outputs": [
    {
     "name": "stdout",
     "output_type": "stream",
     "text": [
      "[0.65815716 0.49997005 0.38127535 0.56746692 0.27723251 0.42113219]\n",
      "[(0, 3), (1, 3), (1, 2)]\n"
     ]
    },
    {
     "data": {
      "image/png": "[encoded data removed]",
      "text/plain": [
       "<Figure size 640x480 with 1 Axes>"
      ]
     },
     "metadata": {},
     "output_type": "display_data"
    }
   ],
   "source": [
    "n=4\n",
    "exp = createrandomp(n)\n",
    "printpath(exp)"
   ]
  },
  {
   "cell_type": "code",
   "execution_count": 332,
   "id": "6b7e30b2",
   "metadata": {},
   "outputs": [
    {
     "data": {
      "image/png": "[encoded data removed]",
      "text/plain": [
       "<Figure size 640x480 with 1 Axes>"
      ]
     },
     "metadata": {},
     "output_type": "display_data"
    }
   ],
   "source": [
    "plot(exp)"
   ]
  },
  {
   "cell_type": "code",
   "execution_count": 333,
   "id": "e9633b9f",
   "metadata": {},
   "outputs": [
    {
     "data": {
      "text/plain": [
       "[(0, 4), (1, 3), (1, 4), (3, 4)]"
      ]
     },
     "execution_count": 333,
     "metadata": {},
     "output_type": "execute_result"
    }
   ],
   "source": [
    "[0, 2]\n",
    "[(0, 4), (1, 3), (1, 4), (3, 4)]"
   ]
  },
  {
   "cell_type": "code",
   "execution_count": 334,
   "id": "7fda0380",
   "metadata": {},
   "outputs": [],
   "source": [
    "#to solve the pb of the incorrectness when higher dimension, i will modify the objective"
   ]
  },
  {
   "cell_type": "code",
   "execution_count": 335,
   "id": "01af4ebf",
   "metadata": {},
   "outputs": [],
   "source": [
    "def matrixA(p,phi):\n",
    "    l,orders=len_ord(p)\n",
    "    #print('orders:', orders)\n",
    "    #print(l)\n",
    "    #phi1=min(l)\n",
    "    #phi2=phi1\n",
    "    #print(phi)\n",
    "    #print('phi of amatrix:',phi)\n",
    "    a=np.array (l)+phi\n",
    "    #print('phi of amatrix:',phi)\n",
    "    a=np.diag(a)\n",
    "    for i in range (len(p)):\n",
    "        for j in range (len(p)):\n",
    "            if j!=i:\n",
    "                for k in range(len(p)):\n",
    "                    for l in range(len(p)):\n",
    "                        if k!=l:\n",
    "                            print(i,j,k,l)\n",
    "                            if len(set((i,j,k,l)))>2:\n",
    "                                if intersect(p,i,j,k,l):\n",
    "                                    print('done')\n",
    "                                    a[orders.index((min(i,j),max(i,j))),orders.index((min(k,l),max(k,l)))]=phi\n",
    "                                    a[orders.index((min(k,l),max(k,l))),orders.index((min(i,j),max(i,j)))]=phi\n",
    "    \n",
    "    \n",
    "    d= np.linalg.eigvals(a)\n",
    "    print('d:',d)  \n",
    "\n",
    "    return a"
   ]
  },
  {
   "cell_type": "code",
   "execution_count": 336,
   "id": "a8e4c61a",
   "metadata": {},
   "outputs": [],
   "source": [
    "def result(p):\n",
    "\n",
    "\n",
    "    l,orders= len_ord(p)\n",
    "    phi=(sum(l)+10)**(len(p))\n",
    "   \n",
    "    #print('phi of result',phi)\n",
    "    a=matrixA(p,phi)\n",
    "    #print(a)\n",
    "    c=matrixC(p)\n",
    "    b=vectorb(p)\n",
    "    #q=np.zeros([1,len(l)])\n",
    "    q=np.array([phi]*len(l))\n",
    "    x=np.random.rand(1,len(l))\n",
    "\n",
    "    res=x@a@x.T\n",
    "\n",
    "\n",
    "    # Define and solve the CVXPY problem.\n",
    "    x = cp.Variable(len(l))\n",
    "\n",
    "    prob = cp.Problem(cp.Minimize(x@a@x.T-q@x),\n",
    "                     [x@c.T == b])\n",
    "\n",
    "\n",
    "    prob.solve()\n",
    "    phi+=2\n",
    "\n",
    "    \n",
    "        \n",
    "\n",
    "    # Print result.\n",
    " \n",
    "    x=x.value\n",
    "    for i in range(1,len(x)):\n",
    "        for j in range (i,len(x)):\n",
    "            if x[j-1]<x[j]:\n",
    "                c=x[j]\n",
    "                x[j]=x[j-1]\n",
    "                x[j-1]=c\n",
    "                c=orders[j]\n",
    "                orders[j]=orders [j-1]\n",
    "                orders[j-1]=c\n",
    "    print(x)\n",
    "    print(orders[:len(p)])\n",
    "    return orders[:len(p)]"
   ]
  },
  {
   "cell_type": "code",
   "execution_count": 337,
   "id": "94c164cd",
   "metadata": {},
   "outputs": [
    {
     "name": "stdout",
     "output_type": "stream",
     "text": [
      "0 1 0 1\n",
      "0 1 0 2\n",
      "0 1 0 3\n",
      "0 1 1 0\n",
      "0 1 1 2\n",
      "0 1 1 3\n",
      "0 1 2 0\n",
      "0 1 2 1\n",
      "0 1 2 3\n",
      "0 1 3 0\n",
      "0 1 3 1\n",
      "0 1 3 2\n",
      "0 2 0 1\n",
      "0 2 0 2\n",
      "0 2 0 3\n",
      "0 2 1 0\n",
      "0 2 1 2\n",
      "0 2 1 3\n",
      "done\n",
      "0 2 2 0\n",
      "0 2 2 1\n",
      "0 2 2 3\n",
      "0 2 3 0\n",
      "0 2 3 1\n",
      "done\n",
      "0 2 3 2\n",
      "0 3 0 1\n",
      "0 3 0 2\n",
      "0 3 0 3\n",
      "0 3 1 0\n",
      "0 3 1 2\n",
      "0 3 1 3\n",
      "0 3 2 0\n",
      "0 3 2 1\n",
      "0 3 2 3\n",
      "0 3 3 0\n",
      "0 3 3 1\n",
      "0 3 3 2\n",
      "1 0 0 1\n",
      "1 0 0 2\n",
      "1 0 0 3\n",
      "1 0 1 0\n",
      "1 0 1 2\n",
      "1 0 1 3\n",
      "1 0 2 0\n",
      "1 0 2 1\n",
      "1 0 2 3\n",
      "1 0 3 0\n",
      "1 0 3 1\n",
      "1 0 3 2\n",
      "1 2 0 1\n",
      "1 2 0 2\n",
      "1 2 0 3\n",
      "1 2 1 0\n",
      "1 2 1 2\n",
      "1 2 1 3\n",
      "1 2 2 0\n",
      "1 2 2 1\n",
      "1 2 2 3\n",
      "1 2 3 0\n",
      "1 2 3 1\n",
      "1 2 3 2\n",
      "1 3 0 1\n",
      "1 3 0 2\n",
      "done\n",
      "1 3 0 3\n",
      "1 3 1 0\n",
      "1 3 1 2\n",
      "1 3 1 3\n",
      "1 3 2 0\n",
      "done\n",
      "1 3 2 1\n",
      "1 3 2 3\n",
      "1 3 3 0\n",
      "1 3 3 1\n",
      "1 3 3 2\n",
      "2 0 0 1\n",
      "2 0 0 2\n",
      "2 0 0 3\n",
      "2 0 1 0\n",
      "2 0 1 2\n",
      "2 0 1 3\n",
      "done\n",
      "2 0 2 0\n",
      "2 0 2 1\n",
      "2 0 2 3\n",
      "2 0 3 0\n",
      "2 0 3 1\n",
      "done\n",
      "2 0 3 2\n",
      "2 1 0 1\n",
      "2 1 0 2\n",
      "2 1 0 3\n",
      "2 1 1 0\n",
      "2 1 1 2\n",
      "2 1 1 3\n",
      "2 1 2 0\n",
      "2 1 2 1\n",
      "2 1 2 3\n",
      "2 1 3 0\n",
      "2 1 3 1\n",
      "2 1 3 2\n",
      "2 3 0 1\n",
      "2 3 0 2\n",
      "2 3 0 3\n",
      "2 3 1 0\n",
      "2 3 1 2\n",
      "2 3 1 3\n",
      "2 3 2 0\n",
      "2 3 2 1\n",
      "2 3 2 3\n",
      "2 3 3 0\n",
      "2 3 3 1\n",
      "2 3 3 2\n",
      "3 0 0 1\n",
      "3 0 0 2\n",
      "3 0 0 3\n",
      "3 0 1 0\n",
      "3 0 1 2\n",
      "3 0 1 3\n",
      "3 0 2 0\n",
      "3 0 2 1\n",
      "3 0 2 3\n",
      "3 0 3 0\n",
      "3 0 3 1\n",
      "3 0 3 2\n",
      "3 1 0 1\n",
      "3 1 0 2\n",
      "done\n",
      "3 1 0 3\n",
      "3 1 1 0\n",
      "3 1 1 2\n",
      "3 1 1 3\n",
      "3 1 2 0\n",
      "done\n",
      "3 1 2 1\n",
      "3 1 2 3\n",
      "3 1 3 0\n",
      "3 1 3 1\n",
      "3 1 3 2\n",
      "3 2 0 1\n",
      "3 2 0 2\n",
      "3 2 0 3\n",
      "3 2 1 0\n",
      "3 2 1 2\n",
      "3 2 1 3\n",
      "3 2 2 0\n",
      "3 2 2 1\n",
      "3 2 2 3\n",
      "3 2 3 0\n",
      "3 2 3 1\n",
      "3 2 3 2\n",
      "d: [8.27448271e+04 8.80771824e-01 4.13723096e+04 4.13726119e+04\n",
      " 4.13728831e+04 4.13725884e+04]\n",
      "[0.80000217 0.7999964  0.80000217 0.7999964  0.40000143 0.40000143]\n",
      "[(0, 1), (0, 3), (2, 3), (1, 2)]\n",
      "[(0, 3), (2, 3), (1, 2)]\n",
      "0 1 0 1\n",
      "0 1 0 2\n",
      "0 1 0 3\n",
      "0 1 1 0\n",
      "0 1 1 2\n",
      "0 1 1 3\n",
      "0 1 2 0\n",
      "0 1 2 1\n",
      "0 1 2 3\n",
      "0 1 3 0\n",
      "0 1 3 1\n",
      "0 1 3 2\n",
      "0 2 0 1\n",
      "0 2 0 2\n",
      "0 2 0 3\n",
      "0 2 1 0\n",
      "0 2 1 2\n",
      "0 2 1 3\n",
      "done\n",
      "0 2 2 0\n",
      "0 2 2 1\n",
      "0 2 2 3\n",
      "0 2 3 0\n",
      "0 2 3 1\n",
      "done\n",
      "0 2 3 2\n",
      "0 3 0 1\n",
      "0 3 0 2\n",
      "0 3 0 3\n",
      "0 3 1 0\n",
      "0 3 1 2\n",
      "0 3 1 3\n",
      "0 3 2 0\n",
      "0 3 2 1\n",
      "0 3 2 3\n",
      "0 3 3 0\n",
      "0 3 3 1\n",
      "0 3 3 2\n",
      "1 0 0 1\n",
      "1 0 0 2\n",
      "1 0 0 3\n",
      "1 0 1 0\n",
      "1 0 1 2\n",
      "1 0 1 3\n",
      "1 0 2 0\n",
      "1 0 2 1\n",
      "1 0 2 3\n",
      "1 0 3 0\n",
      "1 0 3 1\n",
      "1 0 3 2\n",
      "1 2 0 1\n",
      "1 2 0 2\n",
      "1 2 0 3\n",
      "1 2 1 0\n",
      "1 2 1 2\n",
      "1 2 1 3\n",
      "1 2 2 0\n",
      "1 2 2 1\n",
      "1 2 2 3\n",
      "1 2 3 0\n",
      "1 2 3 1\n",
      "1 2 3 2\n",
      "1 3 0 1\n",
      "1 3 0 2\n",
      "done\n",
      "1 3 0 3\n",
      "1 3 1 0\n",
      "1 3 1 2\n",
      "1 3 1 3\n",
      "1 3 2 0\n",
      "done\n",
      "1 3 2 1\n",
      "1 3 2 3\n",
      "1 3 3 0\n",
      "1 3 3 1\n",
      "1 3 3 2\n",
      "2 0 0 1\n",
      "2 0 0 2\n",
      "2 0 0 3\n",
      "2 0 1 0\n",
      "2 0 1 2\n",
      "2 0 1 3\n",
      "done\n",
      "2 0 2 0\n",
      "2 0 2 1\n",
      "2 0 2 3\n",
      "2 0 3 0\n",
      "2 0 3 1\n",
      "done\n",
      "2 0 3 2\n",
      "2 1 0 1\n",
      "2 1 0 2\n",
      "2 1 0 3\n",
      "2 1 1 0\n",
      "2 1 1 2\n",
      "2 1 1 3\n",
      "2 1 2 0\n",
      "2 1 2 1\n",
      "2 1 2 3\n",
      "2 1 3 0\n",
      "2 1 3 1\n",
      "2 1 3 2\n",
      "2 3 0 1\n",
      "2 3 0 2\n",
      "2 3 0 3\n",
      "2 3 1 0\n",
      "2 3 1 2\n",
      "2 3 1 3\n",
      "2 3 2 0\n",
      "2 3 2 1\n",
      "2 3 2 3\n",
      "2 3 3 0\n",
      "2 3 3 1\n",
      "2 3 3 2\n",
      "3 0 0 1\n",
      "3 0 0 2\n",
      "3 0 0 3\n",
      "3 0 1 0\n",
      "3 0 1 2\n",
      "3 0 1 3\n",
      "3 0 2 0\n",
      "3 0 2 1\n",
      "3 0 2 3\n",
      "3 0 3 0\n",
      "3 0 3 1\n",
      "3 0 3 2\n",
      "3 1 0 1\n",
      "3 1 0 2\n",
      "done\n",
      "3 1 0 3\n",
      "3 1 1 0\n",
      "3 1 1 2\n",
      "3 1 1 3\n",
      "3 1 2 0\n",
      "done\n",
      "3 1 2 1\n",
      "3 1 2 3\n",
      "3 1 3 0\n",
      "3 1 3 1\n",
      "3 1 3 2\n",
      "3 2 0 1\n",
      "3 2 0 2\n",
      "3 2 0 3\n",
      "3 2 1 0\n",
      "3 2 1 2\n",
      "3 2 1 3\n",
      "3 2 2 0\n",
      "3 2 2 1\n",
      "3 2 2 3\n",
      "3 2 3 0\n",
      "3 2 3 1\n",
      "3 2 3 2\n",
      "d: [8.27448271e+04 8.80771824e-01 4.13723096e+04 4.13726119e+04\n",
      " 4.13728831e+04 4.13725884e+04]\n",
      "[0.80000217 0.7999964  0.80000217 0.7999964  0.40000143 0.40000143]\n",
      "[(0, 1), (0, 3), (2, 3), (1, 2)]\n",
      "[(0, 3), (2, 3), (1, 2)]\n"
     ]
    },
    {
     "data": {
      "image/png": "[encoded data removed]",
      "text/plain": [
       "<Figure size 640x480 with 1 Axes>"
      ]
     },
     "metadata": {},
     "output_type": "display_data"
    }
   ],
   "source": [
    "n=4\n",
    "exp=createrandomp(n)\n",
    "res=sortedp(exp)\n",
    "printpath(exp)"
   ]
  },
  {
   "cell_type": "code",
   "execution_count": 338,
   "id": "0cf93ac1",
   "metadata": {},
   "outputs": [
    {
     "name": "stdout",
     "output_type": "stream",
     "text": [
      "[(0.10484690984057576, 0.32070000692080236), (0.2825951870975697, 0.03505623045642703), (0.845933112883813, 0.7496311614269874), (0.26091619451746395, 0.9400747267371652)]\n"
     ]
    },
    {
     "data": {
      "image/png": "[encoded data removed]",
      "text/plain": [
       "<Figure size 640x480 with 1 Axes>"
      ]
     },
     "metadata": {},
     "output_type": "display_data"
    }
   ],
   "source": [
    "plot(exp)\n",
    "print(exp)"
   ]
  },
  {
   "cell_type": "code",
   "execution_count": 339,
   "id": "456bd2cf",
   "metadata": {},
   "outputs": [
    {
     "name": "stdout",
     "output_type": "stream",
     "text": [
      "0 1 0 1\n",
      "0 1 0 2\n",
      "0 1 0 3\n",
      "0 1 1 0\n",
      "0 1 1 2\n",
      "0 1 1 3\n",
      "0 1 2 0\n",
      "0 1 2 1\n",
      "0 1 2 3\n",
      "0 1 3 0\n",
      "0 1 3 1\n",
      "0 1 3 2\n",
      "0 2 0 1\n",
      "0 2 0 2\n",
      "0 2 0 3\n",
      "0 2 1 0\n",
      "0 2 1 2\n",
      "0 2 1 3\n",
      "done\n",
      "0 2 2 0\n",
      "0 2 2 1\n",
      "0 2 2 3\n",
      "0 2 3 0\n",
      "0 2 3 1\n",
      "done\n",
      "0 2 3 2\n",
      "0 3 0 1\n",
      "0 3 0 2\n",
      "0 3 0 3\n",
      "0 3 1 0\n",
      "0 3 1 2\n",
      "0 3 1 3\n",
      "0 3 2 0\n",
      "0 3 2 1\n",
      "0 3 2 3\n",
      "0 3 3 0\n",
      "0 3 3 1\n",
      "0 3 3 2\n",
      "1 0 0 1\n",
      "1 0 0 2\n",
      "1 0 0 3\n",
      "1 0 1 0\n",
      "1 0 1 2\n",
      "1 0 1 3\n",
      "1 0 2 0\n",
      "1 0 2 1\n",
      "1 0 2 3\n",
      "1 0 3 0\n",
      "1 0 3 1\n",
      "1 0 3 2\n",
      "1 2 0 1\n",
      "1 2 0 2\n",
      "1 2 0 3\n",
      "1 2 1 0\n",
      "1 2 1 2\n",
      "1 2 1 3\n",
      "1 2 2 0\n",
      "1 2 2 1\n",
      "1 2 2 3\n",
      "1 2 3 0\n",
      "1 2 3 1\n",
      "1 2 3 2\n",
      "1 3 0 1\n",
      "1 3 0 2\n",
      "done\n",
      "1 3 0 3\n",
      "1 3 1 0\n",
      "1 3 1 2\n",
      "1 3 1 3\n",
      "1 3 2 0\n",
      "done\n",
      "1 3 2 1\n",
      "1 3 2 3\n",
      "1 3 3 0\n",
      "1 3 3 1\n",
      "1 3 3 2\n",
      "2 0 0 1\n",
      "2 0 0 2\n",
      "2 0 0 3\n",
      "2 0 1 0\n",
      "2 0 1 2\n",
      "2 0 1 3\n",
      "done\n",
      "2 0 2 0\n",
      "2 0 2 1\n",
      "2 0 2 3\n",
      "2 0 3 0\n",
      "2 0 3 1\n",
      "done\n",
      "2 0 3 2\n",
      "2 1 0 1\n",
      "2 1 0 2\n",
      "2 1 0 3\n",
      "2 1 1 0\n",
      "2 1 1 2\n",
      "2 1 1 3\n",
      "2 1 2 0\n",
      "2 1 2 1\n",
      "2 1 2 3\n",
      "2 1 3 0\n",
      "2 1 3 1\n",
      "2 1 3 2\n",
      "2 3 0 1\n",
      "2 3 0 2\n",
      "2 3 0 3\n",
      "2 3 1 0\n",
      "2 3 1 2\n",
      "2 3 1 3\n",
      "2 3 2 0\n",
      "2 3 2 1\n",
      "2 3 2 3\n",
      "2 3 3 0\n",
      "2 3 3 1\n",
      "2 3 3 2\n",
      "3 0 0 1\n",
      "3 0 0 2\n",
      "3 0 0 3\n",
      "3 0 1 0\n",
      "3 0 1 2\n",
      "3 0 1 3\n",
      "3 0 2 0\n",
      "3 0 2 1\n",
      "3 0 2 3\n",
      "3 0 3 0\n",
      "3 0 3 1\n",
      "3 0 3 2\n",
      "3 1 0 1\n",
      "3 1 0 2\n",
      "done\n",
      "3 1 0 3\n",
      "3 1 1 0\n",
      "3 1 1 2\n",
      "3 1 1 3\n",
      "3 1 2 0\n",
      "done\n",
      "3 1 2 1\n",
      "3 1 2 3\n",
      "3 1 3 0\n",
      "3 1 3 1\n",
      "3 1 3 2\n",
      "3 2 0 1\n",
      "3 2 0 2\n",
      "3 2 0 3\n",
      "3 2 1 0\n",
      "3 2 1 2\n",
      "3 2 1 3\n",
      "3 2 2 0\n",
      "3 2 2 1\n",
      "3 2 2 3\n",
      "3 2 3 0\n",
      "3 2 3 1\n",
      "3 2 3 2\n",
      "d: [2.88107207 0.8804716  1.33643249 1.63873521 1.90992689 1.61523455]\n"
     ]
    },
    {
     "data": {
      "text/plain": [
       "array([[1.33643249, 0.        , 0.        , 0.        , 0.        ,\n",
       "        0.        ],\n",
       "       [0.        , 1.85626555, 0.        , 0.        , 1.        ,\n",
       "        0.        ],\n",
       "       [0.        , 0.        , 1.63873521, 0.        , 0.        ,\n",
       "        0.        ],\n",
       "       [0.        , 0.        , 0.        , 1.90992689, 0.        ,\n",
       "        0.        ],\n",
       "       [0.        , 1.        , 0.        , 0.        , 1.90527811,\n",
       "        0.        ],\n",
       "       [0.        , 0.        , 0.        , 0.        , 0.        ,\n",
       "        1.61523455]])"
      ]
     },
     "execution_count": 339,
     "metadata": {},
     "output_type": "execute_result"
    }
   ],
   "source": [
    "matrixA(exp,phi)"
   ]
  },
  {
   "cell_type": "code",
   "execution_count": 340,
   "id": "b6da6683",
   "metadata": {},
   "outputs": [],
   "source": [
    "def lag(p):\n",
    "    l,orders= len_ord(p)\n",
    "    phi=(sum(l)+10)**(len(p))\n",
    "   \n",
    "    #print('phi of result',phi)\n",
    "    a=matrixA(p,phi)\n",
    "    #print(a)\n",
    "    c=matrixC(p)\n",
    "    b=vectorb(p)\n",
    "    \n",
    "    L=np.zeros(len(l)+len(p))\n",
    "\n",
    "    d=np.diag(np.diag(a))\n",
    "    a=a+d\n",
    "    c0=np.zeros([len(p),len(p)])\n",
    "    #print('//////////////////////////')\n",
    "    #print(a)\n",
    "    #print(c)\n",
    "    #print(a.shape)\n",
    "    #print((c.T).shape)\n",
    "    #print(c0)\n",
    "    L=np.bmat([[a, -c.T], [np.matrix(c),np.matrix(c0)]])\n",
    "    #print((L/10000).round(1))\n",
    "    L=np.array(L)\n",
    "    return L"
   ]
  },
  {
   "cell_type": "code",
   "execution_count": 341,
   "id": "c2c14aa9",
   "metadata": {},
   "outputs": [
    {
     "name": "stdout",
     "output_type": "stream",
     "text": [
      "0 1 0 1\n",
      "0 1 0 2\n",
      "0 1 0 3\n",
      "0 1 1 0\n",
      "0 1 1 2\n",
      "0 1 1 3\n",
      "0 1 2 0\n",
      "0 1 2 1\n",
      "0 1 2 3\n",
      "0 1 3 0\n",
      "0 1 3 1\n",
      "0 1 3 2\n",
      "0 2 0 1\n",
      "0 2 0 2\n",
      "0 2 0 3\n",
      "0 2 1 0\n",
      "0 2 1 2\n",
      "0 2 1 3\n",
      "0 2 2 0\n",
      "0 2 2 1\n",
      "0 2 2 3\n",
      "0 2 3 0\n",
      "0 2 3 1\n",
      "0 2 3 2\n",
      "0 3 0 1\n",
      "0 3 0 2\n",
      "0 3 0 3\n",
      "0 3 1 0\n",
      "0 3 1 2\n",
      "done\n",
      "0 3 1 3\n",
      "0 3 2 0\n",
      "0 3 2 1\n",
      "done\n",
      "0 3 2 3\n",
      "0 3 3 0\n",
      "0 3 3 1\n",
      "0 3 3 2\n",
      "1 0 0 1\n",
      "1 0 0 2\n",
      "1 0 0 3\n",
      "1 0 1 0\n",
      "1 0 1 2\n",
      "1 0 1 3\n",
      "1 0 2 0\n",
      "1 0 2 1\n",
      "1 0 2 3\n",
      "1 0 3 0\n",
      "1 0 3 1\n",
      "1 0 3 2\n",
      "1 2 0 1\n",
      "1 2 0 2\n",
      "1 2 0 3\n",
      "done\n",
      "1 2 1 0\n",
      "1 2 1 2\n",
      "1 2 1 3\n",
      "1 2 2 0\n",
      "1 2 2 1\n",
      "1 2 2 3\n",
      "1 2 3 0\n",
      "done\n",
      "1 2 3 1\n",
      "1 2 3 2\n",
      "1 3 0 1\n",
      "1 3 0 2\n",
      "1 3 0 3\n",
      "1 3 1 0\n",
      "1 3 1 2\n",
      "1 3 1 3\n",
      "1 3 2 0\n",
      "1 3 2 1\n",
      "1 3 2 3\n",
      "1 3 3 0\n",
      "1 3 3 1\n",
      "1 3 3 2\n",
      "2 0 0 1\n",
      "2 0 0 2\n",
      "2 0 0 3\n",
      "2 0 1 0\n",
      "2 0 1 2\n",
      "2 0 1 3\n",
      "2 0 2 0\n",
      "2 0 2 1\n",
      "2 0 2 3\n",
      "2 0 3 0\n",
      "2 0 3 1\n",
      "2 0 3 2\n",
      "2 1 0 1\n",
      "2 1 0 2\n",
      "2 1 0 3\n",
      "done\n",
      "2 1 1 0\n",
      "2 1 1 2\n",
      "2 1 1 3\n",
      "2 1 2 0\n",
      "2 1 2 1\n",
      "2 1 2 3\n",
      "2 1 3 0\n",
      "done\n",
      "2 1 3 1\n",
      "2 1 3 2\n",
      "2 3 0 1\n",
      "2 3 0 2\n",
      "2 3 0 3\n",
      "2 3 1 0\n",
      "2 3 1 2\n",
      "2 3 1 3\n",
      "2 3 2 0\n",
      "2 3 2 1\n",
      "2 3 2 3\n",
      "2 3 3 0\n",
      "2 3 3 1\n",
      "2 3 3 2\n",
      "3 0 0 1\n",
      "3 0 0 2\n",
      "3 0 0 3\n",
      "3 0 1 0\n",
      "3 0 1 2\n",
      "done\n",
      "3 0 1 3\n",
      "3 0 2 0\n",
      "3 0 2 1\n",
      "done\n",
      "3 0 2 3\n",
      "3 0 3 0\n",
      "3 0 3 1\n",
      "3 0 3 2\n",
      "3 1 0 1\n",
      "3 1 0 2\n",
      "3 1 0 3\n",
      "3 1 1 0\n",
      "3 1 1 2\n",
      "3 1 1 3\n",
      "3 1 2 0\n",
      "3 1 2 1\n",
      "3 1 2 3\n",
      "3 1 3 0\n",
      "3 1 3 1\n",
      "3 1 3 2\n",
      "3 2 0 1\n",
      "3 2 0 2\n",
      "3 2 0 3\n",
      "3 2 1 0\n",
      "3 2 1 2\n",
      "3 2 1 3\n",
      "3 2 2 0\n",
      "3 2 2 1\n",
      "3 2 2 3\n",
      "3 2 3 0\n",
      "3 2 3 1\n",
      "3 2 3 2\n",
      "d: [7.77817229e+00 1.75976825e+07 8.79885083e+06 8.79883838e+06\n",
      " 8.79885083e+06 8.79883838e+06]\n"
     ]
    },
    {
     "data": {
      "text/plain": [
       "array([[ 1.75977017e+07,  0.00000000e+00,  0.00000000e+00,\n",
       "         0.00000000e+00,  0.00000000e+00,  0.00000000e+00,\n",
       "        -1.00000000e+00, -1.00000000e+00, -0.00000000e+00,\n",
       "        -0.00000000e+00],\n",
       "       [ 0.00000000e+00,  1.75976768e+07,  0.00000000e+00,\n",
       "         0.00000000e+00,  0.00000000e+00,  0.00000000e+00,\n",
       "        -1.00000000e+00, -0.00000000e+00, -1.00000000e+00,\n",
       "        -0.00000000e+00],\n",
       "       [ 0.00000000e+00,  0.00000000e+00,  1.75976776e+07,\n",
       "         8.79883738e+06,  0.00000000e+00,  0.00000000e+00,\n",
       "        -1.00000000e+00, -0.00000000e+00, -0.00000000e+00,\n",
       "        -1.00000000e+00],\n",
       "       [ 0.00000000e+00,  0.00000000e+00,  8.79883738e+06,\n",
       "         1.75977030e+07,  0.00000000e+00,  0.00000000e+00,\n",
       "        -0.00000000e+00, -1.00000000e+00, -1.00000000e+00,\n",
       "        -0.00000000e+00],\n",
       "       [ 0.00000000e+00,  0.00000000e+00,  0.00000000e+00,\n",
       "         0.00000000e+00,  1.75977017e+07,  0.00000000e+00,\n",
       "        -0.00000000e+00, -1.00000000e+00, -0.00000000e+00,\n",
       "        -1.00000000e+00],\n",
       "       [ 0.00000000e+00,  0.00000000e+00,  0.00000000e+00,\n",
       "         0.00000000e+00,  0.00000000e+00,  1.75976768e+07,\n",
       "        -0.00000000e+00, -0.00000000e+00, -1.00000000e+00,\n",
       "        -1.00000000e+00],\n",
       "       [ 1.00000000e+00,  1.00000000e+00,  1.00000000e+00,\n",
       "         0.00000000e+00,  0.00000000e+00,  0.00000000e+00,\n",
       "         0.00000000e+00,  0.00000000e+00,  0.00000000e+00,\n",
       "         0.00000000e+00],\n",
       "       [ 1.00000000e+00,  0.00000000e+00,  0.00000000e+00,\n",
       "         1.00000000e+00,  1.00000000e+00,  0.00000000e+00,\n",
       "         0.00000000e+00,  0.00000000e+00,  0.00000000e+00,\n",
       "         0.00000000e+00],\n",
       "       [ 0.00000000e+00,  1.00000000e+00,  0.00000000e+00,\n",
       "         1.00000000e+00,  0.00000000e+00,  1.00000000e+00,\n",
       "         0.00000000e+00,  0.00000000e+00,  0.00000000e+00,\n",
       "         0.00000000e+00],\n",
       "       [ 0.00000000e+00,  0.00000000e+00,  1.00000000e+00,\n",
       "         0.00000000e+00,  1.00000000e+00,  1.00000000e+00,\n",
       "         0.00000000e+00,  0.00000000e+00,  0.00000000e+00,\n",
       "         0.00000000e+00]])"
      ]
     },
     "execution_count": 341,
     "metadata": {},
     "output_type": "execute_result"
    }
   ],
   "source": [
    "lag(p)"
   ]
  },
  {
   "cell_type": "code",
   "execution_count": 342,
   "id": "a21c1c56",
   "metadata": {},
   "outputs": [
    {
     "name": "stdout",
     "output_type": "stream",
     "text": [
      "0 1 0 1\n",
      "0 1 0 2\n",
      "0 1 0 3\n",
      "0 1 1 0\n",
      "0 1 1 2\n",
      "0 1 1 3\n",
      "0 1 2 0\n",
      "0 1 2 1\n",
      "0 1 2 3\n",
      "0 1 3 0\n",
      "0 1 3 1\n",
      "0 1 3 2\n",
      "0 2 0 1\n",
      "0 2 0 2\n",
      "0 2 0 3\n",
      "0 2 1 0\n",
      "0 2 1 2\n",
      "0 2 1 3\n",
      "0 2 2 0\n",
      "0 2 2 1\n",
      "0 2 2 3\n",
      "0 2 3 0\n",
      "0 2 3 1\n",
      "0 2 3 2\n",
      "0 3 0 1\n",
      "0 3 0 2\n",
      "0 3 0 3\n",
      "0 3 1 0\n",
      "0 3 1 2\n",
      "done\n",
      "0 3 1 3\n",
      "0 3 2 0\n",
      "0 3 2 1\n",
      "done\n",
      "0 3 2 3\n",
      "0 3 3 0\n",
      "0 3 3 1\n",
      "0 3 3 2\n",
      "1 0 0 1\n",
      "1 0 0 2\n",
      "1 0 0 3\n",
      "1 0 1 0\n",
      "1 0 1 2\n",
      "1 0 1 3\n",
      "1 0 2 0\n",
      "1 0 2 1\n",
      "1 0 2 3\n",
      "1 0 3 0\n",
      "1 0 3 1\n",
      "1 0 3 2\n",
      "1 2 0 1\n",
      "1 2 0 2\n",
      "1 2 0 3\n",
      "done\n",
      "1 2 1 0\n",
      "1 2 1 2\n",
      "1 2 1 3\n",
      "1 2 2 0\n",
      "1 2 2 1\n",
      "1 2 2 3\n",
      "1 2 3 0\n",
      "done\n",
      "1 2 3 1\n",
      "1 2 3 2\n",
      "1 3 0 1\n",
      "1 3 0 2\n",
      "1 3 0 3\n",
      "1 3 1 0\n",
      "1 3 1 2\n",
      "1 3 1 3\n",
      "1 3 2 0\n",
      "1 3 2 1\n",
      "1 3 2 3\n",
      "1 3 3 0\n",
      "1 3 3 1\n",
      "1 3 3 2\n",
      "2 0 0 1\n",
      "2 0 0 2\n",
      "2 0 0 3\n",
      "2 0 1 0\n",
      "2 0 1 2\n",
      "2 0 1 3\n",
      "2 0 2 0\n",
      "2 0 2 1\n",
      "2 0 2 3\n",
      "2 0 3 0\n",
      "2 0 3 1\n",
      "2 0 3 2\n",
      "2 1 0 1\n",
      "2 1 0 2\n",
      "2 1 0 3\n",
      "done\n",
      "2 1 1 0\n",
      "2 1 1 2\n",
      "2 1 1 3\n",
      "2 1 2 0\n",
      "2 1 2 1\n",
      "2 1 2 3\n",
      "2 1 3 0\n",
      "done\n",
      "2 1 3 1\n",
      "2 1 3 2\n",
      "2 3 0 1\n",
      "2 3 0 2\n",
      "2 3 0 3\n",
      "2 3 1 0\n",
      "2 3 1 2\n",
      "2 3 1 3\n",
      "2 3 2 0\n",
      "2 3 2 1\n",
      "2 3 2 3\n",
      "2 3 3 0\n",
      "2 3 3 1\n",
      "2 3 3 2\n",
      "3 0 0 1\n",
      "3 0 0 2\n",
      "3 0 0 3\n",
      "3 0 1 0\n",
      "3 0 1 2\n",
      "done\n",
      "3 0 1 3\n",
      "3 0 2 0\n",
      "3 0 2 1\n",
      "done\n",
      "3 0 2 3\n",
      "3 0 3 0\n",
      "3 0 3 1\n",
      "3 0 3 2\n",
      "3 1 0 1\n",
      "3 1 0 2\n",
      "3 1 0 3\n",
      "3 1 1 0\n",
      "3 1 1 2\n",
      "3 1 1 3\n",
      "3 1 2 0\n",
      "3 1 2 1\n",
      "3 1 2 3\n",
      "3 1 3 0\n",
      "3 1 3 1\n",
      "3 1 3 2\n",
      "3 2 0 1\n",
      "3 2 0 2\n",
      "3 2 0 3\n",
      "3 2 1 0\n",
      "3 2 1 2\n",
      "3 2 1 3\n",
      "3 2 2 0\n",
      "3 2 2 1\n",
      "3 2 2 3\n",
      "3 2 3 0\n",
      "3 2 3 1\n",
      "3 2 3 2\n",
      "d: [7.77817229e+00 1.75976825e+07 8.79885083e+06 8.79883838e+06\n",
      " 8.79885083e+06 8.79883838e+06]\n"
     ]
    }
   ],
   "source": [
    "lagrangien=lag(p)"
   ]
  },
  {
   "cell_type": "code",
   "execution_count": 343,
   "id": "eb3f473d",
   "metadata": {},
   "outputs": [
    {
     "data": {
      "text/plain": [
       "array([[ 1.75977017e+07,  0.00000000e+00,  0.00000000e+00,\n",
       "         0.00000000e+00,  0.00000000e+00,  0.00000000e+00,\n",
       "        -1.00000000e+00, -1.00000000e+00, -0.00000000e+00,\n",
       "        -0.00000000e+00],\n",
       "       [ 0.00000000e+00,  1.75976768e+07,  0.00000000e+00,\n",
       "         0.00000000e+00,  0.00000000e+00,  0.00000000e+00,\n",
       "        -1.00000000e+00, -0.00000000e+00, -1.00000000e+00,\n",
       "        -0.00000000e+00],\n",
       "       [ 0.00000000e+00,  0.00000000e+00,  1.75976776e+07,\n",
       "         8.79883738e+06,  0.00000000e+00,  0.00000000e+00,\n",
       "        -1.00000000e+00, -0.00000000e+00, -0.00000000e+00,\n",
       "        -1.00000000e+00],\n",
       "       [ 0.00000000e+00,  0.00000000e+00,  8.79883738e+06,\n",
       "         1.75977030e+07,  0.00000000e+00,  0.00000000e+00,\n",
       "        -0.00000000e+00, -1.00000000e+00, -1.00000000e+00,\n",
       "        -0.00000000e+00],\n",
       "       [ 0.00000000e+00,  0.00000000e+00,  0.00000000e+00,\n",
       "         0.00000000e+00,  1.75977017e+07,  0.00000000e+00,\n",
       "        -0.00000000e+00, -1.00000000e+00, -0.00000000e+00,\n",
       "        -1.00000000e+00],\n",
       "       [ 0.00000000e+00,  0.00000000e+00,  0.00000000e+00,\n",
       "         0.00000000e+00,  0.00000000e+00,  1.75976768e+07,\n",
       "        -0.00000000e+00, -0.00000000e+00, -1.00000000e+00,\n",
       "        -1.00000000e+00],\n",
       "       [ 1.00000000e+00,  1.00000000e+00,  1.00000000e+00,\n",
       "         0.00000000e+00,  0.00000000e+00,  0.00000000e+00,\n",
       "         0.00000000e+00,  0.00000000e+00,  0.00000000e+00,\n",
       "         0.00000000e+00],\n",
       "       [ 1.00000000e+00,  0.00000000e+00,  0.00000000e+00,\n",
       "         1.00000000e+00,  1.00000000e+00,  0.00000000e+00,\n",
       "         0.00000000e+00,  0.00000000e+00,  0.00000000e+00,\n",
       "         0.00000000e+00],\n",
       "       [ 0.00000000e+00,  1.00000000e+00,  0.00000000e+00,\n",
       "         1.00000000e+00,  0.00000000e+00,  1.00000000e+00,\n",
       "         0.00000000e+00,  0.00000000e+00,  0.00000000e+00,\n",
       "         0.00000000e+00],\n",
       "       [ 0.00000000e+00,  0.00000000e+00,  1.00000000e+00,\n",
       "         0.00000000e+00,  1.00000000e+00,  1.00000000e+00,\n",
       "         0.00000000e+00,  0.00000000e+00,  0.00000000e+00,\n",
       "         0.00000000e+00]])"
      ]
     },
     "execution_count": 343,
     "metadata": {},
     "output_type": "execute_result"
    }
   ],
   "source": [
    "lagrangien"
   ]
  },
  {
   "cell_type": "code",
   "execution_count": 344,
   "id": "f9ebf2d1",
   "metadata": {},
   "outputs": [
    {
     "data": {
      "text/plain": [
       "1.9819431150914772e+16"
      ]
     },
     "execution_count": 344,
     "metadata": {},
     "output_type": "execute_result"
    }
   ],
   "source": [
    "np.linalg.det(lagrangien)"
   ]
  },
  {
   "cell_type": "code",
   "execution_count": 345,
   "id": "812ecfbf",
   "metadata": {},
   "outputs": [],
   "source": [
    "def lagb(p):\n",
    "    l,orders= len_ord(p)\n",
    "    phi=(sum(l)+10)**(len(p))\n",
    "    b=[phi]*len(l)+[2]*len(p)\n",
    "    return np.array(b)"
   ]
  },
  {
   "cell_type": "code",
   "execution_count": 346,
   "id": "3802077b",
   "metadata": {},
   "outputs": [
    {
     "data": {
      "text/plain": [
       "array([8.79883738e+06, 8.79883738e+06, 8.79883738e+06, 8.79883738e+06,\n",
       "       8.79883738e+06, 8.79883738e+06, 2.00000000e+00, 2.00000000e+00,\n",
       "       2.00000000e+00, 2.00000000e+00])"
      ]
     },
     "execution_count": 346,
     "metadata": {},
     "output_type": "execute_result"
    }
   ],
   "source": [
    "lagb(p)"
   ]
  },
  {
   "cell_type": "code",
   "execution_count": 347,
   "id": "d714e316",
   "metadata": {},
   "outputs": [
    {
     "name": "stdout",
     "output_type": "stream",
     "text": [
      "0 1 0 1\n",
      "0 1 0 2\n",
      "0 1 0 3\n",
      "0 1 1 0\n",
      "0 1 1 2\n",
      "0 1 1 3\n",
      "0 1 2 0\n",
      "0 1 2 1\n",
      "0 1 2 3\n",
      "done\n",
      "0 1 3 0\n",
      "0 1 3 1\n",
      "0 1 3 2\n",
      "done\n",
      "0 2 0 1\n",
      "0 2 0 2\n",
      "0 2 0 3\n",
      "0 2 1 0\n",
      "0 2 1 2\n",
      "0 2 1 3\n",
      "0 2 2 0\n",
      "0 2 2 1\n",
      "0 2 2 3\n",
      "0 2 3 0\n",
      "0 2 3 1\n",
      "0 2 3 2\n",
      "0 3 0 1\n",
      "0 3 0 2\n",
      "0 3 0 3\n",
      "0 3 1 0\n",
      "0 3 1 2\n",
      "0 3 1 3\n",
      "0 3 2 0\n",
      "0 3 2 1\n",
      "0 3 2 3\n",
      "0 3 3 0\n",
      "0 3 3 1\n",
      "0 3 3 2\n",
      "1 0 0 1\n",
      "1 0 0 2\n",
      "1 0 0 3\n",
      "1 0 1 0\n",
      "1 0 1 2\n",
      "1 0 1 3\n",
      "1 0 2 0\n",
      "1 0 2 1\n",
      "1 0 2 3\n",
      "done\n",
      "1 0 3 0\n",
      "1 0 3 1\n",
      "1 0 3 2\n",
      "done\n",
      "1 2 0 1\n",
      "1 2 0 2\n",
      "1 2 0 3\n",
      "1 2 1 0\n",
      "1 2 1 2\n",
      "1 2 1 3\n",
      "1 2 2 0\n",
      "1 2 2 1\n",
      "1 2 2 3\n",
      "1 2 3 0\n",
      "1 2 3 1\n",
      "1 2 3 2\n",
      "1 3 0 1\n",
      "1 3 0 2\n",
      "1 3 0 3\n",
      "1 3 1 0\n",
      "1 3 1 2\n",
      "1 3 1 3\n",
      "1 3 2 0\n",
      "1 3 2 1\n",
      "1 3 2 3\n",
      "1 3 3 0\n",
      "1 3 3 1\n",
      "1 3 3 2\n",
      "2 0 0 1\n",
      "2 0 0 2\n",
      "2 0 0 3\n",
      "2 0 1 0\n",
      "2 0 1 2\n",
      "2 0 1 3\n",
      "2 0 2 0\n",
      "2 0 2 1\n",
      "2 0 2 3\n",
      "2 0 3 0\n",
      "2 0 3 1\n",
      "2 0 3 2\n",
      "2 1 0 1\n",
      "2 1 0 2\n",
      "2 1 0 3\n",
      "2 1 1 0\n",
      "2 1 1 2\n",
      "2 1 1 3\n",
      "2 1 2 0\n",
      "2 1 2 1\n",
      "2 1 2 3\n",
      "2 1 3 0\n",
      "2 1 3 1\n",
      "2 1 3 2\n",
      "2 3 0 1\n",
      "done\n",
      "2 3 0 2\n",
      "2 3 0 3\n",
      "2 3 1 0\n",
      "done\n",
      "2 3 1 2\n",
      "2 3 1 3\n",
      "2 3 2 0\n",
      "2 3 2 1\n",
      "2 3 2 3\n",
      "2 3 3 0\n",
      "2 3 3 1\n",
      "2 3 3 2\n",
      "3 0 0 1\n",
      "3 0 0 2\n",
      "3 0 0 3\n",
      "3 0 1 0\n",
      "3 0 1 2\n",
      "3 0 1 3\n",
      "3 0 2 0\n",
      "3 0 2 1\n",
      "3 0 2 3\n",
      "3 0 3 0\n",
      "3 0 3 1\n",
      "3 0 3 2\n",
      "3 1 0 1\n",
      "3 1 0 2\n",
      "3 1 0 3\n",
      "3 1 1 0\n",
      "3 1 1 2\n",
      "3 1 1 3\n",
      "3 1 2 0\n",
      "3 1 2 1\n",
      "3 1 2 3\n",
      "3 1 3 0\n",
      "3 1 3 1\n",
      "3 1 3 2\n",
      "3 2 0 1\n",
      "done\n",
      "3 2 0 2\n",
      "3 2 0 3\n",
      "3 2 1 0\n",
      "done\n",
      "3 2 1 2\n",
      "3 2 1 3\n",
      "3 2 2 0\n",
      "3 2 2 1\n",
      "3 2 2 3\n",
      "3 2 3 0\n",
      "3 2 3 1\n",
      "3 2 3 2\n",
      "d: [1.60401317e+05 1.41421356e+00 8.02009515e+04 8.02009515e+04\n",
      " 8.02009515e+04 8.02009515e+04]\n"
     ]
    },
    {
     "data": {
      "image/png": "[encoded data removed]",
      "text/plain": [
       "<Figure size 640x480 with 1 Axes>"
      ]
     },
     "metadata": {},
     "output_type": "display_data"
    }
   ],
   "source": [
    "p=[(0,1),(1,0),(1,1), (0,0)]\n",
    "plot (p)\n",
    "L,b=lag(p), lagb(p)"
   ]
  },
  {
   "cell_type": "code",
   "execution_count": 348,
   "id": "59ca16c9",
   "metadata": {},
   "outputs": [
    {
     "data": {
      "text/plain": [
       "array([5.00000267e-01, 7.49999866e-01, 7.49999866e-01, 7.49999866e-01,\n",
       "       7.49999866e-01, 5.00000267e-01, 2.00507271e+04, 2.00507271e+04,\n",
       "       2.00507271e+04, 2.00507271e+04])"
      ]
     },
     "execution_count": 348,
     "metadata": {},
     "output_type": "execute_result"
    }
   ],
   "source": [
    "np.linalg.solve(L,b)"
   ]
  },
  {
   "cell_type": "code",
   "execution_count": 349,
   "id": "8bbec94d",
   "metadata": {},
   "outputs": [
    {
     "data": {
      "text/plain": [
       "[(0, 1), (0, 2), (0, 3), (1, 2), (1, 3), (2, 3)]"
      ]
     },
     "execution_count": 349,
     "metadata": {},
     "output_type": "execute_result"
    }
   ],
   "source": [
    "l, order= len_ord(p)\n",
    "order"
   ]
  },
  {
   "cell_type": "code",
   "execution_count": 350,
   "id": "c8611e93",
   "metadata": {},
   "outputs": [
    {
     "name": "stdout",
     "output_type": "stream",
     "text": [
      "0 1 0 1\n",
      "0 1 0 2\n",
      "0 1 0 3\n",
      "0 1 0 4\n",
      "0 1 1 0\n",
      "0 1 1 2\n",
      "0 1 1 3\n",
      "0 1 1 4\n",
      "0 1 2 0\n",
      "0 1 2 1\n",
      "0 1 2 3\n",
      "0 1 2 4\n",
      "0 1 3 0\n",
      "0 1 3 1\n",
      "0 1 3 2\n",
      "0 1 3 4\n",
      "0 1 4 0\n",
      "0 1 4 1\n",
      "0 1 4 2\n",
      "0 1 4 3\n",
      "0 2 0 1\n",
      "0 2 0 2\n",
      "0 2 0 3\n",
      "0 2 0 4\n",
      "0 2 1 0\n",
      "0 2 1 2\n",
      "0 2 1 3\n",
      "0 2 1 4\n",
      "0 2 2 0\n",
      "0 2 2 1\n",
      "0 2 2 3\n",
      "0 2 2 4\n",
      "0 2 3 0\n",
      "0 2 3 1\n",
      "0 2 3 2\n",
      "0 2 3 4\n",
      "0 2 4 0\n",
      "0 2 4 1\n",
      "0 2 4 2\n",
      "0 2 4 3\n",
      "0 3 0 1\n",
      "0 3 0 2\n",
      "0 3 0 3\n",
      "0 3 0 4\n",
      "0 3 1 0\n",
      "0 3 1 2\n",
      "0 3 1 3\n",
      "0 3 1 4\n",
      "done\n",
      "0 3 2 0\n",
      "0 3 2 1\n",
      "0 3 2 3\n",
      "0 3 2 4\n",
      "done\n",
      "0 3 3 0\n",
      "0 3 3 1\n",
      "0 3 3 2\n",
      "0 3 3 4\n",
      "0 3 4 0\n",
      "0 3 4 1\n",
      "done\n",
      "0 3 4 2\n",
      "done\n",
      "0 3 4 3\n",
      "0 4 0 1\n",
      "0 4 0 2\n",
      "0 4 0 3\n",
      "0 4 0 4\n",
      "0 4 1 0\n",
      "0 4 1 2\n",
      "0 4 1 3\n",
      "0 4 1 4\n",
      "0 4 2 0\n",
      "0 4 2 1\n",
      "0 4 2 3\n",
      "0 4 2 4\n",
      "0 4 3 0\n",
      "0 4 3 1\n",
      "0 4 3 2\n",
      "0 4 3 4\n",
      "0 4 4 0\n",
      "0 4 4 1\n",
      "0 4 4 2\n",
      "0 4 4 3\n",
      "1 0 0 1\n",
      "1 0 0 2\n",
      "1 0 0 3\n",
      "1 0 0 4\n",
      "1 0 1 0\n",
      "1 0 1 2\n",
      "1 0 1 3\n",
      "1 0 1 4\n",
      "1 0 2 0\n",
      "1 0 2 1\n",
      "1 0 2 3\n",
      "1 0 2 4\n",
      "1 0 3 0\n",
      "1 0 3 1\n",
      "1 0 3 2\n",
      "1 0 3 4\n",
      "1 0 4 0\n",
      "1 0 4 1\n",
      "1 0 4 2\n",
      "1 0 4 3\n",
      "1 2 0 1\n",
      "1 2 0 2\n",
      "1 2 0 3\n",
      "1 2 0 4\n",
      "1 2 1 0\n",
      "1 2 1 2\n",
      "1 2 1 3\n",
      "1 2 1 4\n",
      "1 2 2 0\n",
      "1 2 2 1\n",
      "1 2 2 3\n",
      "1 2 2 4\n",
      "1 2 3 0\n",
      "1 2 3 1\n",
      "1 2 3 2\n",
      "1 2 3 4\n",
      "1 2 4 0\n",
      "1 2 4 1\n",
      "1 2 4 2\n",
      "1 2 4 3\n",
      "1 3 0 1\n",
      "1 3 0 2\n",
      "1 3 0 3\n",
      "1 3 0 4\n",
      "1 3 1 0\n",
      "1 3 1 2\n",
      "1 3 1 3\n",
      "1 3 1 4\n",
      "1 3 2 0\n",
      "1 3 2 1\n",
      "1 3 2 3\n",
      "1 3 2 4\n",
      "1 3 3 0\n",
      "1 3 3 1\n",
      "1 3 3 2\n",
      "1 3 3 4\n",
      "1 3 4 0\n",
      "1 3 4 1\n",
      "1 3 4 2\n",
      "1 3 4 3\n",
      "1 4 0 1\n",
      "1 4 0 2\n",
      "1 4 0 3\n",
      "done\n",
      "1 4 0 4\n",
      "1 4 1 0\n",
      "1 4 1 2\n",
      "1 4 1 3\n",
      "1 4 1 4\n",
      "1 4 2 0\n",
      "1 4 2 1\n",
      "1 4 2 3\n",
      "done\n",
      "1 4 2 4\n",
      "1 4 3 0\n",
      "done\n",
      "1 4 3 1\n",
      "1 4 3 2\n",
      "done\n",
      "1 4 3 4\n",
      "1 4 4 0\n",
      "1 4 4 1\n",
      "1 4 4 2\n",
      "1 4 4 3\n",
      "2 0 0 1\n",
      "2 0 0 2\n",
      "2 0 0 3\n",
      "2 0 0 4\n",
      "2 0 1 0\n",
      "2 0 1 2\n",
      "2 0 1 3\n",
      "2 0 1 4\n",
      "2 0 2 0\n",
      "2 0 2 1\n",
      "2 0 2 3\n",
      "2 0 2 4\n",
      "2 0 3 0\n",
      "2 0 3 1\n",
      "2 0 3 2\n",
      "2 0 3 4\n",
      "2 0 4 0\n",
      "2 0 4 1\n",
      "2 0 4 2\n",
      "2 0 4 3\n",
      "2 1 0 1\n",
      "2 1 0 2\n",
      "2 1 0 3\n",
      "2 1 0 4\n",
      "2 1 1 0\n",
      "2 1 1 2\n",
      "2 1 1 3\n",
      "2 1 1 4\n",
      "2 1 2 0\n",
      "2 1 2 1\n",
      "2 1 2 3\n",
      "2 1 2 4\n",
      "2 1 3 0\n",
      "2 1 3 1\n",
      "2 1 3 2\n",
      "2 1 3 4\n",
      "2 1 4 0\n",
      "2 1 4 1\n",
      "2 1 4 2\n",
      "2 1 4 3\n",
      "2 3 0 1\n",
      "2 3 0 2\n",
      "2 3 0 3\n",
      "2 3 0 4\n",
      "2 3 1 0\n",
      "2 3 1 2\n",
      "2 3 1 3\n",
      "2 3 1 4\n",
      "done\n",
      "2 3 2 0\n",
      "2 3 2 1\n",
      "2 3 2 3\n",
      "2 3 2 4\n",
      "2 3 3 0\n",
      "2 3 3 1\n",
      "2 3 3 2\n",
      "2 3 3 4\n",
      "2 3 4 0\n",
      "2 3 4 1\n",
      "done\n",
      "2 3 4 2\n",
      "2 3 4 3\n",
      "2 4 0 1\n",
      "2 4 0 2\n",
      "2 4 0 3\n",
      "done\n",
      "2 4 0 4\n",
      "2 4 1 0\n",
      "2 4 1 2\n",
      "2 4 1 3\n",
      "2 4 1 4\n",
      "2 4 2 0\n",
      "2 4 2 1\n",
      "2 4 2 3\n",
      "2 4 2 4\n",
      "2 4 3 0\n",
      "done\n",
      "2 4 3 1\n",
      "2 4 3 2\n",
      "2 4 3 4\n",
      "2 4 4 0\n",
      "2 4 4 1\n",
      "2 4 4 2\n",
      "2 4 4 3\n",
      "3 0 0 1\n",
      "3 0 0 2\n",
      "3 0 0 3\n",
      "3 0 0 4\n",
      "3 0 1 0\n",
      "3 0 1 2\n",
      "3 0 1 3\n",
      "3 0 1 4\n",
      "done\n",
      "3 0 2 0\n",
      "3 0 2 1\n",
      "3 0 2 3\n",
      "3 0 2 4\n",
      "done\n",
      "3 0 3 0\n",
      "3 0 3 1\n",
      "3 0 3 2\n",
      "3 0 3 4\n",
      "3 0 4 0\n",
      "3 0 4 1\n",
      "done\n",
      "3 0 4 2\n",
      "done\n",
      "3 0 4 3\n",
      "3 1 0 1\n",
      "3 1 0 2\n",
      "3 1 0 3\n",
      "3 1 0 4\n",
      "3 1 1 0\n",
      "3 1 1 2\n",
      "3 1 1 3\n",
      "3 1 1 4\n",
      "3 1 2 0\n",
      "3 1 2 1\n",
      "3 1 2 3\n",
      "3 1 2 4\n",
      "3 1 3 0\n",
      "3 1 3 1\n",
      "3 1 3 2\n",
      "3 1 3 4\n",
      "3 1 4 0\n",
      "3 1 4 1\n",
      "3 1 4 2\n",
      "3 1 4 3\n",
      "3 2 0 1\n",
      "3 2 0 2\n",
      "3 2 0 3\n",
      "3 2 0 4\n",
      "3 2 1 0\n",
      "3 2 1 2\n",
      "3 2 1 3\n",
      "3 2 1 4\n",
      "done\n",
      "3 2 2 0\n",
      "3 2 2 1\n",
      "3 2 2 3\n",
      "3 2 2 4\n",
      "3 2 3 0\n",
      "3 2 3 1\n",
      "3 2 3 2\n",
      "3 2 3 4\n",
      "3 2 4 0\n",
      "3 2 4 1\n",
      "done\n",
      "3 2 4 2\n",
      "3 2 4 3\n",
      "3 4 0 1\n",
      "3 4 0 2\n",
      "3 4 0 3\n",
      "3 4 0 4\n",
      "3 4 1 0\n",
      "3 4 1 2\n",
      "3 4 1 3\n",
      "3 4 1 4\n",
      "3 4 2 0\n",
      "3 4 2 1\n",
      "3 4 2 3\n",
      "3 4 2 4\n",
      "3 4 3 0\n",
      "3 4 3 1\n",
      "3 4 3 2\n",
      "3 4 3 4\n",
      "3 4 4 0\n",
      "3 4 4 1\n",
      "3 4 4 2\n",
      "3 4 4 3\n",
      "4 0 0 1\n",
      "4 0 0 2\n",
      "4 0 0 3\n",
      "4 0 0 4\n",
      "4 0 1 0\n",
      "4 0 1 2\n",
      "4 0 1 3\n",
      "4 0 1 4\n",
      "4 0 2 0\n",
      "4 0 2 1\n",
      "4 0 2 3\n",
      "4 0 2 4\n",
      "4 0 3 0\n",
      "4 0 3 1\n",
      "4 0 3 2\n",
      "4 0 3 4\n",
      "4 0 4 0\n",
      "4 0 4 1\n",
      "4 0 4 2\n",
      "4 0 4 3\n",
      "4 1 0 1\n",
      "4 1 0 2\n",
      "4 1 0 3\n",
      "done\n",
      "4 1 0 4\n",
      "4 1 1 0\n",
      "4 1 1 2\n",
      "4 1 1 3\n",
      "4 1 1 4\n",
      "4 1 2 0\n",
      "4 1 2 1\n",
      "4 1 2 3\n",
      "done\n",
      "4 1 2 4\n",
      "4 1 3 0\n",
      "done\n",
      "4 1 3 1\n",
      "4 1 3 2\n",
      "done\n",
      "4 1 3 4\n",
      "4 1 4 0\n",
      "4 1 4 1\n",
      "4 1 4 2\n",
      "4 1 4 3\n",
      "4 2 0 1\n",
      "4 2 0 2\n",
      "4 2 0 3\n",
      "done\n",
      "4 2 0 4\n",
      "4 2 1 0\n",
      "4 2 1 2\n",
      "4 2 1 3\n",
      "4 2 1 4\n",
      "4 2 2 0\n",
      "4 2 2 1\n",
      "4 2 2 3\n",
      "4 2 2 4\n",
      "4 2 3 0\n",
      "done\n",
      "4 2 3 1\n",
      "4 2 3 2\n",
      "4 2 3 4\n",
      "4 2 4 0\n",
      "4 2 4 1\n",
      "4 2 4 2\n",
      "4 2 4 3\n",
      "4 3 0 1\n",
      "4 3 0 2\n",
      "4 3 0 3\n",
      "4 3 0 4\n",
      "4 3 1 0\n",
      "4 3 1 2\n",
      "4 3 1 3\n",
      "4 3 1 4\n",
      "4 3 2 0\n",
      "4 3 2 1\n",
      "4 3 2 3\n",
      "4 3 2 4\n",
      "4 3 3 0\n",
      "4 3 3 1\n",
      "4 3 3 2\n",
      "4 3 3 4\n",
      "4 3 4 0\n",
      "4 3 4 1\n",
      "4 3 4 2\n",
      "4 3 4 3\n",
      "d: [3154663.17657238 1949689.25256175 -744713.8873381   460259.74909969\n",
      " 1204974.2091359  1204974.0508301  1204974.57015149 1204974.26629262\n",
      " 1204974.86006227 1204974.00599595]\n"
     ]
    },
    {
     "data": {
      "text/plain": [
       "array([5.76087031e-01, 5.43478322e-01, 2.60869629e-01, 6.19565018e-01,\n",
       "       5.43478296e-01, 6.19565031e-01, 2.60869642e-01, 4.56521691e-01,\n",
       "       4.56521691e-01, 6.63043649e-01, 9.16830391e+04, 9.16832108e+04,\n",
       "       1.30977308e+04, 1.96463581e+05, 1.96463363e+05])"
      ]
     },
     "execution_count": 350,
     "metadata": {},
     "output_type": "execute_result"
    },
    {
     "data": {
      "image/png": "[encoded data removed]",
      "text/plain": [
       "<Figure size 640x480 with 1 Axes>"
      ]
     },
     "metadata": {},
     "output_type": "display_data"
    }
   ],
   "source": [
    "\n",
    "n=5\n",
    "exp= createrandomp(n)\n",
    "plot(exp)\n",
    "L,b=lag(exp), lagb(exp)\n",
    "np.linalg.solve(L,b)"
   ]
  },
  {
   "cell_type": "code",
   "execution_count": 351,
   "id": "0ae57c29",
   "metadata": {},
   "outputs": [
    {
     "data": {
      "text/plain": [
       "([(0, 1),\n",
       "  (0, 2),\n",
       "  (0, 3),\n",
       "  (0, 4),\n",
       "  (1, 2),\n",
       "  (1, 3),\n",
       "  (1, 4),\n",
       "  (2, 3),\n",
       "  (2, 4),\n",
       "  (3, 4)],\n",
       " array([5.76087031e-01, 5.43478322e-01, 2.60869629e-01, 6.19565018e-01,\n",
       "        5.43478296e-01, 6.19565031e-01, 2.60869642e-01, 4.56521691e-01,\n",
       "        4.56521691e-01, 6.63043649e-01, 9.16830391e+04, 9.16832108e+04,\n",
       "        1.30977308e+04, 1.96463581e+05, 1.96463363e+05]))"
      ]
     },
     "execution_count": 351,
     "metadata": {},
     "output_type": "execute_result"
    }
   ],
   "source": [
    "l, order= len_ord(exp)\n",
    "order,np.linalg.solve(L,b)"
   ]
  },
  {
   "cell_type": "code",
   "execution_count": 352,
   "id": "9623fbb6",
   "metadata": {},
   "outputs": [
    {
     "data": {
      "text/plain": [
       "[(0.1549350979535974, 0.323346968642949),\n",
       " (0.44918102366393675, 0.011281961975210364),\n",
       " (0.3677575849516366, 0.4904820364263264),\n",
       " (0.9270091627617998, 0.9796468154281444),\n",
       " (0.7377271878844585, 0.8565809418869681)]"
      ]
     },
     "execution_count": 352,
     "metadata": {},
     "output_type": "execute_result"
    }
   ],
   "source": [
    "exp"
   ]
  },
  {
   "cell_type": "code",
   "execution_count": 353,
   "id": "c2486713",
   "metadata": {},
   "outputs": [],
   "source": [
    "def result(p):\n",
    "\n",
    "\n",
    "    l,orders= len_ord(p)\n",
    "    phi=(sum(l)+10)**(len(p))\n",
    "   \n",
    "    #print('phi of result',phi)\n",
    "    L,b=lag(exp), lagb(exp)\n",
    "    x=np.linalg.solve(L,b)\n",
    " \n",
    "    x=x[:len(l)]\n",
    "    \n",
    "    for i in range(0,len(x)):\n",
    "        for j in range (1,len(x)):\n",
    "            if x[j-1]<x[j]:\n",
    "                c=x[j]\n",
    "                x[j]=x[j-1]\n",
    "                x[j-1]=c\n",
    "                c=orders[j]\n",
    "                orders[j]=orders [j-1]\n",
    "                orders[j-1]=c\n",
    "    print(x)\n",
    "    print(orders[:len(p)])\n",
    "    return orders[:len(p)]"
   ]
  },
  {
   "cell_type": "code",
   "execution_count": 354,
   "id": "5deb5e9a",
   "metadata": {},
   "outputs": [
    {
     "name": "stdout",
     "output_type": "stream",
     "text": [
      "0 1 0 1\n",
      "0 1 0 2\n",
      "0 1 0 3\n",
      "0 1 0 4\n",
      "0 1 1 0\n",
      "0 1 1 2\n",
      "0 1 1 3\n",
      "0 1 1 4\n",
      "0 1 2 0\n",
      "0 1 2 1\n",
      "0 1 2 3\n",
      "0 1 2 4\n",
      "0 1 3 0\n",
      "0 1 3 1\n",
      "0 1 3 2\n",
      "0 1 3 4\n",
      "0 1 4 0\n",
      "0 1 4 1\n",
      "0 1 4 2\n",
      "0 1 4 3\n",
      "0 2 0 1\n",
      "0 2 0 2\n",
      "0 2 0 3\n",
      "0 2 0 4\n",
      "0 2 1 0\n",
      "0 2 1 2\n",
      "0 2 1 3\n",
      "0 2 1 4\n",
      "0 2 2 0\n",
      "0 2 2 1\n",
      "0 2 2 3\n",
      "0 2 2 4\n",
      "0 2 3 0\n",
      "0 2 3 1\n",
      "0 2 3 2\n",
      "0 2 3 4\n",
      "0 2 4 0\n",
      "0 2 4 1\n",
      "0 2 4 2\n",
      "0 2 4 3\n",
      "0 3 0 1\n",
      "0 3 0 2\n",
      "0 3 0 3\n",
      "0 3 0 4\n",
      "0 3 1 0\n",
      "0 3 1 2\n",
      "0 3 1 3\n",
      "0 3 1 4\n",
      "done\n",
      "0 3 2 0\n",
      "0 3 2 1\n",
      "0 3 2 3\n",
      "0 3 2 4\n",
      "done\n",
      "0 3 3 0\n",
      "0 3 3 1\n",
      "0 3 3 2\n",
      "0 3 3 4\n",
      "0 3 4 0\n",
      "0 3 4 1\n",
      "done\n",
      "0 3 4 2\n",
      "done\n",
      "0 3 4 3\n",
      "0 4 0 1\n",
      "0 4 0 2\n",
      "0 4 0 3\n",
      "0 4 0 4\n",
      "0 4 1 0\n",
      "0 4 1 2\n",
      "0 4 1 3\n",
      "0 4 1 4\n",
      "0 4 2 0\n",
      "0 4 2 1\n",
      "0 4 2 3\n",
      "0 4 2 4\n",
      "0 4 3 0\n",
      "0 4 3 1\n",
      "0 4 3 2\n",
      "0 4 3 4\n",
      "0 4 4 0\n",
      "0 4 4 1\n",
      "0 4 4 2\n",
      "0 4 4 3\n",
      "1 0 0 1\n",
      "1 0 0 2\n",
      "1 0 0 3\n",
      "1 0 0 4\n",
      "1 0 1 0\n",
      "1 0 1 2\n",
      "1 0 1 3\n",
      "1 0 1 4\n",
      "1 0 2 0\n",
      "1 0 2 1\n",
      "1 0 2 3\n",
      "1 0 2 4\n",
      "1 0 3 0\n",
      "1 0 3 1\n",
      "1 0 3 2\n",
      "1 0 3 4\n",
      "1 0 4 0\n",
      "1 0 4 1\n",
      "1 0 4 2\n",
      "1 0 4 3\n",
      "1 2 0 1\n",
      "1 2 0 2\n",
      "1 2 0 3\n",
      "1 2 0 4\n",
      "1 2 1 0\n",
      "1 2 1 2\n",
      "1 2 1 3\n",
      "1 2 1 4\n",
      "1 2 2 0\n",
      "1 2 2 1\n",
      "1 2 2 3\n",
      "1 2 2 4\n",
      "1 2 3 0\n",
      "1 2 3 1\n",
      "1 2 3 2\n",
      "1 2 3 4\n",
      "1 2 4 0\n",
      "1 2 4 1\n",
      "1 2 4 2\n",
      "1 2 4 3\n",
      "1 3 0 1\n",
      "1 3 0 2\n",
      "1 3 0 3\n",
      "1 3 0 4\n",
      "1 3 1 0\n",
      "1 3 1 2\n",
      "1 3 1 3\n",
      "1 3 1 4\n",
      "1 3 2 0\n",
      "1 3 2 1\n",
      "1 3 2 3\n",
      "1 3 2 4\n",
      "1 3 3 0\n",
      "1 3 3 1\n",
      "1 3 3 2\n",
      "1 3 3 4\n",
      "1 3 4 0\n",
      "1 3 4 1\n",
      "1 3 4 2\n",
      "1 3 4 3\n",
      "1 4 0 1\n",
      "1 4 0 2\n",
      "1 4 0 3\n",
      "done\n",
      "1 4 0 4\n",
      "1 4 1 0\n",
      "1 4 1 2\n",
      "1 4 1 3\n",
      "1 4 1 4\n",
      "1 4 2 0\n",
      "1 4 2 1\n",
      "1 4 2 3\n",
      "done\n",
      "1 4 2 4\n",
      "1 4 3 0\n",
      "done\n",
      "1 4 3 1\n",
      "1 4 3 2\n",
      "done\n",
      "1 4 3 4\n",
      "1 4 4 0\n",
      "1 4 4 1\n",
      "1 4 4 2\n",
      "1 4 4 3\n",
      "2 0 0 1\n",
      "2 0 0 2\n",
      "2 0 0 3\n",
      "2 0 0 4\n",
      "2 0 1 0\n",
      "2 0 1 2\n",
      "2 0 1 3\n",
      "2 0 1 4\n",
      "2 0 2 0\n",
      "2 0 2 1\n",
      "2 0 2 3\n",
      "2 0 2 4\n",
      "2 0 3 0\n",
      "2 0 3 1\n",
      "2 0 3 2\n",
      "2 0 3 4\n",
      "2 0 4 0\n",
      "2 0 4 1\n",
      "2 0 4 2\n",
      "2 0 4 3\n",
      "2 1 0 1\n",
      "2 1 0 2\n",
      "2 1 0 3\n",
      "2 1 0 4\n",
      "2 1 1 0\n",
      "2 1 1 2\n",
      "2 1 1 3\n",
      "2 1 1 4\n",
      "2 1 2 0\n",
      "2 1 2 1\n",
      "2 1 2 3\n",
      "2 1 2 4\n",
      "2 1 3 0\n",
      "2 1 3 1\n",
      "2 1 3 2\n",
      "2 1 3 4\n",
      "2 1 4 0\n",
      "2 1 4 1\n",
      "2 1 4 2\n",
      "2 1 4 3\n",
      "2 3 0 1\n",
      "2 3 0 2\n",
      "2 3 0 3\n",
      "2 3 0 4\n",
      "2 3 1 0\n",
      "2 3 1 2\n",
      "2 3 1 3\n",
      "2 3 1 4\n",
      "done\n",
      "2 3 2 0\n",
      "2 3 2 1\n",
      "2 3 2 3\n",
      "2 3 2 4\n",
      "2 3 3 0\n",
      "2 3 3 1\n",
      "2 3 3 2\n",
      "2 3 3 4\n",
      "2 3 4 0\n",
      "2 3 4 1\n",
      "done\n",
      "2 3 4 2\n",
      "2 3 4 3\n",
      "2 4 0 1\n",
      "2 4 0 2\n",
      "2 4 0 3\n",
      "done\n",
      "2 4 0 4\n",
      "2 4 1 0\n",
      "2 4 1 2\n",
      "2 4 1 3\n",
      "2 4 1 4\n",
      "2 4 2 0\n",
      "2 4 2 1\n",
      "2 4 2 3\n",
      "2 4 2 4\n",
      "2 4 3 0\n",
      "done\n",
      "2 4 3 1\n",
      "2 4 3 2\n",
      "2 4 3 4\n",
      "2 4 4 0\n",
      "2 4 4 1\n",
      "2 4 4 2\n",
      "2 4 4 3\n",
      "3 0 0 1\n",
      "3 0 0 2\n",
      "3 0 0 3\n",
      "3 0 0 4\n",
      "3 0 1 0\n",
      "3 0 1 2\n",
      "3 0 1 3\n",
      "3 0 1 4\n",
      "done\n",
      "3 0 2 0\n",
      "3 0 2 1\n",
      "3 0 2 3\n",
      "3 0 2 4\n",
      "done\n",
      "3 0 3 0\n",
      "3 0 3 1\n",
      "3 0 3 2\n",
      "3 0 3 4\n",
      "3 0 4 0\n",
      "3 0 4 1\n",
      "done\n",
      "3 0 4 2\n",
      "done\n",
      "3 0 4 3\n",
      "3 1 0 1\n",
      "3 1 0 2\n",
      "3 1 0 3\n",
      "3 1 0 4\n",
      "3 1 1 0\n",
      "3 1 1 2\n",
      "3 1 1 3\n",
      "3 1 1 4\n",
      "3 1 2 0\n",
      "3 1 2 1\n",
      "3 1 2 3\n",
      "3 1 2 4\n",
      "3 1 3 0\n",
      "3 1 3 1\n",
      "3 1 3 2\n",
      "3 1 3 4\n",
      "3 1 4 0\n",
      "3 1 4 1\n",
      "3 1 4 2\n",
      "3 1 4 3\n",
      "3 2 0 1\n",
      "3 2 0 2\n",
      "3 2 0 3\n",
      "3 2 0 4\n",
      "3 2 1 0\n",
      "3 2 1 2\n",
      "3 2 1 3\n",
      "3 2 1 4\n",
      "done\n",
      "3 2 2 0\n",
      "3 2 2 1\n",
      "3 2 2 3\n",
      "3 2 2 4\n",
      "3 2 3 0\n",
      "3 2 3 1\n",
      "3 2 3 2\n",
      "3 2 3 4\n",
      "3 2 4 0\n",
      "3 2 4 1\n",
      "done\n",
      "3 2 4 2\n",
      "3 2 4 3\n",
      "3 4 0 1\n",
      "3 4 0 2\n",
      "3 4 0 3\n",
      "3 4 0 4\n",
      "3 4 1 0\n",
      "3 4 1 2\n",
      "3 4 1 3\n",
      "3 4 1 4\n",
      "3 4 2 0\n",
      "3 4 2 1\n",
      "3 4 2 3\n",
      "3 4 2 4\n",
      "3 4 3 0\n",
      "3 4 3 1\n",
      "3 4 3 2\n",
      "3 4 3 4\n",
      "3 4 4 0\n",
      "3 4 4 1\n",
      "3 4 4 2\n",
      "3 4 4 3\n",
      "4 0 0 1\n",
      "4 0 0 2\n",
      "4 0 0 3\n",
      "4 0 0 4\n",
      "4 0 1 0\n",
      "4 0 1 2\n",
      "4 0 1 3\n",
      "4 0 1 4\n",
      "4 0 2 0\n",
      "4 0 2 1\n",
      "4 0 2 3\n",
      "4 0 2 4\n",
      "4 0 3 0\n",
      "4 0 3 1\n",
      "4 0 3 2\n",
      "4 0 3 4\n",
      "4 0 4 0\n",
      "4 0 4 1\n",
      "4 0 4 2\n",
      "4 0 4 3\n",
      "4 1 0 1\n",
      "4 1 0 2\n",
      "4 1 0 3\n",
      "done\n",
      "4 1 0 4\n",
      "4 1 1 0\n",
      "4 1 1 2\n",
      "4 1 1 3\n",
      "4 1 1 4\n",
      "4 1 2 0\n",
      "4 1 2 1\n",
      "4 1 2 3\n",
      "done\n",
      "4 1 2 4\n",
      "4 1 3 0\n",
      "done\n",
      "4 1 3 1\n",
      "4 1 3 2\n",
      "done\n",
      "4 1 3 4\n",
      "4 1 4 0\n",
      "4 1 4 1\n",
      "4 1 4 2\n",
      "4 1 4 3\n",
      "4 2 0 1\n",
      "4 2 0 2\n",
      "4 2 0 3\n",
      "done\n",
      "4 2 0 4\n",
      "4 2 1 0\n",
      "4 2 1 2\n",
      "4 2 1 3\n",
      "4 2 1 4\n",
      "4 2 2 0\n",
      "4 2 2 1\n",
      "4 2 2 3\n",
      "4 2 2 4\n",
      "4 2 3 0\n",
      "done\n",
      "4 2 3 1\n",
      "4 2 3 2\n",
      "4 2 3 4\n",
      "4 2 4 0\n",
      "4 2 4 1\n",
      "4 2 4 2\n",
      "4 2 4 3\n",
      "4 3 0 1\n",
      "4 3 0 2\n",
      "4 3 0 3\n",
      "4 3 0 4\n",
      "4 3 1 0\n",
      "4 3 1 2\n",
      "4 3 1 3\n",
      "4 3 1 4\n",
      "4 3 2 0\n",
      "4 3 2 1\n",
      "4 3 2 3\n",
      "4 3 2 4\n",
      "4 3 3 0\n",
      "4 3 3 1\n",
      "4 3 3 2\n",
      "4 3 3 4\n",
      "4 3 4 0\n",
      "4 3 4 1\n",
      "4 3 4 2\n",
      "4 3 4 3\n",
      "d: [3154663.17657238 1949689.25256175 -744713.8873381   460259.74909969\n",
      " 1204974.2091359  1204974.0508301  1204974.57015149 1204974.26629262\n",
      " 1204974.86006227 1204974.00599595]\n",
      "[0.66304365 0.61956503 0.61956502 0.57608703 0.54347832 0.5434783\n",
      " 0.45652169 0.45652169 0.26086964 0.26086963]\n",
      "[(3, 4), (1, 3), (0, 4), (0, 1), (0, 2)]\n"
     ]
    },
    {
     "data": {
      "text/plain": [
       "[(3, 4), (1, 3), (0, 4), (0, 1), (0, 2)]"
      ]
     },
     "execution_count": 354,
     "metadata": {},
     "output_type": "execute_result"
    }
   ],
   "source": [
    "result(exp)"
   ]
  },
  {
   "cell_type": "code",
   "execution_count": 355,
   "id": "2b66bc95",
   "metadata": {},
   "outputs": [
    {
     "data": {
      "image/png": "[encoded data removed]",
      "text/plain": [
       "<Figure size 640x480 with 1 Axes>"
      ]
     },
     "metadata": {},
     "output_type": "display_data"
    }
   ],
   "source": [
    "plot(exp)"
   ]
  },
  {
   "cell_type": "code",
   "execution_count": 356,
   "id": "e50b67c8",
   "metadata": {},
   "outputs": [],
   "source": [
    "def matrixA(p,phi):\n",
    "    l,orders=len_ord(p)\n",
    "    #print('orders:', orders)\n",
    "    #print(l)\n",
    "    #phi1=min(l)\n",
    "    #phi2=phi1\n",
    "    #print(phi)\n",
    "    #print('phi of amatrix:',phi)\n",
    "    a=np.array (l)\n",
    "    #print('phi of amatrix:',phi)\n",
    "    a=np.diag(a)\n",
    "    for i in range (len(p)):\n",
    "        for j in range (len(p)):\n",
    "            if j!=i:\n",
    "                for k in range(len(p)):\n",
    "                    for l in range(len(p)):\n",
    "                        if k!=l:\n",
    "                            #print(i,j,k,l)\n",
    "                            if len(set((i,j,k,l)))>2:\n",
    "                                if intersect(p,i,j,k,l):\n",
    "                                    #print('done')\n",
    "                                    a[orders.index((min(i,j),max(i,j))),orders.index((min(k,l),max(k,l)))]=phi\n",
    "                                    a[orders.index((min(k,l),max(k,l))),orders.index((min(i,j),max(i,j)))]=phi\n",
    "    \n",
    "    \n",
    "    d= np.linalg.eigvals(a)\n",
    "    #print('d:',d)  \n",
    "\n",
    "    return a"
   ]
  },
  {
   "cell_type": "code",
   "execution_count": 357,
   "id": "c0b1db80",
   "metadata": {},
   "outputs": [
    {
     "data": {
      "text/plain": [
       "array([[ 2.82842712e+00,  0.00000000e+00,  0.00000000e+00,\n",
       "         0.00000000e+00,  0.00000000e+00,  8.01999515e+04,\n",
       "        -1.00000000e+00, -1.00000000e+00, -0.00000000e+00,\n",
       "        -0.00000000e+00],\n",
       "       [ 0.00000000e+00,  2.00000000e+00,  0.00000000e+00,\n",
       "         0.00000000e+00,  0.00000000e+00,  0.00000000e+00,\n",
       "        -1.00000000e+00, -0.00000000e+00, -1.00000000e+00,\n",
       "        -0.00000000e+00],\n",
       "       [ 0.00000000e+00,  0.00000000e+00,  2.00000000e+00,\n",
       "         0.00000000e+00,  0.00000000e+00,  0.00000000e+00,\n",
       "        -1.00000000e+00, -0.00000000e+00, -0.00000000e+00,\n",
       "        -1.00000000e+00],\n",
       "       [ 0.00000000e+00,  0.00000000e+00,  0.00000000e+00,\n",
       "         2.00000000e+00,  0.00000000e+00,  0.00000000e+00,\n",
       "        -0.00000000e+00, -1.00000000e+00, -1.00000000e+00,\n",
       "        -0.00000000e+00],\n",
       "       [ 0.00000000e+00,  0.00000000e+00,  0.00000000e+00,\n",
       "         0.00000000e+00,  2.00000000e+00,  0.00000000e+00,\n",
       "        -0.00000000e+00, -1.00000000e+00, -0.00000000e+00,\n",
       "        -1.00000000e+00],\n",
       "       [ 8.01999515e+04,  0.00000000e+00,  0.00000000e+00,\n",
       "         0.00000000e+00,  0.00000000e+00,  2.82842712e+00,\n",
       "        -0.00000000e+00, -0.00000000e+00, -1.00000000e+00,\n",
       "        -1.00000000e+00],\n",
       "       [ 1.00000000e+00,  1.00000000e+00,  1.00000000e+00,\n",
       "         0.00000000e+00,  0.00000000e+00,  0.00000000e+00,\n",
       "         0.00000000e+00,  0.00000000e+00,  0.00000000e+00,\n",
       "         0.00000000e+00],\n",
       "       [ 1.00000000e+00,  0.00000000e+00,  0.00000000e+00,\n",
       "         1.00000000e+00,  1.00000000e+00,  0.00000000e+00,\n",
       "         0.00000000e+00,  0.00000000e+00,  0.00000000e+00,\n",
       "         0.00000000e+00],\n",
       "       [ 0.00000000e+00,  1.00000000e+00,  0.00000000e+00,\n",
       "         1.00000000e+00,  0.00000000e+00,  1.00000000e+00,\n",
       "         0.00000000e+00,  0.00000000e+00,  0.00000000e+00,\n",
       "         0.00000000e+00],\n",
       "       [ 0.00000000e+00,  0.00000000e+00,  1.00000000e+00,\n",
       "         0.00000000e+00,  1.00000000e+00,  1.00000000e+00,\n",
       "         0.00000000e+00,  0.00000000e+00,  0.00000000e+00,\n",
       "         0.00000000e+00]])"
      ]
     },
     "execution_count": 357,
     "metadata": {},
     "output_type": "execute_result"
    }
   ],
   "source": [
    "lag(p)"
   ]
  },
  {
   "cell_type": "code",
   "execution_count": 358,
   "id": "11d17a78",
   "metadata": {},
   "outputs": [],
   "source": [
    "def lagb(p):\n",
    "    l,orders= len_ord(p)\n",
    "    \n",
    "    b=[0]*len(l)+[2]*len(p)\n",
    "    return np.array(b)"
   ]
  },
  {
   "cell_type": "code",
   "execution_count": 359,
   "id": "b80a4e14",
   "metadata": {},
   "outputs": [
    {
     "name": "stdout",
     "output_type": "stream",
     "text": [
      "[ 1.54825765e+00  1.00000051e+00  9.99999374e-01  5.48257768e-01\n",
      "  4.51742127e-01  4.51741200e-01  7.32051518e-07  5.19040152e-07\n",
      "  4.13347898e-07 -2.99943152e-07]\n",
      "[(0, 2), (1, 4), (3, 4), (1, 3), (2, 3)]\n",
      "[(1, 4), (3, 4), (1, 3), (2, 3)]\n",
      "[ 1.54825765e+00  1.00000051e+00  9.99999374e-01  5.48257768e-01\n",
      "  4.51742127e-01  4.51741200e-01  7.32051518e-07  5.19040152e-07\n",
      "  4.13347898e-07 -2.99943152e-07]\n",
      "[(0, 2), (1, 4), (3, 4), (1, 3), (2, 3)]\n",
      "[(1, 4), (3, 4), (1, 3), (2, 3)]\n"
     ]
    },
    {
     "data": {
      "image/png": "[encoded data removed]",
      "text/plain": [
       "<Figure size 640x480 with 1 Axes>"
      ]
     },
     "metadata": {},
     "output_type": "display_data"
    }
   ],
   "source": [
    "\n",
    "n=5\n",
    "#exp= createrandomp(n)\n",
    "\n",
    "exp=[(0.7493275739011679, 0.9948275019674507),\n",
    " (0.048519776800154735, 0.2008895583908683),\n",
    " (0.7764973586571677, 0.7580190911671616),\n",
    " (0.6464911275673649, 0.28477009558535293),\n",
    " (0.5281652624778229, 0.27239931890021196)]\n",
    "res=sortedp(exp)\n",
    "printpath(exp)"
   ]
  },
  {
   "cell_type": "code",
   "execution_count": 360,
   "id": "bf0033ad",
   "metadata": {},
   "outputs": [
    {
     "data": {
      "image/png": "[encoded data removed]",
      "text/plain": [
       "<Figure size 640x480 with 1 Axes>"
      ]
     },
     "metadata": {},
     "output_type": "display_data"
    }
   ],
   "source": [
    "plot(exp)"
   ]
  },
  {
   "cell_type": "code",
   "execution_count": 361,
   "id": "d1d15368",
   "metadata": {},
   "outputs": [
    {
     "name": "stdout",
     "output_type": "stream",
     "text": [
      "(0, 1) 0.4517412003844484\n",
      "(0, 2) 1.548257654216136\n",
      "(0, 3) 7.320515176708412e-07\n",
      "(0, 4) 4.1334789792803574e-07\n",
      "(1, 2) 5.190401524198867e-07\n",
      "(1, 3) 0.5482577676208817\n",
      "(1, 4) 1.0000005129545175\n",
      "(2, 3) 0.4517421266868637\n",
      "(2, 4) -2.9994315205267764e-07\n",
      "(3, 4) 0.9999993736407369\n"
     ]
    }
   ],
   "source": [
    "L,b=lag(exp), lagb(exp)\n",
    "l, order= len_ord(exp)\n",
    "x=np.linalg.solve(L,b)\n",
    "for i in range(len(l)):\n",
    "    print(order[i], x[i])"
   ]
  },
  {
   "cell_type": "code",
   "execution_count": 362,
   "id": "17f1aa05",
   "metadata": {},
   "outputs": [
    {
     "data": {
      "text/plain": [
       "2.999998406453077"
      ]
     },
     "execution_count": 362,
     "metadata": {},
     "output_type": "execute_result"
    }
   ],
   "source": [
    "0.44211901146328025+1.5578800375249937+0.5578801046712429+0.44211925279356024"
   ]
  },
  {
   "cell_type": "code",
   "execution_count": 363,
   "id": "26466d11",
   "metadata": {},
   "outputs": [
    {
     "name": "stdout",
     "output_type": "stream",
     "text": [
      "(0, 1) 0.4517412003844484\n",
      "(0, 2) 1.548257654216136\n",
      "(0, 3) 7.320515176708412e-07\n",
      "(0, 4) 4.1334789792803574e-07\n",
      "(1, 2) 5.190401524198867e-07\n",
      "(1, 3) 0.5482577676208817\n",
      "(1, 4) 1.0000005129545175\n",
      "(2, 3) 0.4517421266868637\n",
      "(2, 4) -2.9994315205267764e-07\n",
      "(3, 4) 0.9999993736407369\n"
     ]
    },
    {
     "data": {
      "text/plain": [
       "([0, 1, 5, 7],\n",
       " array([[ 2.11798869e+00,  0.00000000e+00,  0.00000000e+00,\n",
       "          0.00000000e+00,  0.00000000e+00,  0.00000000e+00,\n",
       "          0.00000000e+00,  0.00000000e+00,  0.00000000e+00,\n",
       "          0.00000000e+00, -1.00000000e+00, -1.00000000e+00,\n",
       "         -0.00000000e+00, -0.00000000e+00, -0.00000000e+00],\n",
       "        [ 0.00000000e+00,  4.76723906e-01,  0.00000000e+00,\n",
       "          0.00000000e+00,  0.00000000e+00,  0.00000000e+00,\n",
       "          0.00000000e+00,  0.00000000e+00,  0.00000000e+00,\n",
       "          0.00000000e+00, -1.00000000e+00, -0.00000000e+00,\n",
       "         -1.00000000e+00, -0.00000000e+00, -0.00000000e+00],\n",
       "        [ 0.00000000e+00,  0.00000000e+00,  1.43493116e+00,\n",
       "          0.00000000e+00,  1.02616164e+06,  0.00000000e+00,\n",
       "          0.00000000e+00,  0.00000000e+00,  1.02616164e+06,\n",
       "          0.00000000e+00, -1.00000000e+00, -0.00000000e+00,\n",
       "         -0.00000000e+00, -1.00000000e+00, -0.00000000e+00],\n",
       "        [ 0.00000000e+00,  0.00000000e+00,  0.00000000e+00,\n",
       "          1.51104632e+00,  1.02616164e+06,  0.00000000e+00,\n",
       "          0.00000000e+00,  0.00000000e+00,  0.00000000e+00,\n",
       "          0.00000000e+00, -1.00000000e+00, -0.00000000e+00,\n",
       "         -0.00000000e+00, -0.00000000e+00, -1.00000000e+00],\n",
       "        [ 0.00000000e+00,  0.00000000e+00,  1.02616164e+06,\n",
       "          1.02616164e+06,  1.83340631e+00,  0.00000000e+00,\n",
       "          0.00000000e+00,  0.00000000e+00,  0.00000000e+00,\n",
       "          0.00000000e+00, -0.00000000e+00, -1.00000000e+00,\n",
       "         -1.00000000e+00, -0.00000000e+00, -0.00000000e+00],\n",
       "        [ 0.00000000e+00,  0.00000000e+00,  0.00000000e+00,\n",
       "          0.00000000e+00,  0.00000000e+00,  1.20765174e+00,\n",
       "          0.00000000e+00,  0.00000000e+00,  0.00000000e+00,\n",
       "          0.00000000e+00, -0.00000000e+00, -1.00000000e+00,\n",
       "         -0.00000000e+00, -1.00000000e+00, -0.00000000e+00],\n",
       "        [ 0.00000000e+00,  0.00000000e+00,  0.00000000e+00,\n",
       "          0.00000000e+00,  0.00000000e+00,  0.00000000e+00,\n",
       "          9.69893680e-01,  0.00000000e+00,  0.00000000e+00,\n",
       "          0.00000000e+00, -0.00000000e+00, -1.00000000e+00,\n",
       "         -0.00000000e+00, -0.00000000e+00, -1.00000000e+00],\n",
       "        [ 0.00000000e+00,  0.00000000e+00,  0.00000000e+00,\n",
       "          0.00000000e+00,  0.00000000e+00,  0.00000000e+00,\n",
       "          0.00000000e+00,  9.81562493e-01,  0.00000000e+00,\n",
       "          0.00000000e+00, -0.00000000e+00, -0.00000000e+00,\n",
       "         -1.00000000e+00, -1.00000000e+00, -0.00000000e+00],\n",
       "        [ 0.00000000e+00,  0.00000000e+00,  1.02616164e+06,\n",
       "          0.00000000e+00,  0.00000000e+00,  0.00000000e+00,\n",
       "          0.00000000e+00,  0.00000000e+00,  1.09086277e+00,\n",
       "          0.00000000e+00, -0.00000000e+00, -0.00000000e+00,\n",
       "         -1.00000000e+00, -0.00000000e+00, -1.00000000e+00],\n",
       "        [ 0.00000000e+00,  0.00000000e+00,  0.00000000e+00,\n",
       "          0.00000000e+00,  0.00000000e+00,  0.00000000e+00,\n",
       "          0.00000000e+00,  0.00000000e+00,  0.00000000e+00,\n",
       "          2.37941560e-01, -0.00000000e+00, -0.00000000e+00,\n",
       "         -0.00000000e+00, -1.00000000e+00, -1.00000000e+00],\n",
       "        [ 1.00000000e+00,  1.00000000e+00,  1.00000000e+00,\n",
       "          1.00000000e+00,  0.00000000e+00,  0.00000000e+00,\n",
       "          0.00000000e+00,  0.00000000e+00,  0.00000000e+00,\n",
       "          0.00000000e+00,  0.00000000e+00,  0.00000000e+00,\n",
       "          0.00000000e+00,  0.00000000e+00,  0.00000000e+00],\n",
       "        [ 1.00000000e+00,  0.00000000e+00,  0.00000000e+00,\n",
       "          0.00000000e+00,  1.00000000e+00,  1.00000000e+00,\n",
       "          1.00000000e+00,  0.00000000e+00,  0.00000000e+00,\n",
       "          0.00000000e+00,  0.00000000e+00,  0.00000000e+00,\n",
       "          0.00000000e+00,  0.00000000e+00,  0.00000000e+00],\n",
       "        [ 0.00000000e+00,  1.00000000e+00,  0.00000000e+00,\n",
       "          0.00000000e+00,  1.00000000e+00,  0.00000000e+00,\n",
       "          0.00000000e+00,  1.00000000e+00,  1.00000000e+00,\n",
       "          0.00000000e+00,  0.00000000e+00,  0.00000000e+00,\n",
       "          0.00000000e+00,  0.00000000e+00,  0.00000000e+00],\n",
       "        [ 0.00000000e+00,  0.00000000e+00,  1.00000000e+00,\n",
       "          0.00000000e+00,  0.00000000e+00,  1.00000000e+00,\n",
       "          0.00000000e+00,  1.00000000e+00,  0.00000000e+00,\n",
       "          1.00000000e+00,  0.00000000e+00,  0.00000000e+00,\n",
       "          0.00000000e+00,  0.00000000e+00,  0.00000000e+00],\n",
       "        [ 0.00000000e+00,  0.00000000e+00,  0.00000000e+00,\n",
       "          1.00000000e+00,  0.00000000e+00,  0.00000000e+00,\n",
       "          1.00000000e+00,  0.00000000e+00,  1.00000000e+00,\n",
       "          1.00000000e+00,  0.00000000e+00,  0.00000000e+00,\n",
       "          0.00000000e+00,  0.00000000e+00,  0.00000000e+00]]))"
      ]
     },
     "execution_count": 363,
     "metadata": {},
     "output_type": "execute_result"
    }
   ],
   "source": [
    "a=matrixA(exp,phi)\n",
    "c=matrixC(exp)\n",
    "b=vectorb(exp)\n",
    "L,b=lag(exp), lagb(exp)\n",
    "l, order= len_ord(exp)\n",
    "x=np.linalg.solve(L,b)\n",
    "artificial= []\n",
    "chosen=[]\n",
    "for i in range(len(l)):\n",
    "    print(order[i], x[i])\n",
    "    if abs(x[i]-1)>0.01 and abs(x[i])>0.001:\n",
    "        artificial.append(i)\n",
    "    else: chosen.append(i)\n",
    "artificial,L"
   ]
  },
  {
   "cell_type": "code",
   "execution_count": 364,
   "id": "679e8579",
   "metadata": {},
   "outputs": [
    {
     "data": {
      "text/plain": [
       "array([[ 2.11798869e+00,  1.28825731e+05,  0.00000000e+00,\n",
       "         0.00000000e+00,  0.00000000e+00,  1.28825731e+05,\n",
       "         0.00000000e+00,  1.28825731e+05,  0.00000000e+00,\n",
       "         0.00000000e+00, -1.00000000e+00, -1.00000000e+00,\n",
       "        -0.00000000e+00, -0.00000000e+00, -0.00000000e+00],\n",
       "       [ 1.28825731e+05,  4.76723906e-01,  0.00000000e+00,\n",
       "         0.00000000e+00,  0.00000000e+00,  1.28825731e+05,\n",
       "         0.00000000e+00,  1.28825731e+05,  0.00000000e+00,\n",
       "         0.00000000e+00, -1.00000000e+00, -0.00000000e+00,\n",
       "        -1.00000000e+00, -0.00000000e+00, -0.00000000e+00],\n",
       "       [ 0.00000000e+00,  0.00000000e+00,  1.43493116e+00,\n",
       "         0.00000000e+00,  1.02616164e+06,  0.00000000e+00,\n",
       "         0.00000000e+00,  0.00000000e+00,  1.02616164e+06,\n",
       "         0.00000000e+00, -1.00000000e+00, -0.00000000e+00,\n",
       "        -0.00000000e+00, -1.00000000e+00, -0.00000000e+00],\n",
       "       [ 0.00000000e+00,  0.00000000e+00,  0.00000000e+00,\n",
       "         1.51104632e+00,  1.02616164e+06,  0.00000000e+00,\n",
       "         0.00000000e+00,  0.00000000e+00,  0.00000000e+00,\n",
       "         0.00000000e+00, -1.00000000e+00, -0.00000000e+00,\n",
       "        -0.00000000e+00, -0.00000000e+00, -1.00000000e+00],\n",
       "       [ 0.00000000e+00,  0.00000000e+00,  1.02616164e+06,\n",
       "         1.02616164e+06,  1.83340631e+00,  0.00000000e+00,\n",
       "         0.00000000e+00,  0.00000000e+00,  0.00000000e+00,\n",
       "         0.00000000e+00, -0.00000000e+00, -1.00000000e+00,\n",
       "        -1.00000000e+00, -0.00000000e+00, -0.00000000e+00],\n",
       "       [ 1.28825731e+05,  1.28825731e+05,  0.00000000e+00,\n",
       "         0.00000000e+00,  0.00000000e+00,  1.20765174e+00,\n",
       "         0.00000000e+00,  1.28825731e+05,  0.00000000e+00,\n",
       "         0.00000000e+00, -0.00000000e+00, -1.00000000e+00,\n",
       "        -0.00000000e+00, -1.00000000e+00, -0.00000000e+00],\n",
       "       [ 0.00000000e+00,  0.00000000e+00,  0.00000000e+00,\n",
       "         0.00000000e+00,  0.00000000e+00,  0.00000000e+00,\n",
       "         9.69893680e-01,  0.00000000e+00,  0.00000000e+00,\n",
       "         0.00000000e+00, -0.00000000e+00, -1.00000000e+00,\n",
       "        -0.00000000e+00, -0.00000000e+00, -1.00000000e+00],\n",
       "       [ 1.28825731e+05,  1.28825731e+05,  0.00000000e+00,\n",
       "         0.00000000e+00,  0.00000000e+00,  1.28825731e+05,\n",
       "         0.00000000e+00,  9.81562493e-01,  0.00000000e+00,\n",
       "         0.00000000e+00, -0.00000000e+00, -0.00000000e+00,\n",
       "        -1.00000000e+00, -1.00000000e+00, -0.00000000e+00],\n",
       "       [ 0.00000000e+00,  0.00000000e+00,  1.02616164e+06,\n",
       "         0.00000000e+00,  0.00000000e+00,  0.00000000e+00,\n",
       "         0.00000000e+00,  0.00000000e+00,  1.09086277e+00,\n",
       "         0.00000000e+00, -0.00000000e+00, -0.00000000e+00,\n",
       "        -1.00000000e+00, -0.00000000e+00, -1.00000000e+00],\n",
       "       [ 0.00000000e+00,  0.00000000e+00,  0.00000000e+00,\n",
       "         0.00000000e+00,  0.00000000e+00,  0.00000000e+00,\n",
       "         0.00000000e+00,  0.00000000e+00,  0.00000000e+00,\n",
       "         2.37941560e-01, -0.00000000e+00, -0.00000000e+00,\n",
       "        -0.00000000e+00, -1.00000000e+00, -1.00000000e+00],\n",
       "       [ 1.00000000e+00,  1.00000000e+00,  1.00000000e+00,\n",
       "         1.00000000e+00,  0.00000000e+00,  0.00000000e+00,\n",
       "         0.00000000e+00,  0.00000000e+00,  0.00000000e+00,\n",
       "         0.00000000e+00,  0.00000000e+00,  0.00000000e+00,\n",
       "         0.00000000e+00,  0.00000000e+00,  0.00000000e+00],\n",
       "       [ 1.00000000e+00,  0.00000000e+00,  0.00000000e+00,\n",
       "         0.00000000e+00,  1.00000000e+00,  1.00000000e+00,\n",
       "         1.00000000e+00,  0.00000000e+00,  0.00000000e+00,\n",
       "         0.00000000e+00,  0.00000000e+00,  0.00000000e+00,\n",
       "         0.00000000e+00,  0.00000000e+00,  0.00000000e+00],\n",
       "       [ 0.00000000e+00,  1.00000000e+00,  0.00000000e+00,\n",
       "         0.00000000e+00,  1.00000000e+00,  0.00000000e+00,\n",
       "         0.00000000e+00,  1.00000000e+00,  1.00000000e+00,\n",
       "         0.00000000e+00,  0.00000000e+00,  0.00000000e+00,\n",
       "         0.00000000e+00,  0.00000000e+00,  0.00000000e+00],\n",
       "       [ 0.00000000e+00,  0.00000000e+00,  1.00000000e+00,\n",
       "         0.00000000e+00,  0.00000000e+00,  1.00000000e+00,\n",
       "         0.00000000e+00,  1.00000000e+00,  0.00000000e+00,\n",
       "         1.00000000e+00,  0.00000000e+00,  0.00000000e+00,\n",
       "         0.00000000e+00,  0.00000000e+00,  0.00000000e+00],\n",
       "       [ 0.00000000e+00,  0.00000000e+00,  0.00000000e+00,\n",
       "         1.00000000e+00,  0.00000000e+00,  0.00000000e+00,\n",
       "         1.00000000e+00,  0.00000000e+00,  1.00000000e+00,\n",
       "         1.00000000e+00,  0.00000000e+00,  0.00000000e+00,\n",
       "         0.00000000e+00,  0.00000000e+00,  0.00000000e+00]])"
      ]
     },
     "execution_count": 364,
     "metadata": {},
     "output_type": "execute_result"
    }
   ],
   "source": [
    "l,orders=len_ord(exp)\n",
    "phi=(sum(l)+10)**(len(p))\n",
    "for i in artificial:\n",
    "    for j in artificial:\n",
    "        if i!=j:\n",
    "            L[i,j]+=phi\n",
    "            L[j,i]+=phi\n",
    "L"
   ]
  },
  {
   "cell_type": "code",
   "execution_count": 365,
   "id": "221d5162",
   "metadata": {},
   "outputs": [
    {
     "name": "stdout",
     "output_type": "stream",
     "text": [
      "(0, 1) 0.7618843291893646\n",
      "(0, 2) 0.9511715848203743\n",
      "(0, 3) -0.023764189563496147\n",
      "(0, 4) 0.3107082755537563\n",
      "(1, 2) -0.023763948106678364\n",
      "(1, 3) 0.5725877622609377\n",
      "(1, 4) 0.6892918566563757\n",
      "(2, 3) 0.7618844613994975\n",
      "(2, 4) 0.3107079018868066\n",
      "(3, 4) 0.689291965903061\n"
     ]
    }
   ],
   "source": [
    "x=np.linalg.solve(L,b)\n",
    "for i in range(len(l)):\n",
    "    print(order[i], x[i])"
   ]
  },
  {
   "cell_type": "code",
   "execution_count": 366,
   "id": "359dc401",
   "metadata": {},
   "outputs": [
    {
     "ename": "SyntaxError",
     "evalue": "invalid syntax (58053043.py, line 1)",
     "output_type": "error",
     "traceback": [
      "\u001b[1;36m  File \u001b[1;32m\"C:\\Users\\Lenovo\\AppData\\Local\\Temp\\ipykernel_84592\\58053043.py\"\u001b[1;36m, line \u001b[1;32m1\u001b[0m\n\u001b[1;33m    (0, 1) 0.4517412003844484\u001b[0m\n\u001b[1;37m           ^\u001b[0m\n\u001b[1;31mSyntaxError\u001b[0m\u001b[1;31m:\u001b[0m invalid syntax\n"
     ]
    }
   ],
   "source": [
    "\n",
    "(0, 1) 0.4517412003844484\n",
    "(0, 2) 1.548257654216136\n",
    "(0, 3) 7.320515176708412e-07\n",
    "(0, 4) 4.1334789792803574e-07\n",
    "(1, 2) 5.190401524198867e-07\n",
    "(1, 3) 0.5482577676208817\n",
    "(1, 4) 1.0000005129545175\n",
    "(2, 3) 0.4517421266868637\n",
    "(2, 4) -2.9994315205267764e-07\n",
    "(3, 4) 0.9999993736407369\n",
    "avant artificiel\n"
   ]
  },
  {
   "cell_type": "code",
   "execution_count": 367,
   "id": "0345fe19",
   "metadata": {},
   "outputs": [
    {
     "name": "stdout",
     "output_type": "stream",
     "text": [
      "(0, 1) 0.7618843291893646\n",
      "(0, 2) 0.9511715848203743\n",
      "(1, 3) 0.5725877622609377\n",
      "(2, 3) 0.7618844613994975\n"
     ]
    }
   ],
   "source": [
    "artificial0=[]\n",
    "for i in artificial:\n",
    "    print(order[i], x[i])\n",
    "    if abs(x[i]-1)>0.01 and abs(x[i])>0.001:\n",
    "        artificial0.append(i)\n",
    "artificial=artificial0"
   ]
  },
  {
   "cell_type": "code",
   "execution_count": 368,
   "id": "811465cd",
   "metadata": {},
   "outputs": [
    {
     "data": {
      "text/plain": [
       "[0, 1, 5, 7]"
      ]
     },
     "execution_count": 368,
     "metadata": {},
     "output_type": "execute_result"
    }
   ],
   "source": [
    "artificial"
   ]
  },
  {
   "cell_type": "code",
   "execution_count": 369,
   "id": "82985834",
   "metadata": {},
   "outputs": [
    {
     "data": {
      "text/plain": [
       "array([[ 2.11798869e+00,  6.44128657e+04,  0.00000000e+00,\n",
       "         0.00000000e+00,  0.00000000e+00,  6.44128657e+04,\n",
       "         0.00000000e+00,  6.44128657e+04,  0.00000000e+00,\n",
       "         0.00000000e+00, -1.00000000e+00, -1.00000000e+00,\n",
       "        -0.00000000e+00, -0.00000000e+00, -0.00000000e+00],\n",
       "       [ 6.44128657e+04,  4.76723906e-01,  0.00000000e+00,\n",
       "         0.00000000e+00,  0.00000000e+00,  6.44128657e+04,\n",
       "         0.00000000e+00,  6.44128657e+04,  0.00000000e+00,\n",
       "         0.00000000e+00, -1.00000000e+00, -0.00000000e+00,\n",
       "        -1.00000000e+00, -0.00000000e+00, -0.00000000e+00],\n",
       "       [ 0.00000000e+00,  0.00000000e+00,  1.43493116e+00,\n",
       "         0.00000000e+00,  1.02616164e+06,  0.00000000e+00,\n",
       "         0.00000000e+00,  0.00000000e+00,  1.02616164e+06,\n",
       "         0.00000000e+00, -1.00000000e+00, -0.00000000e+00,\n",
       "        -0.00000000e+00, -1.00000000e+00, -0.00000000e+00],\n",
       "       [ 0.00000000e+00,  0.00000000e+00,  0.00000000e+00,\n",
       "         1.51104632e+00,  1.02616164e+06,  0.00000000e+00,\n",
       "         0.00000000e+00,  0.00000000e+00,  0.00000000e+00,\n",
       "         0.00000000e+00, -1.00000000e+00, -0.00000000e+00,\n",
       "        -0.00000000e+00, -0.00000000e+00, -1.00000000e+00],\n",
       "       [ 0.00000000e+00,  0.00000000e+00,  1.02616164e+06,\n",
       "         1.02616164e+06,  1.83340631e+00,  0.00000000e+00,\n",
       "         0.00000000e+00,  0.00000000e+00,  0.00000000e+00,\n",
       "         0.00000000e+00, -0.00000000e+00, -1.00000000e+00,\n",
       "        -1.00000000e+00, -0.00000000e+00, -0.00000000e+00],\n",
       "       [ 6.44128657e+04,  6.44128657e+04,  0.00000000e+00,\n",
       "         0.00000000e+00,  0.00000000e+00,  1.20765174e+00,\n",
       "         0.00000000e+00,  6.44128657e+04,  0.00000000e+00,\n",
       "         0.00000000e+00, -0.00000000e+00, -1.00000000e+00,\n",
       "        -0.00000000e+00, -1.00000000e+00, -0.00000000e+00],\n",
       "       [ 0.00000000e+00,  0.00000000e+00,  0.00000000e+00,\n",
       "         0.00000000e+00,  0.00000000e+00,  0.00000000e+00,\n",
       "         9.69893680e-01,  0.00000000e+00,  0.00000000e+00,\n",
       "         0.00000000e+00, -0.00000000e+00, -1.00000000e+00,\n",
       "        -0.00000000e+00, -0.00000000e+00, -1.00000000e+00],\n",
       "       [ 6.44128657e+04,  6.44128657e+04,  0.00000000e+00,\n",
       "         0.00000000e+00,  0.00000000e+00,  6.44128657e+04,\n",
       "         0.00000000e+00,  9.81562493e-01,  0.00000000e+00,\n",
       "         0.00000000e+00, -0.00000000e+00, -0.00000000e+00,\n",
       "        -1.00000000e+00, -1.00000000e+00, -0.00000000e+00],\n",
       "       [ 0.00000000e+00,  0.00000000e+00,  1.02616164e+06,\n",
       "         0.00000000e+00,  0.00000000e+00,  0.00000000e+00,\n",
       "         0.00000000e+00,  0.00000000e+00,  1.09086277e+00,\n",
       "         0.00000000e+00, -0.00000000e+00, -0.00000000e+00,\n",
       "        -1.00000000e+00, -0.00000000e+00, -1.00000000e+00],\n",
       "       [ 0.00000000e+00,  0.00000000e+00,  0.00000000e+00,\n",
       "         0.00000000e+00,  0.00000000e+00,  0.00000000e+00,\n",
       "         0.00000000e+00,  0.00000000e+00,  0.00000000e+00,\n",
       "         2.37941560e-01, -0.00000000e+00, -0.00000000e+00,\n",
       "        -0.00000000e+00, -1.00000000e+00, -1.00000000e+00],\n",
       "       [ 1.00000000e+00,  1.00000000e+00,  1.00000000e+00,\n",
       "         1.00000000e+00,  0.00000000e+00,  0.00000000e+00,\n",
       "         0.00000000e+00,  0.00000000e+00,  0.00000000e+00,\n",
       "         0.00000000e+00,  0.00000000e+00,  0.00000000e+00,\n",
       "         0.00000000e+00,  0.00000000e+00,  0.00000000e+00],\n",
       "       [ 1.00000000e+00,  0.00000000e+00,  0.00000000e+00,\n",
       "         0.00000000e+00,  1.00000000e+00,  1.00000000e+00,\n",
       "         1.00000000e+00,  0.00000000e+00,  0.00000000e+00,\n",
       "         0.00000000e+00,  0.00000000e+00,  0.00000000e+00,\n",
       "         0.00000000e+00,  0.00000000e+00,  0.00000000e+00],\n",
       "       [ 0.00000000e+00,  1.00000000e+00,  0.00000000e+00,\n",
       "         0.00000000e+00,  1.00000000e+00,  0.00000000e+00,\n",
       "         0.00000000e+00,  1.00000000e+00,  1.00000000e+00,\n",
       "         0.00000000e+00,  0.00000000e+00,  0.00000000e+00,\n",
       "         0.00000000e+00,  0.00000000e+00,  0.00000000e+00],\n",
       "       [ 0.00000000e+00,  0.00000000e+00,  1.00000000e+00,\n",
       "         0.00000000e+00,  0.00000000e+00,  1.00000000e+00,\n",
       "         0.00000000e+00,  1.00000000e+00,  0.00000000e+00,\n",
       "         1.00000000e+00,  0.00000000e+00,  0.00000000e+00,\n",
       "         0.00000000e+00,  0.00000000e+00,  0.00000000e+00],\n",
       "       [ 0.00000000e+00,  0.00000000e+00,  0.00000000e+00,\n",
       "         1.00000000e+00,  0.00000000e+00,  0.00000000e+00,\n",
       "         1.00000000e+00,  0.00000000e+00,  1.00000000e+00,\n",
       "         1.00000000e+00,  0.00000000e+00,  0.00000000e+00,\n",
       "         0.00000000e+00,  0.00000000e+00,  0.00000000e+00]])"
      ]
     },
     "execution_count": 369,
     "metadata": {},
     "output_type": "execute_result"
    }
   ],
   "source": [
    "l,orders=len_ord(exp)\n",
    "phi=(sum(l)+10)**(len(p))\n",
    "for i in artificial:\n",
    "    for j in artificial:\n",
    "        if i!=j:\n",
    "            L[i,j]=+phi\n",
    "            L[j,i]=+phi\n",
    "L"
   ]
  },
  {
   "cell_type": "code",
   "execution_count": 370,
   "id": "d44aff54",
   "metadata": {},
   "outputs": [
    {
     "name": "stdout",
     "output_type": "stream",
     "text": [
      "(0, 1) 0.7605411473735861\n",
      "(0, 2) 1.096239699524424\n",
      "(0, 3) -0.021072472180532927\n",
      "(0, 4) 0.16429162528252164\n",
      "(1, 2) -0.021072272141861508\n",
      "(1, 3) 0.42482241307654633\n",
      "(1, 4) 0.8357087116917293\n",
      "(2, 3) 0.7605414843478379\n",
      "(2, 4) 0.16429108826960004\n",
      "(3, 4) 0.8357085747561489\n"
     ]
    }
   ],
   "source": [
    "x=np.linalg.solve(L,b)\n",
    "for i in range(len(l)):\n",
    "    print(order[i], x[i])"
   ]
  },
  {
   "cell_type": "code",
   "execution_count": 371,
   "id": "d1af75a7",
   "metadata": {},
   "outputs": [
    {
     "ename": "SyntaxError",
     "evalue": "invalid syntax (3115810673.py, line 1)",
     "output_type": "error",
     "traceback": [
      "\u001b[1;36m  File \u001b[1;32m\"C:\\Users\\Lenovo\\AppData\\Local\\Temp\\ipykernel_84592\\3115810673.py\"\u001b[1;36m, line \u001b[1;32m1\u001b[0m\n\u001b[1;33m    (0, 1) 0.4517412003844484\u001b[0m\n\u001b[1;37m           ^\u001b[0m\n\u001b[1;31mSyntaxError\u001b[0m\u001b[1;31m:\u001b[0m invalid syntax\n"
     ]
    }
   ],
   "source": [
    "\n",
    "(0, 1) 0.4517412003844484\n",
    "(0, 2) 1.548257654216136\n",
    "(0, 3) 7.320515176708412e-07\n",
    "(0, 4) 4.1334789792803574e-07\n",
    "(1, 2) 5.190401524198867e-07\n",
    "(1, 3) 0.5482577676208817\n",
    "(1, 4) 1.0000005129545175\n",
    "(2, 3) 0.4517421266868637\n",
    "(2, 4) -2.9994315205267764e-07\n",
    "(3, 4) 0.9999993736407369\n",
    "avant artificiel\n",
    "(0, 1) 0.7618843291893646\n",
    "(0, 2) 0.9511715848203743\n",
    "(1, 3) 0.5725877622609377\n",
    "(2, 3) 0.7618844613994975\n",
    "1er artificiel"
   ]
  },
  {
   "cell_type": "code",
   "execution_count": 372,
   "id": "57d75a34",
   "metadata": {},
   "outputs": [
    {
     "data": {
      "image/png": "[encoded data removed]",
      "text/plain": [
       "<Figure size 640x480 with 1 Axes>"
      ]
     },
     "metadata": {},
     "output_type": "display_data"
    }
   ],
   "source": [
    "plot(exp)"
   ]
  },
  {
   "cell_type": "code",
   "execution_count": 373,
   "id": "c2e4a829",
   "metadata": {},
   "outputs": [
    {
     "name": "stdout",
     "output_type": "stream",
     "text": [
      "(0, 1) 0.7605411473735861\n",
      "(0, 2) 1.096239699524424\n",
      "(1, 3) 0.42482241307654633\n",
      "(2, 3) 0.7605414843478379\n"
     ]
    }
   ],
   "source": [
    "artificial0=[]\n",
    "for i in artificial:\n",
    "    print(order[i], x[i])\n",
    "    if abs(x[i]-1)>0.01 and abs(x[i])>0.001:\n",
    "        artificial0.append(i)\n",
    "artificial=artificial0"
   ]
  },
  {
   "cell_type": "code",
   "execution_count": 374,
   "id": "fa3a269d",
   "metadata": {},
   "outputs": [
    {
     "data": {
      "text/plain": [
       "[0, 1, 5, 7]"
      ]
     },
     "execution_count": 374,
     "metadata": {},
     "output_type": "execute_result"
    }
   ],
   "source": [
    "artificial"
   ]
  },
  {
   "cell_type": "code",
   "execution_count": 375,
   "id": "87c62254",
   "metadata": {},
   "outputs": [
    {
     "data": {
      "text/plain": [
       "array([[ 2.11798869e+00,  6.44128657e+04,  0.00000000e+00,\n",
       "         0.00000000e+00,  0.00000000e+00,  6.44128657e+04,\n",
       "         0.00000000e+00,  6.44128657e+04,  0.00000000e+00,\n",
       "         0.00000000e+00, -1.00000000e+00, -1.00000000e+00,\n",
       "        -0.00000000e+00, -0.00000000e+00, -0.00000000e+00],\n",
       "       [ 6.44128657e+04,  4.76723906e-01,  0.00000000e+00,\n",
       "         0.00000000e+00,  0.00000000e+00,  6.44128657e+04,\n",
       "         0.00000000e+00,  6.44128657e+04,  0.00000000e+00,\n",
       "         0.00000000e+00, -1.00000000e+00, -0.00000000e+00,\n",
       "        -1.00000000e+00, -0.00000000e+00, -0.00000000e+00],\n",
       "       [ 0.00000000e+00,  0.00000000e+00,  1.43493116e+00,\n",
       "         0.00000000e+00,  1.02616164e+06,  0.00000000e+00,\n",
       "         0.00000000e+00,  0.00000000e+00,  1.02616164e+06,\n",
       "         0.00000000e+00, -1.00000000e+00, -0.00000000e+00,\n",
       "        -0.00000000e+00, -1.00000000e+00, -0.00000000e+00],\n",
       "       [ 0.00000000e+00,  0.00000000e+00,  0.00000000e+00,\n",
       "         1.51104632e+00,  1.02616164e+06,  0.00000000e+00,\n",
       "         0.00000000e+00,  0.00000000e+00,  0.00000000e+00,\n",
       "         0.00000000e+00, -1.00000000e+00, -0.00000000e+00,\n",
       "        -0.00000000e+00, -0.00000000e+00, -1.00000000e+00],\n",
       "       [ 0.00000000e+00,  0.00000000e+00,  1.02616164e+06,\n",
       "         1.02616164e+06,  1.83340631e+00,  0.00000000e+00,\n",
       "         0.00000000e+00,  0.00000000e+00,  0.00000000e+00,\n",
       "         0.00000000e+00, -0.00000000e+00, -1.00000000e+00,\n",
       "        -1.00000000e+00, -0.00000000e+00, -0.00000000e+00],\n",
       "       [ 6.44128657e+04,  6.44128657e+04,  0.00000000e+00,\n",
       "         0.00000000e+00,  0.00000000e+00,  1.20765174e+00,\n",
       "         0.00000000e+00,  6.44128657e+04,  0.00000000e+00,\n",
       "         0.00000000e+00, -0.00000000e+00, -1.00000000e+00,\n",
       "        -0.00000000e+00, -1.00000000e+00, -0.00000000e+00],\n",
       "       [ 0.00000000e+00,  0.00000000e+00,  0.00000000e+00,\n",
       "         0.00000000e+00,  0.00000000e+00,  0.00000000e+00,\n",
       "         9.69893680e-01,  0.00000000e+00,  0.00000000e+00,\n",
       "         0.00000000e+00, -0.00000000e+00, -1.00000000e+00,\n",
       "        -0.00000000e+00, -0.00000000e+00, -1.00000000e+00],\n",
       "       [ 6.44128657e+04,  6.44128657e+04,  0.00000000e+00,\n",
       "         0.00000000e+00,  0.00000000e+00,  6.44128657e+04,\n",
       "         0.00000000e+00,  9.81562493e-01,  0.00000000e+00,\n",
       "         0.00000000e+00, -0.00000000e+00, -0.00000000e+00,\n",
       "        -1.00000000e+00, -1.00000000e+00, -0.00000000e+00],\n",
       "       [ 0.00000000e+00,  0.00000000e+00,  1.02616164e+06,\n",
       "         0.00000000e+00,  0.00000000e+00,  0.00000000e+00,\n",
       "         0.00000000e+00,  0.00000000e+00,  1.09086277e+00,\n",
       "         0.00000000e+00, -0.00000000e+00, -0.00000000e+00,\n",
       "        -1.00000000e+00, -0.00000000e+00, -1.00000000e+00],\n",
       "       [ 0.00000000e+00,  0.00000000e+00,  0.00000000e+00,\n",
       "         0.00000000e+00,  0.00000000e+00,  0.00000000e+00,\n",
       "         0.00000000e+00,  0.00000000e+00,  0.00000000e+00,\n",
       "         2.37941560e-01, -0.00000000e+00, -0.00000000e+00,\n",
       "        -0.00000000e+00, -1.00000000e+00, -1.00000000e+00],\n",
       "       [ 1.00000000e+00,  1.00000000e+00,  1.00000000e+00,\n",
       "         1.00000000e+00,  0.00000000e+00,  0.00000000e+00,\n",
       "         0.00000000e+00,  0.00000000e+00,  0.00000000e+00,\n",
       "         0.00000000e+00,  0.00000000e+00,  0.00000000e+00,\n",
       "         0.00000000e+00,  0.00000000e+00,  0.00000000e+00],\n",
       "       [ 1.00000000e+00,  0.00000000e+00,  0.00000000e+00,\n",
       "         0.00000000e+00,  1.00000000e+00,  1.00000000e+00,\n",
       "         1.00000000e+00,  0.00000000e+00,  0.00000000e+00,\n",
       "         0.00000000e+00,  0.00000000e+00,  0.00000000e+00,\n",
       "         0.00000000e+00,  0.00000000e+00,  0.00000000e+00],\n",
       "       [ 0.00000000e+00,  1.00000000e+00,  0.00000000e+00,\n",
       "         0.00000000e+00,  1.00000000e+00,  0.00000000e+00,\n",
       "         0.00000000e+00,  1.00000000e+00,  1.00000000e+00,\n",
       "         0.00000000e+00,  0.00000000e+00,  0.00000000e+00,\n",
       "         0.00000000e+00,  0.00000000e+00,  0.00000000e+00],\n",
       "       [ 0.00000000e+00,  0.00000000e+00,  1.00000000e+00,\n",
       "         0.00000000e+00,  0.00000000e+00,  1.00000000e+00,\n",
       "         0.00000000e+00,  1.00000000e+00,  0.00000000e+00,\n",
       "         1.00000000e+00,  0.00000000e+00,  0.00000000e+00,\n",
       "         0.00000000e+00,  0.00000000e+00,  0.00000000e+00],\n",
       "       [ 0.00000000e+00,  0.00000000e+00,  0.00000000e+00,\n",
       "         1.00000000e+00,  0.00000000e+00,  0.00000000e+00,\n",
       "         1.00000000e+00,  0.00000000e+00,  1.00000000e+00,\n",
       "         1.00000000e+00,  0.00000000e+00,  0.00000000e+00,\n",
       "         0.00000000e+00,  0.00000000e+00,  0.00000000e+00]])"
      ]
     },
     "execution_count": 375,
     "metadata": {},
     "output_type": "execute_result"
    }
   ],
   "source": [
    "l,orders=len_ord(exp)\n",
    "phi=(sum(l)+10)**(len(p))\n",
    "for i in artificial:\n",
    "    for j in artificial:\n",
    "        if i!=j:\n",
    "            L[i,j]=phi\n",
    "            L[j,i]=phi\n",
    "L"
   ]
  },
  {
   "cell_type": "code",
   "execution_count": 376,
   "id": "c2fee834",
   "metadata": {
    "scrolled": true
   },
   "outputs": [
    {
     "name": "stdout",
     "output_type": "stream",
     "text": [
      "(0, 1) 0.7605411473735861\n",
      "(0, 2) 1.096239699524424\n",
      "(0, 3) -0.021072472180532927\n",
      "(0, 4) 0.16429162528252164\n",
      "(1, 2) -0.021072272141861508\n",
      "(1, 3) 0.42482241307654633\n",
      "(1, 4) 0.8357087116917293\n",
      "(2, 3) 0.7605414843478379\n",
      "(2, 4) 0.16429108826960004\n",
      "(3, 4) 0.8357085747561489\n"
     ]
    }
   ],
   "source": [
    "x=np.linalg.solve(L,b)\n",
    "for i in range(len(l)):\n",
    "    print(order[i], x[i])"
   ]
  },
  {
   "cell_type": "code",
   "execution_count": 377,
   "id": "6627fe33",
   "metadata": {},
   "outputs": [
    {
     "name": "stdout",
     "output_type": "stream",
     "text": [
      "(0, 1) 0.7605411473735861\n",
      "(0, 2) 1.096239699524424\n",
      "(1, 3) 0.42482241307654633\n",
      "(2, 3) 0.7605414843478379\n"
     ]
    }
   ],
   "source": [
    "artificial0=[]\n",
    "for i in artificial:\n",
    "    print(order[i], x[i])\n",
    "    if abs(x[i]-1)>0.01 and abs(x[i])>0.001:\n",
    "        artificial0.append(i)\n",
    "artificial=artificial0"
   ]
  },
  {
   "cell_type": "code",
   "execution_count": 378,
   "id": "cc85c9e0",
   "metadata": {},
   "outputs": [
    {
     "data": {
      "text/plain": [
       "[0, 1, 5, 7]"
      ]
     },
     "execution_count": 378,
     "metadata": {},
     "output_type": "execute_result"
    }
   ],
   "source": [
    "artificial"
   ]
  },
  {
   "cell_type": "code",
   "execution_count": 379,
   "id": "7121282c",
   "metadata": {},
   "outputs": [
    {
     "data": {
      "text/plain": [
       "array([[ 2.11798869e+00,  6.44128657e+04,  0.00000000e+00,\n",
       "         0.00000000e+00,  0.00000000e+00,  6.44128657e+04,\n",
       "         0.00000000e+00,  6.44128657e+04,  0.00000000e+00,\n",
       "         0.00000000e+00, -1.00000000e+00, -1.00000000e+00,\n",
       "        -0.00000000e+00, -0.00000000e+00, -0.00000000e+00],\n",
       "       [ 6.44128657e+04,  4.76723906e-01,  0.00000000e+00,\n",
       "         0.00000000e+00,  0.00000000e+00,  6.44128657e+04,\n",
       "         0.00000000e+00,  6.44128657e+04,  0.00000000e+00,\n",
       "         0.00000000e+00, -1.00000000e+00, -0.00000000e+00,\n",
       "        -1.00000000e+00, -0.00000000e+00, -0.00000000e+00],\n",
       "       [ 0.00000000e+00,  0.00000000e+00,  1.43493116e+00,\n",
       "         0.00000000e+00,  1.02616164e+06,  0.00000000e+00,\n",
       "         0.00000000e+00,  0.00000000e+00,  1.02616164e+06,\n",
       "         0.00000000e+00, -1.00000000e+00, -0.00000000e+00,\n",
       "        -0.00000000e+00, -1.00000000e+00, -0.00000000e+00],\n",
       "       [ 0.00000000e+00,  0.00000000e+00,  0.00000000e+00,\n",
       "         1.51104632e+00,  1.02616164e+06,  0.00000000e+00,\n",
       "         0.00000000e+00,  0.00000000e+00,  0.00000000e+00,\n",
       "         0.00000000e+00, -1.00000000e+00, -0.00000000e+00,\n",
       "        -0.00000000e+00, -0.00000000e+00, -1.00000000e+00],\n",
       "       [ 0.00000000e+00,  0.00000000e+00,  1.02616164e+06,\n",
       "         1.02616164e+06,  1.83340631e+00,  0.00000000e+00,\n",
       "         0.00000000e+00,  0.00000000e+00,  0.00000000e+00,\n",
       "         0.00000000e+00, -0.00000000e+00, -1.00000000e+00,\n",
       "        -1.00000000e+00, -0.00000000e+00, -0.00000000e+00],\n",
       "       [ 6.44128657e+04,  6.44128657e+04,  0.00000000e+00,\n",
       "         0.00000000e+00,  0.00000000e+00,  1.20765174e+00,\n",
       "         0.00000000e+00,  6.44128657e+04,  0.00000000e+00,\n",
       "         0.00000000e+00, -0.00000000e+00, -1.00000000e+00,\n",
       "        -0.00000000e+00, -1.00000000e+00, -0.00000000e+00],\n",
       "       [ 0.00000000e+00,  0.00000000e+00,  0.00000000e+00,\n",
       "         0.00000000e+00,  0.00000000e+00,  0.00000000e+00,\n",
       "         9.69893680e-01,  0.00000000e+00,  0.00000000e+00,\n",
       "         0.00000000e+00, -0.00000000e+00, -1.00000000e+00,\n",
       "        -0.00000000e+00, -0.00000000e+00, -1.00000000e+00],\n",
       "       [ 6.44128657e+04,  6.44128657e+04,  0.00000000e+00,\n",
       "         0.00000000e+00,  0.00000000e+00,  6.44128657e+04,\n",
       "         0.00000000e+00,  9.81562493e-01,  0.00000000e+00,\n",
       "         0.00000000e+00, -0.00000000e+00, -0.00000000e+00,\n",
       "        -1.00000000e+00, -1.00000000e+00, -0.00000000e+00],\n",
       "       [ 0.00000000e+00,  0.00000000e+00,  1.02616164e+06,\n",
       "         0.00000000e+00,  0.00000000e+00,  0.00000000e+00,\n",
       "         0.00000000e+00,  0.00000000e+00,  1.09086277e+00,\n",
       "         0.00000000e+00, -0.00000000e+00, -0.00000000e+00,\n",
       "        -1.00000000e+00, -0.00000000e+00, -1.00000000e+00],\n",
       "       [ 0.00000000e+00,  0.00000000e+00,  0.00000000e+00,\n",
       "         0.00000000e+00,  0.00000000e+00,  0.00000000e+00,\n",
       "         0.00000000e+00,  0.00000000e+00,  0.00000000e+00,\n",
       "         2.37941560e-01, -0.00000000e+00, -0.00000000e+00,\n",
       "        -0.00000000e+00, -1.00000000e+00, -1.00000000e+00],\n",
       "       [ 1.00000000e+00,  1.00000000e+00,  1.00000000e+00,\n",
       "         1.00000000e+00,  0.00000000e+00,  0.00000000e+00,\n",
       "         0.00000000e+00,  0.00000000e+00,  0.00000000e+00,\n",
       "         0.00000000e+00,  0.00000000e+00,  0.00000000e+00,\n",
       "         0.00000000e+00,  0.00000000e+00,  0.00000000e+00],\n",
       "       [ 1.00000000e+00,  0.00000000e+00,  0.00000000e+00,\n",
       "         0.00000000e+00,  1.00000000e+00,  1.00000000e+00,\n",
       "         1.00000000e+00,  0.00000000e+00,  0.00000000e+00,\n",
       "         0.00000000e+00,  0.00000000e+00,  0.00000000e+00,\n",
       "         0.00000000e+00,  0.00000000e+00,  0.00000000e+00],\n",
       "       [ 0.00000000e+00,  1.00000000e+00,  0.00000000e+00,\n",
       "         0.00000000e+00,  1.00000000e+00,  0.00000000e+00,\n",
       "         0.00000000e+00,  1.00000000e+00,  1.00000000e+00,\n",
       "         0.00000000e+00,  0.00000000e+00,  0.00000000e+00,\n",
       "         0.00000000e+00,  0.00000000e+00,  0.00000000e+00],\n",
       "       [ 0.00000000e+00,  0.00000000e+00,  1.00000000e+00,\n",
       "         0.00000000e+00,  0.00000000e+00,  1.00000000e+00,\n",
       "         0.00000000e+00,  1.00000000e+00,  0.00000000e+00,\n",
       "         1.00000000e+00,  0.00000000e+00,  0.00000000e+00,\n",
       "         0.00000000e+00,  0.00000000e+00,  0.00000000e+00],\n",
       "       [ 0.00000000e+00,  0.00000000e+00,  0.00000000e+00,\n",
       "         1.00000000e+00,  0.00000000e+00,  0.00000000e+00,\n",
       "         1.00000000e+00,  0.00000000e+00,  1.00000000e+00,\n",
       "         1.00000000e+00,  0.00000000e+00,  0.00000000e+00,\n",
       "         0.00000000e+00,  0.00000000e+00,  0.00000000e+00]])"
      ]
     },
     "execution_count": 379,
     "metadata": {},
     "output_type": "execute_result"
    }
   ],
   "source": [
    "l,orders=len_ord(exp)\n",
    "phi=(sum(l)+10)**(len(p))\n",
    "for i in artificial:\n",
    "    for j in artificial:\n",
    "        if i!=j:\n",
    "            L[i,j]=phi\n",
    "            L[j,i]=phi\n",
    "L"
   ]
  },
  {
   "cell_type": "code",
   "execution_count": 380,
   "id": "8bd8e1e4",
   "metadata": {},
   "outputs": [
    {
     "name": "stdout",
     "output_type": "stream",
     "text": [
      "(0, 1) 0.7605411473735861\n",
      "(0, 2) 1.096239699524424\n",
      "(0, 3) -0.021072472180532927\n",
      "(0, 4) 0.16429162528252164\n",
      "(1, 2) -0.021072272141861508\n",
      "(1, 3) 0.42482241307654633\n",
      "(1, 4) 0.8357087116917293\n",
      "(2, 3) 0.7605414843478379\n",
      "(2, 4) 0.16429108826960004\n",
      "(3, 4) 0.8357085747561489\n"
     ]
    }
   ],
   "source": [
    "x=np.linalg.solve(L,b)\n",
    "for i in range(len(l)):\n",
    "    print(order[i], x[i])"
   ]
  },
  {
   "cell_type": "code",
   "execution_count": 381,
   "id": "abb6ed52",
   "metadata": {},
   "outputs": [],
   "source": [
    "# i noticed that the model is getting worse so i will fix the points that have to do with the true path saved in chosen"
   ]
  },
  {
   "cell_type": "code",
   "execution_count": 382,
   "id": "671eb48c",
   "metadata": {},
   "outputs": [
    {
     "name": "stdout",
     "output_type": "stream",
     "text": [
      "[ 1.54825765e+00  1.00000051e+00  9.99999374e-01  5.48257768e-01\n",
      "  4.51742127e-01  4.51741200e-01  7.32051518e-07  5.19040152e-07\n",
      "  4.13347898e-07 -2.99943152e-07]\n",
      "[(0, 2), (1, 4), (3, 4), (1, 3), (2, 3)]\n",
      "[(1, 4), (3, 4), (1, 3), (2, 3)]\n",
      "[ 1.54825765e+00  1.00000051e+00  9.99999374e-01  5.48257768e-01\n",
      "  4.51742127e-01  4.51741200e-01  7.32051518e-07  5.19040152e-07\n",
      "  4.13347898e-07 -2.99943152e-07]\n",
      "[(0, 2), (1, 4), (3, 4), (1, 3), (2, 3)]\n",
      "[(1, 4), (3, 4), (1, 3), (2, 3)]\n"
     ]
    },
    {
     "data": {
      "image/png": "[encoded data removed]",
      "text/plain": [
       "<Figure size 640x480 with 1 Axes>"
      ]
     },
     "metadata": {},
     "output_type": "display_data"
    }
   ],
   "source": [
    "\n",
    "n=5\n",
    "#exp= createrandomp(n)\n",
    "\n",
    "exp=[(0.7493275739011679, 0.9948275019674507),\n",
    " (0.048519776800154735, 0.2008895583908683),\n",
    " (0.7764973586571677, 0.7580190911671616),\n",
    " (0.6464911275673649, 0.28477009558535293),\n",
    " (0.5281652624778229, 0.27239931890021196)]\n",
    "res=sortedp(exp)\n",
    "printpath(exp)"
   ]
  },
  {
   "cell_type": "code",
   "execution_count": 383,
   "id": "2312f921",
   "metadata": {},
   "outputs": [
    {
     "name": "stdout",
     "output_type": "stream",
     "text": [
      "(0, 1) 0.4517412003844484\n",
      "(0, 2) 1.548257654216136\n",
      "(0, 3) 7.320515176708412e-07\n",
      "(0, 4) 4.1334789792803574e-07\n",
      "(1, 2) 5.190401524198867e-07\n",
      "(1, 3) 0.5482577676208817\n",
      "(1, 4) 1.0000005129545175\n",
      "(2, 3) 0.4517421266868637\n",
      "(2, 4) -2.9994315205267764e-07\n",
      "(3, 4) 0.9999993736407369\n"
     ]
    },
    {
     "data": {
      "text/plain": [
       "([0, 1, 5, 7],\n",
       " array([[ 2.11798869e+00,  0.00000000e+00,  0.00000000e+00,\n",
       "          0.00000000e+00,  0.00000000e+00,  0.00000000e+00,\n",
       "          0.00000000e+00,  0.00000000e+00,  0.00000000e+00,\n",
       "          0.00000000e+00, -1.00000000e+00, -1.00000000e+00,\n",
       "         -0.00000000e+00, -0.00000000e+00, -0.00000000e+00],\n",
       "        [ 0.00000000e+00,  4.76723906e-01,  0.00000000e+00,\n",
       "          0.00000000e+00,  0.00000000e+00,  0.00000000e+00,\n",
       "          0.00000000e+00,  0.00000000e+00,  0.00000000e+00,\n",
       "          0.00000000e+00, -1.00000000e+00, -0.00000000e+00,\n",
       "         -1.00000000e+00, -0.00000000e+00, -0.00000000e+00],\n",
       "        [ 0.00000000e+00,  0.00000000e+00,  1.43493116e+00,\n",
       "          0.00000000e+00,  1.02616164e+06,  0.00000000e+00,\n",
       "          0.00000000e+00,  0.00000000e+00,  1.02616164e+06,\n",
       "          0.00000000e+00, -1.00000000e+00, -0.00000000e+00,\n",
       "         -0.00000000e+00, -1.00000000e+00, -0.00000000e+00],\n",
       "        [ 0.00000000e+00,  0.00000000e+00,  0.00000000e+00,\n",
       "          1.51104632e+00,  1.02616164e+06,  0.00000000e+00,\n",
       "          0.00000000e+00,  0.00000000e+00,  0.00000000e+00,\n",
       "          0.00000000e+00, -1.00000000e+00, -0.00000000e+00,\n",
       "         -0.00000000e+00, -0.00000000e+00, -1.00000000e+00],\n",
       "        [ 0.00000000e+00,  0.00000000e+00,  1.02616164e+06,\n",
       "          1.02616164e+06,  1.83340631e+00,  0.00000000e+00,\n",
       "          0.00000000e+00,  0.00000000e+00,  0.00000000e+00,\n",
       "          0.00000000e+00, -0.00000000e+00, -1.00000000e+00,\n",
       "         -1.00000000e+00, -0.00000000e+00, -0.00000000e+00],\n",
       "        [ 0.00000000e+00,  0.00000000e+00,  0.00000000e+00,\n",
       "          0.00000000e+00,  0.00000000e+00,  1.20765174e+00,\n",
       "          0.00000000e+00,  0.00000000e+00,  0.00000000e+00,\n",
       "          0.00000000e+00, -0.00000000e+00, -1.00000000e+00,\n",
       "         -0.00000000e+00, -1.00000000e+00, -0.00000000e+00],\n",
       "        [ 0.00000000e+00,  0.00000000e+00,  0.00000000e+00,\n",
       "          0.00000000e+00,  0.00000000e+00,  0.00000000e+00,\n",
       "          9.69893680e-01,  0.00000000e+00,  0.00000000e+00,\n",
       "          0.00000000e+00, -0.00000000e+00, -1.00000000e+00,\n",
       "         -0.00000000e+00, -0.00000000e+00, -1.00000000e+00],\n",
       "        [ 0.00000000e+00,  0.00000000e+00,  0.00000000e+00,\n",
       "          0.00000000e+00,  0.00000000e+00,  0.00000000e+00,\n",
       "          0.00000000e+00,  9.81562493e-01,  0.00000000e+00,\n",
       "          0.00000000e+00, -0.00000000e+00, -0.00000000e+00,\n",
       "         -1.00000000e+00, -1.00000000e+00, -0.00000000e+00],\n",
       "        [ 0.00000000e+00,  0.00000000e+00,  1.02616164e+06,\n",
       "          0.00000000e+00,  0.00000000e+00,  0.00000000e+00,\n",
       "          0.00000000e+00,  0.00000000e+00,  1.09086277e+00,\n",
       "          0.00000000e+00, -0.00000000e+00, -0.00000000e+00,\n",
       "         -1.00000000e+00, -0.00000000e+00, -1.00000000e+00],\n",
       "        [ 0.00000000e+00,  0.00000000e+00,  0.00000000e+00,\n",
       "          0.00000000e+00,  0.00000000e+00,  0.00000000e+00,\n",
       "          0.00000000e+00,  0.00000000e+00,  0.00000000e+00,\n",
       "          2.37941560e-01, -0.00000000e+00, -0.00000000e+00,\n",
       "         -0.00000000e+00, -1.00000000e+00, -1.00000000e+00],\n",
       "        [ 1.00000000e+00,  1.00000000e+00,  1.00000000e+00,\n",
       "          1.00000000e+00,  0.00000000e+00,  0.00000000e+00,\n",
       "          0.00000000e+00,  0.00000000e+00,  0.00000000e+00,\n",
       "          0.00000000e+00,  0.00000000e+00,  0.00000000e+00,\n",
       "          0.00000000e+00,  0.00000000e+00,  0.00000000e+00],\n",
       "        [ 1.00000000e+00,  0.00000000e+00,  0.00000000e+00,\n",
       "          0.00000000e+00,  1.00000000e+00,  1.00000000e+00,\n",
       "          1.00000000e+00,  0.00000000e+00,  0.00000000e+00,\n",
       "          0.00000000e+00,  0.00000000e+00,  0.00000000e+00,\n",
       "          0.00000000e+00,  0.00000000e+00,  0.00000000e+00],\n",
       "        [ 0.00000000e+00,  1.00000000e+00,  0.00000000e+00,\n",
       "          0.00000000e+00,  1.00000000e+00,  0.00000000e+00,\n",
       "          0.00000000e+00,  1.00000000e+00,  1.00000000e+00,\n",
       "          0.00000000e+00,  0.00000000e+00,  0.00000000e+00,\n",
       "          0.00000000e+00,  0.00000000e+00,  0.00000000e+00],\n",
       "        [ 0.00000000e+00,  0.00000000e+00,  1.00000000e+00,\n",
       "          0.00000000e+00,  0.00000000e+00,  1.00000000e+00,\n",
       "          0.00000000e+00,  1.00000000e+00,  0.00000000e+00,\n",
       "          1.00000000e+00,  0.00000000e+00,  0.00000000e+00,\n",
       "          0.00000000e+00,  0.00000000e+00,  0.00000000e+00],\n",
       "        [ 0.00000000e+00,  0.00000000e+00,  0.00000000e+00,\n",
       "          1.00000000e+00,  0.00000000e+00,  0.00000000e+00,\n",
       "          1.00000000e+00,  0.00000000e+00,  1.00000000e+00,\n",
       "          1.00000000e+00,  0.00000000e+00,  0.00000000e+00,\n",
       "          0.00000000e+00,  0.00000000e+00,  0.00000000e+00]]),\n",
       " [6, 9],\n",
       " [2, 3, 4, 8])"
      ]
     },
     "execution_count": 383,
     "metadata": {},
     "output_type": "execute_result"
    }
   ],
   "source": [
    "a=matrixA(exp,phi)\n",
    "c=matrixC(exp)\n",
    "b=vectorb(exp)\n",
    "L,b=lag(exp), lagb(exp)\n",
    "l, order= len_ord(exp)\n",
    "x=np.linalg.solve(L,b)\n",
    "artificial= []\n",
    "chosen=[]\n",
    "rejected=[]\n",
    "for i in range(len(l)):\n",
    "    print(order[i], x[i])\n",
    "    if abs(x[i]-1)>0.01 and abs(x[i])>0.001:\n",
    "        artificial.append(i)\n",
    "    if abs(x[i]-1)<0.01:\n",
    "        chosen.append(i)\n",
    "    if abs(x[i])<0.001:\n",
    "        rejected.append(i)\n",
    "        \n",
    "artificial,L,chosen,rejected"
   ]
  },
  {
   "cell_type": "code",
   "execution_count": 384,
   "id": "61bd8093",
   "metadata": {},
   "outputs": [
    {
     "data": {
      "image/png": "[encoded data removed]",
      "text/plain": [
       "<Figure size 640x480 with 1 Axes>"
      ]
     },
     "metadata": {},
     "output_type": "display_data"
    }
   ],
   "source": [
    "plot(exp)"
   ]
  },
  {
   "cell_type": "code",
   "execution_count": 385,
   "id": "5bdf4c97",
   "metadata": {},
   "outputs": [
    {
     "data": {
      "text/plain": [
       "[(0, 1),\n",
       " (0, 2),\n",
       " (0, 3),\n",
       " (0, 4),\n",
       " (1, 2),\n",
       " (1, 3),\n",
       " (1, 4),\n",
       " (2, 3),\n",
       " (2, 4),\n",
       " (3, 4)]"
      ]
     },
     "execution_count": 385,
     "metadata": {},
     "output_type": "execute_result"
    }
   ],
   "source": [
    "order"
   ]
  },
  {
   "cell_type": "code",
   "execution_count": 386,
   "id": "db7e9a70",
   "metadata": {},
   "outputs": [
    {
     "name": "stdout",
     "output_type": "stream",
     "text": [
      "(0, 1) 0.4517412003844484\n",
      "(0, 2) 1.548257654216136\n",
      "(0, 3) 7.320515176708412e-07\n",
      "(0, 4) 4.1334789792803574e-07\n",
      "(1, 2) 5.190401524198867e-07\n",
      "(1, 3) 0.5482577676208817\n",
      "(1, 4) 1.0000005129545175\n",
      "(2, 3) 0.4517421266868637\n",
      "(2, 4) -2.9994315205267764e-07\n",
      "(3, 4) 0.9999993736407369\n",
      "[[0 0 0 0 0 0 1 0 0 0]]\n",
      "[[0 0 0 0 0 0 0 0 0 1]]\n",
      "[[0 0 1 0 0 0 0 0 0 0]]\n",
      "[[0 0 0 1 0 0 0 0 0 0]]\n",
      "[[0 0 0 0 1 0 0 0 0 0]]\n",
      "[[0 0 0 0 0 0 0 0 1 0]]\n"
     ]
    }
   ],
   "source": [
    "a=matrixA(exp,phi)\n",
    "c=matrixC(exp)\n",
    "b=vectorb(exp)\n",
    "L,b=lag(exp), lagb(exp)\n",
    "l, order= len_ord(exp)\n",
    "x=np.linalg.solve(L,b)\n",
    "artificial= []\n",
    "chosen=[]\n",
    "rejected=[]\n",
    "for i in range(len(l)):\n",
    "    print(order[i], x[i])\n",
    "    if abs(x[i]-1)>0.01 and abs(x[i])>0.001:\n",
    "        artificial.append(i)\n",
    "    if abs(x[i]-1)<0.01:\n",
    "        chosen.append(i)\n",
    "    if abs(x[i])<0.001:\n",
    "        rejected.append(i)\n",
    "        \n",
    "artificial,L,chosen,rejected\n",
    "for i in chosen:\n",
    "    cond=[0]*c.shape[1]\n",
    "    cond[i]=1\n",
    "    cond=[cond]\n",
    "    cond=np.array(cond)\n",
    "    \n",
    "    \n",
    "    print(cond)\n",
    "    c = np.append(c, cond, axis=0)\n",
    "    \n",
    "    b=np.append(b, np.array([1]), axis=0)\n",
    "for i in rejected:\n",
    "    cond=[0]*c.shape[1]\n",
    "    cond[i]=1\n",
    "    cond=[cond]\n",
    "    cond=np.array(cond)\n",
    "    \n",
    "    \n",
    "    print(cond)\n",
    "    c = np.append(c, cond, axis=0)\n",
    "    \n",
    "    b=np.append(b, np.array([0]), axis=0)"
   ]
  },
  {
   "cell_type": "code",
   "execution_count": 387,
   "id": "d49f7884",
   "metadata": {},
   "outputs": [
    {
     "data": {
      "text/plain": [
       "array([[ 2.11798869e+00,  3.22064328e+04,  0.00000000e+00,\n",
       "         0.00000000e+00,  0.00000000e+00,  3.22064328e+04,\n",
       "         0.00000000e+00,  3.22064328e+04,  0.00000000e+00,\n",
       "         0.00000000e+00, -1.00000000e+00, -1.00000000e+00,\n",
       "        -0.00000000e+00, -0.00000000e+00, -0.00000000e+00,\n",
       "        -0.00000000e+00, -0.00000000e+00, -0.00000000e+00,\n",
       "        -0.00000000e+00, -0.00000000e+00, -0.00000000e+00],\n",
       "       [ 3.22064328e+04,  4.76723906e-01,  0.00000000e+00,\n",
       "         0.00000000e+00,  0.00000000e+00,  3.22064328e+04,\n",
       "         0.00000000e+00,  3.22064328e+04,  0.00000000e+00,\n",
       "         0.00000000e+00, -1.00000000e+00, -0.00000000e+00,\n",
       "        -1.00000000e+00, -0.00000000e+00, -0.00000000e+00,\n",
       "        -0.00000000e+00, -0.00000000e+00, -0.00000000e+00,\n",
       "        -0.00000000e+00, -0.00000000e+00, -0.00000000e+00],\n",
       "       [ 0.00000000e+00,  0.00000000e+00,  1.43493116e+00,\n",
       "         0.00000000e+00,  6.44128657e+04,  0.00000000e+00,\n",
       "         0.00000000e+00,  0.00000000e+00,  6.44128657e+04,\n",
       "         0.00000000e+00, -1.00000000e+00, -0.00000000e+00,\n",
       "        -0.00000000e+00, -1.00000000e+00, -0.00000000e+00,\n",
       "        -0.00000000e+00, -0.00000000e+00, -1.00000000e+00,\n",
       "        -0.00000000e+00, -0.00000000e+00, -0.00000000e+00],\n",
       "       [ 0.00000000e+00,  0.00000000e+00,  0.00000000e+00,\n",
       "         1.51104632e+00,  6.44128657e+04,  0.00000000e+00,\n",
       "         0.00000000e+00,  0.00000000e+00,  0.00000000e+00,\n",
       "         0.00000000e+00, -1.00000000e+00, -0.00000000e+00,\n",
       "        -0.00000000e+00, -0.00000000e+00, -1.00000000e+00,\n",
       "        -0.00000000e+00, -0.00000000e+00, -0.00000000e+00,\n",
       "        -1.00000000e+00, -0.00000000e+00, -0.00000000e+00],\n",
       "       [ 0.00000000e+00,  0.00000000e+00,  6.44128657e+04,\n",
       "         6.44128657e+04,  1.83340631e+00,  0.00000000e+00,\n",
       "         0.00000000e+00,  0.00000000e+00,  0.00000000e+00,\n",
       "         0.00000000e+00, -0.00000000e+00, -1.00000000e+00,\n",
       "        -1.00000000e+00, -0.00000000e+00, -0.00000000e+00,\n",
       "        -0.00000000e+00, -0.00000000e+00, -0.00000000e+00,\n",
       "        -0.00000000e+00, -1.00000000e+00, -0.00000000e+00],\n",
       "       [ 3.22064328e+04,  3.22064328e+04,  0.00000000e+00,\n",
       "         0.00000000e+00,  0.00000000e+00,  1.20765174e+00,\n",
       "         0.00000000e+00,  3.22064328e+04,  0.00000000e+00,\n",
       "         0.00000000e+00, -0.00000000e+00, -1.00000000e+00,\n",
       "        -0.00000000e+00, -1.00000000e+00, -0.00000000e+00,\n",
       "        -0.00000000e+00, -0.00000000e+00, -0.00000000e+00,\n",
       "        -0.00000000e+00, -0.00000000e+00, -0.00000000e+00],\n",
       "       [ 0.00000000e+00,  0.00000000e+00,  0.00000000e+00,\n",
       "         0.00000000e+00,  0.00000000e+00,  0.00000000e+00,\n",
       "         9.69893680e-01,  0.00000000e+00,  0.00000000e+00,\n",
       "         0.00000000e+00, -0.00000000e+00, -1.00000000e+00,\n",
       "        -0.00000000e+00, -0.00000000e+00, -1.00000000e+00,\n",
       "        -1.00000000e+00, -0.00000000e+00, -0.00000000e+00,\n",
       "        -0.00000000e+00, -0.00000000e+00, -0.00000000e+00],\n",
       "       [ 3.22064328e+04,  3.22064328e+04,  0.00000000e+00,\n",
       "         0.00000000e+00,  0.00000000e+00,  3.22064328e+04,\n",
       "         0.00000000e+00,  9.81562493e-01,  0.00000000e+00,\n",
       "         0.00000000e+00, -0.00000000e+00, -0.00000000e+00,\n",
       "        -1.00000000e+00, -1.00000000e+00, -0.00000000e+00,\n",
       "        -0.00000000e+00, -0.00000000e+00, -0.00000000e+00,\n",
       "        -0.00000000e+00, -0.00000000e+00, -0.00000000e+00],\n",
       "       [ 0.00000000e+00,  0.00000000e+00,  6.44128657e+04,\n",
       "         0.00000000e+00,  0.00000000e+00,  0.00000000e+00,\n",
       "         0.00000000e+00,  0.00000000e+00,  1.09086277e+00,\n",
       "         0.00000000e+00, -0.00000000e+00, -0.00000000e+00,\n",
       "        -1.00000000e+00, -0.00000000e+00, -1.00000000e+00,\n",
       "        -0.00000000e+00, -0.00000000e+00, -0.00000000e+00,\n",
       "        -0.00000000e+00, -0.00000000e+00, -1.00000000e+00],\n",
       "       [ 0.00000000e+00,  0.00000000e+00,  0.00000000e+00,\n",
       "         0.00000000e+00,  0.00000000e+00,  0.00000000e+00,\n",
       "         0.00000000e+00,  0.00000000e+00,  0.00000000e+00,\n",
       "         2.37941560e-01, -0.00000000e+00, -0.00000000e+00,\n",
       "        -0.00000000e+00, -1.00000000e+00, -1.00000000e+00,\n",
       "        -0.00000000e+00, -1.00000000e+00, -0.00000000e+00,\n",
       "        -0.00000000e+00, -0.00000000e+00, -0.00000000e+00],\n",
       "       [ 1.00000000e+00,  1.00000000e+00,  1.00000000e+00,\n",
       "         1.00000000e+00,  0.00000000e+00,  0.00000000e+00,\n",
       "         0.00000000e+00,  0.00000000e+00,  0.00000000e+00,\n",
       "         0.00000000e+00,  0.00000000e+00,  0.00000000e+00,\n",
       "         0.00000000e+00,  0.00000000e+00,  0.00000000e+00,\n",
       "         0.00000000e+00,  0.00000000e+00,  0.00000000e+00,\n",
       "         0.00000000e+00,  0.00000000e+00,  0.00000000e+00],\n",
       "       [ 1.00000000e+00,  0.00000000e+00,  0.00000000e+00,\n",
       "         0.00000000e+00,  1.00000000e+00,  1.00000000e+00,\n",
       "         1.00000000e+00,  0.00000000e+00,  0.00000000e+00,\n",
       "         0.00000000e+00,  0.00000000e+00,  0.00000000e+00,\n",
       "         0.00000000e+00,  0.00000000e+00,  0.00000000e+00,\n",
       "         0.00000000e+00,  0.00000000e+00,  0.00000000e+00,\n",
       "         0.00000000e+00,  0.00000000e+00,  0.00000000e+00],\n",
       "       [ 0.00000000e+00,  1.00000000e+00,  0.00000000e+00,\n",
       "         0.00000000e+00,  1.00000000e+00,  0.00000000e+00,\n",
       "         0.00000000e+00,  1.00000000e+00,  1.00000000e+00,\n",
       "         0.00000000e+00,  0.00000000e+00,  0.00000000e+00,\n",
       "         0.00000000e+00,  0.00000000e+00,  0.00000000e+00,\n",
       "         0.00000000e+00,  0.00000000e+00,  0.00000000e+00,\n",
       "         0.00000000e+00,  0.00000000e+00,  0.00000000e+00],\n",
       "       [ 0.00000000e+00,  0.00000000e+00,  1.00000000e+00,\n",
       "         0.00000000e+00,  0.00000000e+00,  1.00000000e+00,\n",
       "         0.00000000e+00,  1.00000000e+00,  0.00000000e+00,\n",
       "         1.00000000e+00,  0.00000000e+00,  0.00000000e+00,\n",
       "         0.00000000e+00,  0.00000000e+00,  0.00000000e+00,\n",
       "         0.00000000e+00,  0.00000000e+00,  0.00000000e+00,\n",
       "         0.00000000e+00,  0.00000000e+00,  0.00000000e+00],\n",
       "       [ 0.00000000e+00,  0.00000000e+00,  0.00000000e+00,\n",
       "         1.00000000e+00,  0.00000000e+00,  0.00000000e+00,\n",
       "         1.00000000e+00,  0.00000000e+00,  1.00000000e+00,\n",
       "         1.00000000e+00,  0.00000000e+00,  0.00000000e+00,\n",
       "         0.00000000e+00,  0.00000000e+00,  0.00000000e+00,\n",
       "         0.00000000e+00,  0.00000000e+00,  0.00000000e+00,\n",
       "         0.00000000e+00,  0.00000000e+00,  0.00000000e+00],\n",
       "       [ 0.00000000e+00,  0.00000000e+00,  0.00000000e+00,\n",
       "         0.00000000e+00,  0.00000000e+00,  0.00000000e+00,\n",
       "         1.00000000e+00,  0.00000000e+00,  0.00000000e+00,\n",
       "         0.00000000e+00,  0.00000000e+00,  0.00000000e+00,\n",
       "         0.00000000e+00,  0.00000000e+00,  0.00000000e+00,\n",
       "         0.00000000e+00,  0.00000000e+00,  0.00000000e+00,\n",
       "         0.00000000e+00,  0.00000000e+00,  0.00000000e+00],\n",
       "       [ 0.00000000e+00,  0.00000000e+00,  0.00000000e+00,\n",
       "         0.00000000e+00,  0.00000000e+00,  0.00000000e+00,\n",
       "         0.00000000e+00,  0.00000000e+00,  0.00000000e+00,\n",
       "         1.00000000e+00,  0.00000000e+00,  0.00000000e+00,\n",
       "         0.00000000e+00,  0.00000000e+00,  0.00000000e+00,\n",
       "         0.00000000e+00,  0.00000000e+00,  0.00000000e+00,\n",
       "         0.00000000e+00,  0.00000000e+00,  0.00000000e+00],\n",
       "       [ 0.00000000e+00,  0.00000000e+00,  1.00000000e+00,\n",
       "         0.00000000e+00,  0.00000000e+00,  0.00000000e+00,\n",
       "         0.00000000e+00,  0.00000000e+00,  0.00000000e+00,\n",
       "         0.00000000e+00,  0.00000000e+00,  0.00000000e+00,\n",
       "         0.00000000e+00,  0.00000000e+00,  0.00000000e+00,\n",
       "         0.00000000e+00,  0.00000000e+00,  0.00000000e+00,\n",
       "         0.00000000e+00,  0.00000000e+00,  0.00000000e+00],\n",
       "       [ 0.00000000e+00,  0.00000000e+00,  0.00000000e+00,\n",
       "         1.00000000e+00,  0.00000000e+00,  0.00000000e+00,\n",
       "         0.00000000e+00,  0.00000000e+00,  0.00000000e+00,\n",
       "         0.00000000e+00,  0.00000000e+00,  0.00000000e+00,\n",
       "         0.00000000e+00,  0.00000000e+00,  0.00000000e+00,\n",
       "         0.00000000e+00,  0.00000000e+00,  0.00000000e+00,\n",
       "         0.00000000e+00,  0.00000000e+00,  0.00000000e+00],\n",
       "       [ 0.00000000e+00,  0.00000000e+00,  0.00000000e+00,\n",
       "         0.00000000e+00,  1.00000000e+00,  0.00000000e+00,\n",
       "         0.00000000e+00,  0.00000000e+00,  0.00000000e+00,\n",
       "         0.00000000e+00,  0.00000000e+00,  0.00000000e+00,\n",
       "         0.00000000e+00,  0.00000000e+00,  0.00000000e+00,\n",
       "         0.00000000e+00,  0.00000000e+00,  0.00000000e+00,\n",
       "         0.00000000e+00,  0.00000000e+00,  0.00000000e+00],\n",
       "       [ 0.00000000e+00,  0.00000000e+00,  0.00000000e+00,\n",
       "         0.00000000e+00,  0.00000000e+00,  0.00000000e+00,\n",
       "         0.00000000e+00,  0.00000000e+00,  1.00000000e+00,\n",
       "         0.00000000e+00,  0.00000000e+00,  0.00000000e+00,\n",
       "         0.00000000e+00,  0.00000000e+00,  0.00000000e+00,\n",
       "         0.00000000e+00,  0.00000000e+00,  0.00000000e+00,\n",
       "         0.00000000e+00,  0.00000000e+00,  0.00000000e+00]])"
      ]
     },
     "execution_count": 387,
     "metadata": {},
     "output_type": "execute_result"
    }
   ],
   "source": [
    "L=np.zeros(len(l)+len(p))\n",
    "\n",
    "d=np.diag(np.diag(a))\n",
    "a=a+d\n",
    "c0=np.zeros([c.shape[0],c.shape[0]])\n",
    "\n",
    "L=np.bmat([[a, -c.T], [np.matrix(c),np.matrix(c0)]])\n",
    "#print((L/10000).round(1))\n",
    "L=np.array(L)\n",
    "phi=(sum(l)+10)**(len(p))\n",
    "for i in artificial:\n",
    "    for j in artificial:\n",
    "        if i!=j:\n",
    "            L[i,j]=phi/2\n",
    "            L[j,i]=phi/2\n",
    "L"
   ]
  },
  {
   "cell_type": "code",
   "execution_count": 388,
   "id": "98c75187",
   "metadata": {},
   "outputs": [
    {
     "name": "stdout",
     "output_type": "stream",
     "text": [
      "(0, 1) 0.7500110761921992\n",
      "(0, 2) 1.2499889238077981\n",
      "(0, 3) 4.518498324669774e-16\n",
      "(0, 4) 5.159971242173596e-21\n",
      "(1, 2) -7.878610925836035e-16\n",
      "(1, 3) 0.24998892380779802\n",
      "(1, 4) 1.0000000000000013\n",
      "(2, 3) 0.7500110761922002\n",
      "(2, 4) -1.0194691768715781e-15\n",
      "(3, 4) 1.0000000000000009\n"
     ]
    }
   ],
   "source": [
    "x=np.linalg.solve(L,b)\n",
    "for i in range(len(l)):\n",
    "    print(order[i], x[i])"
   ]
  },
  {
   "cell_type": "code",
   "execution_count": 389,
   "id": "a54e62aa",
   "metadata": {},
   "outputs": [
    {
     "ename": "SyntaxError",
     "evalue": "invalid syntax (2382280064.py, line 1)",
     "output_type": "error",
     "traceback": [
      "\u001b[1;36m  File \u001b[1;32m\"C:\\Users\\Lenovo\\AppData\\Local\\Temp\\ipykernel_84592\\2382280064.py\"\u001b[1;36m, line \u001b[1;32m1\u001b[0m\n\u001b[1;33m    (0, 1) 0.4517412003844484\u001b[0m\n\u001b[1;37m           ^\u001b[0m\n\u001b[1;31mSyntaxError\u001b[0m\u001b[1;31m:\u001b[0m invalid syntax\n"
     ]
    }
   ],
   "source": [
    "(0, 1) 0.4517412003844484\n",
    "(0, 2) 1.548257654216136\n",
    "(0, 3) 7.320515176708412e-07\n",
    "(0, 4) 4.1334789792803574e-07\n",
    "(1, 2) 5.190401524198867e-07\n",
    "(1, 3) 0.5482577676208817\n",
    "(1, 4) 1.0000005129545175\n",
    "(2, 3) 0.4517421266868637\n",
    "(2, 4) -2.9994315205267764e-07\n",
    "(3, 4) 0.9999993736407369\n",
    "apres artificial\n",
    "(0, 1) 0.750022153207089\n",
    "(0, 2) 1.2499778467929124\n",
    "(0, 3) 1.0615438965086209e-16\n",
    "(0, 4) -8.84810863926615e-16\n",
    "(1, 2) 6.136672073527704e-16\n",
    "(1, 3) 0.24997784679291124\n",
    "(1, 4) 1.0\n",
    "(2, 3) 0.7500221532070879\n",
    "(2, 4) 2.8999792893304635e-16\n",
    "(3, 4) 1.0000000000000004"
   ]
  },
  {
   "cell_type": "code",
   "execution_count": 390,
   "id": "464907be",
   "metadata": {},
   "outputs": [
    {
     "data": {
      "image/png": "[encoded data removed]",
      "text/plain": [
       "<Figure size 640x480 with 1 Axes>"
      ]
     },
     "metadata": {},
     "output_type": "display_data"
    }
   ],
   "source": [
    "plot(exp)"
   ]
  },
  {
   "cell_type": "code",
   "execution_count": 391,
   "id": "5168c46a",
   "metadata": {},
   "outputs": [],
   "source": [
    "#so this made me feel that maybe i need to insert artificial intersections 1 by one"
   ]
  },
  {
   "cell_type": "code",
   "execution_count": 392,
   "id": "1cfa03f3",
   "metadata": {},
   "outputs": [
    {
     "name": "stdout",
     "output_type": "stream",
     "text": [
      "[ 1.54825765e+00  1.00000051e+00  9.99999374e-01  5.48257768e-01\n",
      "  4.51742127e-01  4.51741200e-01  7.32051518e-07  5.19040152e-07\n",
      "  4.13347898e-07 -2.99943152e-07]\n",
      "[(0, 2), (1, 4), (3, 4), (1, 3), (2, 3)]\n",
      "[(1, 4), (3, 4), (1, 3), (2, 3)]\n",
      "[ 1.54825765e+00  1.00000051e+00  9.99999374e-01  5.48257768e-01\n",
      "  4.51742127e-01  4.51741200e-01  7.32051518e-07  5.19040152e-07\n",
      "  4.13347898e-07 -2.99943152e-07]\n",
      "[(0, 2), (1, 4), (3, 4), (1, 3), (2, 3)]\n",
      "[(1, 4), (3, 4), (1, 3), (2, 3)]\n",
      "(0, 1) 0.4517412003844484\n",
      "(0, 2) 1.548257654216136\n",
      "(0, 3) 7.320515176708412e-07\n",
      "(0, 4) 4.1334789792803574e-07\n",
      "(1, 2) 5.190401524198867e-07\n",
      "(1, 3) 0.5482577676208817\n",
      "(1, 4) 1.0000005129545175\n",
      "(2, 3) 0.4517421266868637\n",
      "(2, 4) -2.9994315205267764e-07\n",
      "(3, 4) 0.9999993736407369\n",
      "[[0 0 0 0 0 0 1 0 0 0]]\n",
      "[[0 0 0 0 0 0 0 0 0 1]]\n",
      "[[0 0 1 0 0 0 0 0 0 0]]\n",
      "[[0 0 0 1 0 0 0 0 0 0]]\n",
      "[[0 0 0 0 1 0 0 0 0 0]]\n",
      "[[0 0 0 0 0 0 0 0 1 0]]\n",
      "0 1\n",
      "0 (0, 1) 1.000020360254554\n",
      "1 (0, 2) 0.9999796397454461\n",
      "2 (0, 3) -2.860028870721348e-17\n",
      "3 (0, 4) 7.95910635469501e-17\n",
      "4 (1, 2) -2.4543301742073218e-16\n",
      "5 (1, 3) -2.0360254554124858e-05\n",
      "6 (1, 4) 0.9999999999999998\n",
      "7 (2, 3) 1.0000203602545537\n",
      "8 (2, 4) 1.3247487565380123e-16\n",
      "9 (3, 4) 0.9999999999999999\n",
      "0 5\n",
      "0 (0, 1) 0.5000035843930214\n",
      "1 (0, 2) 1.4999964156069785\n",
      "2 (0, 3) -5.646804466208355e-17\n",
      "3 (0, 4) 1.4118097995173638e-16\n",
      "4 (1, 2) 9.962059770527978e-17\n",
      "5 (1, 3) 0.49999641560740943\n",
      "6 (1, 4) 0.9999999999994934\n",
      "7 (2, 3) 0.5000035843934469\n",
      "8 (2, 4) -3.2553688183036554e-16\n",
      "9 (3, 4) 0.9999999999954733\n",
      "0 7\n",
      "0 (0, 1) 6.709152179226407e-05\n",
      "1 (0, 2) 1.9999329084782034\n",
      "2 (0, 3) -8.824325020500108e-19\n",
      "3 (0, 4) 1.3235861988605493e-18\n",
      "4 (1, 2) 7.82099117844256e-19\n",
      "5 (1, 3) 0.9999329084781969\n",
      "6 (1, 4) 0.9999999999999989\n",
      "7 (2, 3) 6.709152180430468e-05\n",
      "8 (2, 4) -7.820991225652965e-19\n",
      "9 (3, 4) 0.9999999999999988\n",
      "1 0\n",
      "0 (0, 1) 1.000162924389234\n",
      "1 (0, 2) 0.9998370756107601\n",
      "2 (0, 3) -7.945971414448489e-17\n",
      "3 (0, 4) -4.8083487752122396e-17\n",
      "4 (1, 2) -3.788251240559925e-16\n",
      "5 (1, 3) -0.00016292438923440962\n",
      "6 (1, 4) 1.0000000000000033\n",
      "7 (2, 3) 1.0001629243892383\n",
      "8 (2, 4) 2.658669886585694e-16\n",
      "9 (3, 4) 0.9999999999999987\n",
      "1 5\n",
      "0 (0, 1) 1.4993775389016204\n",
      "1 (0, 2) 0.5006224610982212\n",
      "2 (0, 3) -3.9538779359871507e-16\n",
      "3 (0, 4) 1.6910441926781744e-19\n",
      "4 (1, 2) -2.9601037911873965e-16\n",
      "5 (1, 3) -0.4993775389014892\n",
      "6 (1, 4) 0.9999999999999623\n",
      "7 (2, 3) 1.4993775389014434\n",
      "8 (2, 4) 1.2657317861805702e-16\n",
      "9 (3, 4) 1.0000000000001108\n",
      "1 7\n",
      "0 (0, 1) 1.0006522790648649\n",
      "1 (0, 2) 0.9993477209351349\n",
      "2 (0, 3) -1.489717578460225e-16\n",
      "3 (0, 4) 2.1714970088905301e-16\n",
      "4 (1, 2) 5.403423079696539e-17\n",
      "5 (1, 3) -0.0006522790648655591\n",
      "6 (1, 4) 1.0000000000000002\n",
      "7 (2, 3) 1.000652279064866\n",
      "8 (2, 4) -1.0698340110429805e-16\n",
      "9 (3, 4) 0.9999999999999997\n",
      "5 0\n",
      "0 (0, 1) 0.5001149652810457\n",
      "1 (0, 2) 1.4998850347167878\n",
      "2 (0, 3) 1.2127743945111755e-18\n",
      "3 (0, 4) 1.3555389599291616e-15\n",
      "4 (1, 2) -6.884029519324463e-16\n",
      "5 (1, 3) 0.4998850347187624\n",
      "6 (1, 4) 1.000000000000431\n",
      "7 (2, 3) 0.5001149652838596\n",
      "8 (2, 4) -1.1189290462314539e-15\n",
      "9 (3, 4) 0.9999999999990357\n",
      "5 1\n",
      "0 (0, 1) 1.495040924284655\n",
      "1 (0, 2) 0.5049590757153601\n",
      "2 (0, 3) -1.6933640223814639e-16\n",
      "3 (0, 4) -4.760117409064916e-19\n",
      "4 (1, 2) 1.0298363333222946e-16\n",
      "5 (1, 3) -0.49504092428463836\n",
      "6 (1, 4) 1.0000000000000209\n",
      "7 (2, 3) 1.4950409242846374\n",
      "8 (2, 4) -4.6504849881594264e-17\n",
      "9 (3, 4) 0.9999999999999912\n",
      "5 7\n",
      "0 (0, 1) 0.5004631713553106\n",
      "1 (0, 2) 1.4995368286451825\n",
      "2 (0, 3) 1.805913453548828e-14\n",
      "3 (0, 4) -5.186471001506375e-15\n",
      "4 (1, 2) -3.037782654947739e-14\n",
      "5 (1, 3) 0.4995368286442319\n",
      "6 (1, 4) 1.000000000000431\n",
      "7 (2, 3) 0.5004631713541073\n",
      "8 (2, 4) 3.2679533134849536e-15\n",
      "9 (3, 4) 0.9999999999990357\n",
      "7 0\n",
      "0 (0, 1) 0.008428734425256426\n",
      "1 (0, 2) 1.991571265574743\n",
      "2 (0, 3) 4.842179063712561e-19\n",
      "3 (0, 4) -3.606556034187095e-18\n",
      "4 (1, 2) 2.3082678776636547e-18\n",
      "5 (1, 3) 0.9915712655747437\n",
      "6 (1, 4) 0.9999999999999998\n",
      "7 (2, 3) 0.008428734425256348\n",
      "8 (2, 4) -4.9562144956278175e-18\n",
      "9 (3, 4) 1.000000000000001\n",
      "7 1\n",
      "0 (0, 1) 1.02167223726047\n",
      "1 (0, 2) 0.9783277627395293\n",
      "2 (0, 3) -2.594001760693484e-16\n",
      "3 (0, 4) -3.58757378015861e-17\n",
      "4 (1, 2) -1.6362699487538648e-16\n",
      "5 (1, 3) -0.021672237260470385\n",
      "6 (1, 4) 1.0000000000000004\n",
      "7 (2, 3) 1.02167223726047\n",
      "8 (2, 4) -1.0469000726581572e-16\n",
      "9 (3, 4) 0.9999999999999997\n",
      "7 5\n",
      "0 (0, 1) 0.5039722435508399\n",
      "1 (0, 2) 1.4960277564491584\n",
      "2 (0, 3) -1.6829194285437206e-16\n",
      "3 (0, 4) -2.0871993457058128e-16\n",
      "4 (1, 2) 6.542377810138363e-16\n",
      "5 (1, 3) 0.4960277564491545\n",
      "6 (1, 4) 1.0000000000000044\n",
      "7 (2, 3) 0.5039722435508392\n",
      "8 (2, 4) -3.302025221641987e-17\n",
      "9 (3, 4) 0.9999999999999987\n"
     ]
    },
    {
     "data": {
      "image/png": "[encoded data removed]",
      "text/plain": [
       "<Figure size 640x480 with 1 Axes>"
      ]
     },
     "metadata": {},
     "output_type": "display_data"
    }
   ],
   "source": [
    "\n",
    "n=5\n",
    "#exp= createrandomp(n)\n",
    "\n",
    "exp=[(0.7493275739011679, 0.9948275019674507),\n",
    " (0.048519776800154735, 0.2008895583908683),\n",
    " (0.7764973586571677, 0.7580190911671616),\n",
    " (0.6464911275673649, 0.28477009558535293),\n",
    " (0.5281652624778229, 0.27239931890021196)]\n",
    "res=sortedp(exp)\n",
    "printpath(exp)\n",
    "\n",
    "\n",
    "\n",
    "\n",
    "a=matrixA(exp,phi)\n",
    "c=matrixC(exp)\n",
    "b=vectorb(exp)\n",
    "L,b=lag(exp), lagb(exp)\n",
    "l, order= len_ord(exp)\n",
    "x=np.linalg.solve(L,b)\n",
    "artificial= []\n",
    "chosen=[]\n",
    "rejected=[]\n",
    "for i in range(len(l)):\n",
    "    print(order[i], x[i])\n",
    "    if abs(x[i]-1)>0.01 and abs(x[i])>0.001:\n",
    "        artificial.append(i)\n",
    "    if abs(x[i]-1)<0.01:\n",
    "        chosen.append(i)\n",
    "    if abs(x[i])<0.001:\n",
    "        rejected.append(i)\n",
    "for i in chosen:\n",
    "    cond=[0]*c.shape[1]\n",
    "    cond[i]=1\n",
    "    cond=[cond]\n",
    "    cond=np.array(cond)\n",
    "    \n",
    "    \n",
    "    print(cond)\n",
    "    c = np.append(c, cond, axis=0)\n",
    "    \n",
    "    b=np.append(b, np.array([1]), axis=0)\n",
    "for i in rejected:\n",
    "    cond=[0]*c.shape[1]\n",
    "    cond[i]=1\n",
    "    cond=[cond]\n",
    "    cond=np.array(cond)\n",
    "    \n",
    "    \n",
    "    print(cond)\n",
    "    c = np.append(c, cond, axis=0)\n",
    "    \n",
    "    b=np.append(b, np.array([0]), axis=0)   \n",
    "for i in artificial:\n",
    "    for j in artificial:\n",
    "        if i!=j:\n",
    "            L=np.zeros(len(l)+len(p))\n",
    "\n",
    "            d=np.diag(np.diag(a))\n",
    "            a=a+d\n",
    "            c0=np.zeros([c.shape[0],c.shape[0]])\n",
    "\n",
    "            L=np.bmat([[a, -c.T], [np.matrix(c),np.matrix(c0)]])\n",
    "            \n",
    "            #print((L/10000).round(1))\n",
    "            L=np.array(L)\n",
    "            phi=(sum(l)+10)**(len(p))\n",
    "            L[i,j]=phi\n",
    "            L[j,i]=phi\n",
    "            x=np.linalg.solve(L,b)\n",
    "            print(i,j)\n",
    "            for k in range(len(l)):\n",
    "                print(k, order[k], x[k])\n",
    "            \n",
    "            "
   ]
  },
  {
   "cell_type": "code",
   "execution_count": 393,
   "id": "93f8a4fb",
   "metadata": {},
   "outputs": [
    {
     "data": {
      "image/png": "[encoded data removed]",
      "text/plain": [
       "<Figure size 640x480 with 1 Axes>"
      ]
     },
     "metadata": {},
     "output_type": "display_data"
    }
   ],
   "source": [
    "plot(exp)"
   ]
  },
  {
   "cell_type": "code",
   "execution_count": 394,
   "id": "caa252ad",
   "metadata": {},
   "outputs": [],
   "source": [
    "def artificialmodel(p,L,c,b,chosen0=[],rejected0=[]):\n",
    "    \n",
    "    l, order= len_ord(p)\n",
    "    x=np.linalg.solve(L,b)\n",
    "    artificial= []\n",
    "    chosen=[]\n",
    "    rejected=[]\n",
    "    for i in range(len(l)):\n",
    "        print(order[i], x[i])\n",
    "        if abs(x[i]-1)>0.01 and abs(x[i])>0.001:\n",
    "            artificial.append(i)\n",
    "        if abs(x[i]-1)<0.01:\n",
    "            chosen.append(i)\n",
    "        if abs(x[i])<0.001:\n",
    "            rejected.append(i)\n",
    "            \n",
    "    print(artificial)\n",
    "    for i in chosen:\n",
    "        if not(i in chosen0):\n",
    "            print('erreur chosen')\n",
    "            print(chosen,chosen0)\n",
    "            cond=[0]*c.shape[1]\n",
    "            cond[i]=1\n",
    "            cond=[cond]\n",
    "            cond=np.array(cond)\n",
    "\n",
    "\n",
    "            print(cond)\n",
    "            c = np.append(c, cond, axis=0)\n",
    "\n",
    "            b=np.append(b, np.array([1]), axis=0)\n",
    "    print(rejected, rejected0)\n",
    "    for i in rejected:\n",
    "        if not( i in rejected0):\n",
    "            cond=[0]*c.shape[1]\n",
    "            cond[i]=1\n",
    "            cond=[cond]\n",
    "            cond=np.array(cond)\n",
    "\n",
    "\n",
    "            print(cond)\n",
    "            c = np.append(c, cond, axis=0)\n",
    "\n",
    "            b=np.append(b, np.array([0]), axis=0)\n",
    "    print(artificial==[])\n",
    "    if artificial==[]:\n",
    "        return L,c,b\n",
    "    else:\n",
    "        models=[]\n",
    "        for i in artificial:\n",
    "            for j in artificial:\n",
    "                if i!=j:\n",
    "                    \n",
    "                    artificial1=[]\n",
    "                    chosen1=[]\n",
    "                    rejected1=[]\n",
    "                    minartif=len(l)+1\n",
    "                    phi=(sum(l)+10)**(len(p))\n",
    "                    a=matrixA(p,phi)\n",
    "                    d=np.diag(np.diag(a))\n",
    "                    a=a+d\n",
    "                    c0=np.zeros([c.shape[0],c.shape[0]])\n",
    "\n",
    "                    L=np.bmat([[a, -c.T], [np.matrix(c),np.matrix(c0)]])\n",
    "\n",
    "                    #print((L/10000).round(1))\n",
    "                    L=np.array(L)\n",
    "                    \n",
    "                    L[i,j]=phi\n",
    "                    L[j,i]=phi\n",
    "                    x=np.linalg.solve(L,b)\n",
    "                    print(i,j)\n",
    "                    for k in range(len(l)):\n",
    "                        print(k, order[k], x[k])\n",
    "                    for n in range(len(l)):\n",
    "                        print(abs(x[n]-1)<0.01 )\n",
    "                        if abs(x[n]-1)>0.01 and abs(x[n])>0.001:\n",
    "                            \n",
    "                            artificial1.append(n)\n",
    "                        if abs(x[n]-1)<0.01:\n",
    "                            \n",
    "                            chosen1.append(n)\n",
    "                        if abs(x[n])<0.001:\n",
    "                            rejected1.append(n)\n",
    "                    print('artificial1',artificial1)\n",
    "                    print('rej',rejected1)\n",
    "                    print('choen',chosen1)\n",
    "                    models.append([L,c,b,chosen1,rejected1,artificial1,len(artificial1)])\n",
    "        print('lenmodel',len(models))\n",
    "        for i in models:\n",
    "            print('minartif',minartif)\n",
    "            if i[-1]<minartif:\n",
    "                \n",
    "                minartif=i[-1]\n",
    "                model=i[:6]\n",
    "        L,c,b,chosen1,rejected1,artificial1=model\n",
    "        chosen1=list(set(chosen1))\n",
    "        rejected1=list(set(rejected1))\n",
    "        print(rejected1)\n",
    "        print(chosen1)\n",
    "        print(b)\n",
    "        print('artif', artificial1)\n",
    "        return artificialmodel(p,L,c,b,chosen1,rejected1)\n",
    "        "
   ]
  },
  {
   "cell_type": "code",
   "execution_count": 395,
   "id": "22ea5c14",
   "metadata": {},
   "outputs": [
    {
     "name": "stdout",
     "output_type": "stream",
     "text": [
      "[ 4.51741200e-01  1.54825765e+00  7.32051518e-07  4.13347898e-07\n",
      "  5.19040152e-07  5.48257768e-01  1.00000051e+00  4.51742127e-01\n",
      " -2.99943152e-07  9.99999374e-01  2.59754148e-01  6.97028607e-01\n",
      "  4.78337288e-01 -3.49241602e-02  2.72865571e-01]\n"
     ]
    }
   ],
   "source": [
    "\n",
    "\n",
    "a=matrixA(exp,phi)\n",
    "c=matrixC(exp)\n",
    "b=vectorb(exp)\n",
    "L,b=lag(exp), lagb(exp)\n",
    "l, order= len_ord(exp)\n",
    "x=np.linalg.solve(L,b)\n",
    "print(x)"
   ]
  },
  {
   "cell_type": "code",
   "execution_count": 396,
   "id": "a5773740",
   "metadata": {
    "scrolled": false
   },
   "outputs": [
    {
     "name": "stdout",
     "output_type": "stream",
     "text": [
      "(0, 1) 0.4517412003844484\n",
      "(0, 2) 1.548257654216136\n",
      "(0, 3) 7.320515176708412e-07\n",
      "(0, 4) 4.1334789792803574e-07\n",
      "(1, 2) 5.190401524198867e-07\n",
      "(1, 3) 0.5482577676208817\n",
      "(1, 4) 1.0000005129545175\n",
      "(2, 3) 0.4517421266868637\n",
      "(2, 4) -2.9994315205267764e-07\n",
      "(3, 4) 0.9999993736407369\n",
      "[0, 1, 5, 7]\n",
      "erreur chosen\n",
      "[6, 9] []\n",
      "[[0 0 0 0 0 0 1 0 0 0]]\n",
      "erreur chosen\n",
      "[6, 9] []\n",
      "[[0 0 0 0 0 0 0 0 0 1]]\n",
      "[2, 3, 4, 8] []\n",
      "[[0 0 1 0 0 0 0 0 0 0]]\n",
      "[[0 0 0 1 0 0 0 0 0 0]]\n",
      "[[0 0 0 0 1 0 0 0 0 0]]\n",
      "[[0 0 0 0 0 0 0 0 1 0]]\n",
      "False\n",
      "0 1\n",
      "0 (0, 1) 1.0000012779825764\n",
      "1 (0, 2) 0.9999987220174238\n",
      "2 (0, 3) 7.404565006298549e-18\n",
      "3 (0, 4) -3.894124636289269e-17\n",
      "4 (1, 2) 3.478951162449856e-17\n",
      "5 (1, 3) -1.2779825766573463e-06\n",
      "6 (1, 4) 0.9999999999999999\n",
      "7 (2, 3) 1.0000012779825758\n",
      "8 (2, 4) 7.865784131518561e-17\n",
      "9 (3, 4) 1.0000000000000004\n",
      "True\n",
      "True\n",
      "False\n",
      "False\n",
      "False\n",
      "False\n",
      "True\n",
      "True\n",
      "False\n",
      "True\n",
      "artificial1 []\n",
      "rej [2, 3, 4, 5, 8]\n",
      "choen [0, 1, 6, 7, 9]\n",
      "0 5\n",
      "0 (0, 1) 0.5000001124892969\n",
      "1 (0, 2) 1.4999998875107032\n",
      "2 (0, 3) 2.268951160822158e-16\n",
      "3 (0, 4) -3.4034295575523895e-16\n",
      "4 (1, 2) 2.7242581120450386e-16\n",
      "5 (1, 3) 0.49999988751070307\n",
      "6 (1, 4) 0.9999999999999999\n",
      "7 (2, 3) 0.5000001124892971\n",
      "8 (2, 4) -3.858731641446447e-16\n",
      "9 (3, 4) 0.9999999999999994\n",
      "False\n",
      "False\n",
      "False\n",
      "False\n",
      "False\n",
      "False\n",
      "True\n",
      "False\n",
      "False\n",
      "True\n",
      "artificial1 [0, 1, 5, 7]\n",
      "rej [2, 3, 4, 8]\n",
      "choen [6, 9]\n",
      "0 7\n",
      "0 (0, 1) 1.0529990734488453e-06\n",
      "1 (0, 2) 1.9999989470009267\n",
      "2 (0, 3) -2.596602876347907e-21\n",
      "3 (0, 4) 1.7310759172850513e-21\n",
      "4 (1, 2) -4.284542601921447e-21\n",
      "5 (1, 3) 0.9999989470009271\n",
      "6 (1, 4) 0.9999999999999992\n",
      "7 (2, 3) 1.0529990734488468e-06\n",
      "8 (2, 4) -9.086650826914416e-22\n",
      "9 (3, 4) 0.9999999999999986\n",
      "False\n",
      "False\n",
      "False\n",
      "False\n",
      "False\n",
      "True\n",
      "True\n",
      "False\n",
      "False\n",
      "True\n",
      "artificial1 [1]\n",
      "rej [0, 2, 3, 4, 7, 8]\n",
      "choen [5, 6, 9]\n",
      "1 0\n",
      "0 (0, 1) 1.0000012779825764\n",
      "1 (0, 2) 0.9999987220174238\n",
      "2 (0, 3) 7.404565006298549e-18\n",
      "3 (0, 4) -3.894124636289269e-17\n",
      "4 (1, 2) 3.478951162449856e-17\n",
      "5 (1, 3) -1.2779825766573463e-06\n",
      "6 (1, 4) 0.9999999999999999\n",
      "7 (2, 3) 1.0000012779825758\n",
      "8 (2, 4) 7.865784131518561e-17\n",
      "9 (3, 4) 1.0000000000000004\n",
      "True\n",
      "True\n",
      "False\n",
      "False\n",
      "False\n",
      "False\n",
      "True\n",
      "True\n",
      "False\n",
      "True\n",
      "artificial1 []\n",
      "rej [2, 3, 4, 5, 8]\n",
      "choen [0, 1, 6, 7, 9]\n",
      "1 5\n",
      "0 (0, 1) 1.4999975565355355\n",
      "1 (0, 2) 0.5000024434644643\n",
      "2 (0, 3) -8.50854635991963e-17\n",
      "3 (0, 4) 1.3879721733472762e-16\n",
      "4 (1, 2) 4.402664430419043e-17\n",
      "5 (1, 3) -0.4999975565355355\n",
      "6 (1, 4) 1.0000000000000007\n",
      "7 (2, 3) 1.499997556535536\n",
      "8 (2, 4) -4.8074316927109535e-17\n",
      "9 (3, 4) 1.0\n",
      "False\n",
      "False\n",
      "False\n",
      "False\n",
      "False\n",
      "False\n",
      "True\n",
      "False\n",
      "False\n",
      "True\n",
      "artificial1 [0, 1, 5, 7]\n",
      "rej [2, 3, 4, 8]\n",
      "choen [6, 9]\n",
      "1 7\n",
      "0 (0, 1) 1.0000012779825764\n",
      "1 (0, 2) 0.9999987220174235\n",
      "2 (0, 3) 3.9706572951917187e-16\n",
      "3 (0, 4) -3.667690584330697e-16\n",
      "4 (1, 2) -1.9607611079995364e-17\n",
      "5 (1, 3) -1.277982576108625e-06\n",
      "6 (1, 4) 0.9999999999999999\n",
      "7 (2, 3) 1.0000012779825762\n",
      "8 (2, 4) 5.427124729864577e-18\n",
      "9 (3, 4) 0.9999999999999998\n",
      "True\n",
      "True\n",
      "False\n",
      "False\n",
      "False\n",
      "False\n",
      "True\n",
      "True\n",
      "False\n",
      "True\n",
      "artificial1 []\n",
      "rej [2, 3, 4, 5, 8]\n",
      "choen [0, 1, 6, 7, 9]\n",
      "5 0\n",
      "0 (0, 1) 0.5000001124892969\n",
      "1 (0, 2) 1.4999998875107032\n",
      "2 (0, 3) 2.268951160822158e-16\n",
      "3 (0, 4) -3.4034295575523895e-16\n",
      "4 (1, 2) 2.7242581120450386e-16\n",
      "5 (1, 3) 0.49999988751070307\n",
      "6 (1, 4) 0.9999999999999999\n",
      "7 (2, 3) 0.5000001124892971\n",
      "8 (2, 4) -3.858731641446447e-16\n",
      "9 (3, 4) 0.9999999999999994\n",
      "False\n",
      "False\n",
      "False\n",
      "False\n",
      "False\n",
      "False\n",
      "True\n",
      "False\n",
      "False\n",
      "True\n",
      "artificial1 [0, 1, 5, 7]\n",
      "rej [2, 3, 4, 8]\n",
      "choen [6, 9]\n",
      "5 1\n",
      "0 (0, 1) 1.4999975565355355\n",
      "1 (0, 2) 0.5000024434644643\n",
      "2 (0, 3) -8.50854635991963e-17\n",
      "3 (0, 4) 1.3879721733472762e-16\n",
      "4 (1, 2) 4.402664430419043e-17\n",
      "5 (1, 3) -0.4999975565355355\n",
      "6 (1, 4) 1.0000000000000007\n",
      "7 (2, 3) 1.499997556535536\n",
      "8 (2, 4) -4.8074316927109535e-17\n",
      "9 (3, 4) 1.0\n",
      "False\n",
      "False\n",
      "False\n",
      "False\n",
      "False\n",
      "False\n",
      "True\n",
      "False\n",
      "False\n",
      "True\n",
      "artificial1 [0, 1, 5, 7]\n",
      "rej [2, 3, 4, 8]\n",
      "choen [6, 9]\n",
      "5 7\n",
      "0 (0, 1) 0.5000001124892969\n",
      "1 (0, 2) 1.499999887510703\n",
      "2 (0, 3) 7.476697042054729e-17\n",
      "3 (0, 4) 9.372307637297481e-17\n",
      "4 (1, 2) 6.402727498040726e-17\n",
      "5 (1, 3) 0.49999988751070307\n",
      "6 (1, 4) 1.0000000000000002\n",
      "7 (2, 3) 0.5000001124892969\n",
      "8 (2, 4) -3.3806938235940423e-16\n",
      "9 (3, 4) 0.9999999999999999\n",
      "False\n",
      "False\n",
      "False\n",
      "False\n",
      "False\n",
      "False\n",
      "True\n",
      "False\n",
      "False\n",
      "True\n",
      "artificial1 [0, 1, 5, 7]\n",
      "rej [2, 3, 4, 8]\n",
      "choen [6, 9]\n",
      "7 0\n",
      "0 (0, 1) 1.0529990734488453e-06\n",
      "1 (0, 2) 1.9999989470009267\n",
      "2 (0, 3) -2.596602876347907e-21\n",
      "3 (0, 4) 1.7310759172850513e-21\n",
      "4 (1, 2) -4.284542601921447e-21\n",
      "5 (1, 3) 0.9999989470009271\n",
      "6 (1, 4) 0.9999999999999992\n",
      "7 (2, 3) 1.0529990734488468e-06\n",
      "8 (2, 4) -9.086650826914416e-22\n",
      "9 (3, 4) 0.9999999999999986\n",
      "False\n",
      "False\n",
      "False\n",
      "False\n",
      "False\n",
      "True\n",
      "True\n",
      "False\n",
      "False\n",
      "True\n",
      "artificial1 [1]\n",
      "rej [0, 2, 3, 4, 7, 8]\n",
      "choen [5, 6, 9]\n",
      "7 1\n",
      "0 (0, 1) 1.0000012779825764\n",
      "1 (0, 2) 0.9999987220174235\n",
      "2 (0, 3) 3.9706572951917187e-16\n",
      "3 (0, 4) -3.667690584330697e-16\n",
      "4 (1, 2) -1.9607611079995364e-17\n",
      "5 (1, 3) -1.277982576108625e-06\n",
      "6 (1, 4) 0.9999999999999999\n",
      "7 (2, 3) 1.0000012779825762\n",
      "8 (2, 4) 5.427124729864577e-18\n",
      "9 (3, 4) 0.9999999999999998\n",
      "True\n",
      "True\n",
      "False\n",
      "False\n",
      "False\n",
      "False\n",
      "True\n",
      "True\n",
      "False\n",
      "True\n",
      "artificial1 []\n",
      "rej [2, 3, 4, 5, 8]\n",
      "choen [0, 1, 6, 7, 9]\n",
      "7 5\n",
      "0 (0, 1) 0.5000001124892969\n",
      "1 (0, 2) 1.499999887510703\n",
      "2 (0, 3) 7.476697042054729e-17\n",
      "3 (0, 4) 9.372307637297481e-17\n",
      "4 (1, 2) 6.402727498040726e-17\n",
      "5 (1, 3) 0.49999988751070307\n",
      "6 (1, 4) 1.0000000000000002\n",
      "7 (2, 3) 0.5000001124892969\n",
      "8 (2, 4) -3.3806938235940423e-16\n",
      "9 (3, 4) 0.9999999999999999\n",
      "False\n",
      "False\n",
      "False\n",
      "False\n",
      "False\n",
      "False\n",
      "True\n",
      "False\n",
      "False\n",
      "True\n",
      "artificial1 [0, 1, 5, 7]\n",
      "rej [2, 3, 4, 8]\n",
      "choen [6, 9]\n",
      "lenmodel 12\n",
      "minartif 11\n",
      "minartif 0\n",
      "minartif 0\n",
      "minartif 0\n",
      "minartif 0\n",
      "minartif 0\n",
      "minartif 0\n",
      "minartif 0\n",
      "minartif 0\n",
      "minartif 0\n",
      "minartif 0\n",
      "minartif 0\n",
      "[2, 3, 4, 5, 8]\n",
      "[0, 1, 6, 7, 9]\n",
      "[0 0 0 0 0 0 0 0 0 0 2 2 2 2 2 1 1 0 0 0 0]\n",
      "artif []\n",
      "(0, 1) 1.0000012779825764\n",
      "(0, 2) 0.9999987220174238\n",
      "(0, 3) 7.404565006298549e-18\n",
      "(0, 4) -3.894124636289269e-17\n",
      "(1, 2) 3.478951162449856e-17\n",
      "(1, 3) -1.2779825766573463e-06\n",
      "(1, 4) 0.9999999999999999\n",
      "(2, 3) 1.0000012779825758\n",
      "(2, 4) 7.865784131518561e-17\n",
      "(3, 4) 1.0000000000000004\n",
      "[]\n",
      "[2, 3, 4, 5, 8] [2, 3, 4, 5, 8]\n",
      "True\n",
      "[ 1.00000128e+00  9.99998722e-01  7.40456501e-18 -3.89412464e-17\n",
      "  3.47895116e-17 -1.27798258e-06  1.00000000e+00  1.00000128e+00\n",
      "  7.86578413e-17  1.00000000e+00  1.02616479e+06 -2.34062894e+00\n",
      " -1.35906365e+00  2.34062740e+00 -2.32646198e+05  2.32649508e+05\n",
      "  2.32644095e+05 -1.02616713e+06 -7.93518590e+05  3.69969259e+00\n",
      "  2.32647557e+05]\n"
     ]
    }
   ],
   "source": [
    "\n",
    "L,c,b=artificialmodel(exp,L,c,b)\n",
    "x=np.linalg.solve(L,b)\n",
    "print(x)"
   ]
  },
  {
   "cell_type": "code",
   "execution_count": 397,
   "id": "df2d9d38",
   "metadata": {},
   "outputs": [
    {
     "name": "stdout",
     "output_type": "stream",
     "text": [
      "0 (0, 1) 1.0000012779825764\n",
      "1 (0, 2) 0.9999987220174238\n",
      "2 (0, 3) 7.404565006298549e-18\n",
      "3 (0, 4) -3.894124636289269e-17\n",
      "4 (1, 2) 3.478951162449856e-17\n",
      "5 (1, 3) -1.2779825766573463e-06\n",
      "6 (1, 4) 0.9999999999999999\n",
      "7 (2, 3) 1.0000012779825758\n",
      "8 (2, 4) 7.865784131518561e-17\n",
      "9 (3, 4) 1.0000000000000004\n"
     ]
    }
   ],
   "source": [
    "for k in range(len(l)):\n",
    "    print(k, order[k], x[k])"
   ]
  },
  {
   "cell_type": "code",
   "execution_count": 398,
   "id": "48a3b11b",
   "metadata": {},
   "outputs": [
    {
     "data": {
      "image/png": "[encoded data removed]",
      "text/plain": [
       "<Figure size 640x480 with 1 Axes>"
      ]
     },
     "metadata": {},
     "output_type": "display_data"
    }
   ],
   "source": [
    "plot(exp)"
   ]
  },
  {
   "cell_type": "code",
   "execution_count": 399,
   "id": "0c3b3a1d",
   "metadata": {
    "scrolled": true
   },
   "outputs": [
    {
     "name": "stdout",
     "output_type": "stream",
     "text": [
      "[ 1.39329998e+00  1.00000056e+00  9.99999805e-01  6.06699533e-01\n",
      "  6.06698920e-01  3.93299613e-01  1.04928409e-06  9.05873481e-07\n",
      "  5.16847604e-08 -4.17849361e-07]\n",
      "[(3, 4), (1, 2), (0, 1), (0, 3), (2, 4)]\n",
      "[(1, 2), (0, 1), (0, 3), (2, 4)]\n"
     ]
    }
   ],
   "source": [
    "n=5\n",
    "exp= createrandomp(n)\n",
    "\n",
    "\n",
    "res=sortedp(exp)\n",
    "#printpath(exp)"
   ]
  },
  {
   "cell_type": "code",
   "execution_count": 400,
   "id": "13a7cad7",
   "metadata": {},
   "outputs": [
    {
     "data": {
      "text/plain": [
       "[(0, 1),\n",
       " (0, 2),\n",
       " (0, 3),\n",
       " (0, 4),\n",
       " (1, 2),\n",
       " (1, 3),\n",
       " (1, 4),\n",
       " (2, 3),\n",
       " (2, 4),\n",
       " (3, 4)]"
      ]
     },
     "execution_count": 400,
     "metadata": {},
     "output_type": "execute_result"
    },
    {
     "data": {
      "image/png": "[encoded data removed]",
      "text/plain": [
       "<Figure size 640x480 with 1 Axes>"
      ]
     },
     "metadata": {},
     "output_type": "display_data"
    }
   ],
   "source": [
    "plot(exp)\n",
    "l,o=len_ord(exp)\n",
    "o"
   ]
  },
  {
   "cell_type": "code",
   "execution_count": 413,
   "id": "a7121601",
   "metadata": {},
   "outputs": [
    {
     "name": "stdout",
     "output_type": "stream",
     "text": [
      "[ 9.99999805e-01  3.93299613e-01  6.06699533e-01  1.04928409e-06\n",
      "  1.00000056e+00 -4.17849361e-07  5.16847604e-08  9.05873481e-07\n",
      "  6.06698920e-01  1.39329998e+00 -3.47578479e-03  4.50435956e-01\n",
      "  5.06583683e-01  6.89410029e-01  5.33622335e-01]\n"
     ]
    },
    {
     "data": {
      "image/png": "[encoded data removed]",
      "text/plain": [
       "<Figure size 640x480 with 1 Axes>"
      ]
     },
     "metadata": {},
     "output_type": "display_data"
    }
   ],
   "source": [
    "\n",
    "a=matrixA(exp,phi)\n",
    "c=matrixC(exp)\n",
    "b=vectorb(exp)\n",
    "L,b=lag(exp), lagb(exp)\n",
    "l, order= len_ord(exp)\n",
    "x=np.linalg.solve(L,b)\n",
    "print(x)\n",
    "plot(exp)"
   ]
  },
  {
   "cell_type": "code",
   "execution_count": 414,
   "id": "c2c2dd3b",
   "metadata": {},
   "outputs": [
    {
     "name": "stdout",
     "output_type": "stream",
     "text": [
      "0 1.9509536941519912e-07 0.9999998049046306\n",
      "6 5.168476037347205e-08 5.168476037347205e-08\n"
     ]
    }
   ],
   "source": [
    "x=x[:len(l)]\n",
    "chosen=0\n",
    "error1=1\n",
    "error0=1\n",
    "rejected=0\n",
    "for i in range(len(x)):\n",
    "    if abs(x[i]-1)<error1:\n",
    "        \n",
    "        chosen=i\n",
    "        error1=abs(x[i]-1)\n",
    "    if abs(x[i])<error0:\n",
    "        rejected=i\n",
    "        error0=abs(x[i])\n",
    "        \n",
    "print(chosen, error1, x [chosen])\n",
    "print(rejected, error0,x[rejected])"
   ]
  },
  {
   "cell_type": "code",
   "execution_count": 415,
   "id": "7444eb7d",
   "metadata": {},
   "outputs": [
    {
     "name": "stdout",
     "output_type": "stream",
     "text": [
      "[[1. 1. 1. 1. 0. 0. 0. 0. 0. 0.]\n",
      " [1. 0. 0. 0. 1. 1. 1. 0. 0. 0.]\n",
      " [0. 1. 0. 0. 1. 0. 0. 1. 1. 0.]\n",
      " [0. 0. 1. 0. 0. 1. 0. 1. 0. 1.]\n",
      " [0. 0. 0. 1. 0. 0. 1. 0. 1. 1.]]\n",
      "[[1. 1. 1. 1. 0. 0. 0. 0. 0. 0.]\n",
      " [1. 0. 0. 0. 1. 1. 1. 0. 0. 0.]\n",
      " [0. 1. 0. 0. 1. 0. 0. 1. 1. 0.]\n",
      " [0. 0. 1. 0. 0. 1. 0. 1. 0. 1.]\n",
      " [0. 0. 0. 1. 0. 0. 1. 0. 1. 1.]\n",
      " [1. 0. 0. 0. 0. 0. 0. 0. 0. 0.]]\n"
     ]
    }
   ],
   "source": [
    "print(c)\n",
    "cond=[0]*c.shape[1]\n",
    "cond[chosen]=1\n",
    "cond=[cond]\n",
    "cond=np.array(cond)\n",
    "\n",
    "c = np.append(c, cond, axis=0)\n",
    "\n",
    "b=np.append(b, np.array([1]), axis=0)\n",
    "print(c)"
   ]
  },
  {
   "cell_type": "code",
   "execution_count": null,
   "id": "ac80d537",
   "metadata": {},
   "outputs": [],
   "source": []
  },
  {
   "cell_type": "code",
   "execution_count": null,
   "id": "2b4ccbe8",
   "metadata": {},
   "outputs": [],
   "source": [
    "#i am going to make rational artificial intersections"
   ]
  },
  {
   "cell_type": "code",
   "execution_count": null,
   "id": "5f97df31",
   "metadata": {},
   "outputs": [],
   "source": []
  },
  {
   "cell_type": "code",
   "execution_count": null,
   "id": "eb72b54d",
   "metadata": {},
   "outputs": [],
   "source": []
  },
  {
   "cell_type": "code",
   "execution_count": null,
   "id": "cf779d6e",
   "metadata": {},
   "outputs": [],
   "source": []
  },
  {
   "cell_type": "code",
   "execution_count": null,
   "id": "c6ecc2f0",
   "metadata": {},
   "outputs": [],
   "source": []
  },
  {
   "cell_type": "code",
   "execution_count": null,
   "id": "297ac7d0",
   "metadata": {},
   "outputs": [],
   "source": []
  },
  {
   "cell_type": "code",
   "execution_count": null,
   "id": "8bbd8b91",
   "metadata": {},
   "outputs": [],
   "source": []
  },
  {
   "cell_type": "code",
   "execution_count": null,
   "id": "6b52b19c",
   "metadata": {},
   "outputs": [],
   "source": []
  },
  {
   "cell_type": "code",
   "execution_count": null,
   "id": "ef421c66",
   "metadata": {},
   "outputs": [],
   "source": []
  },
  {
   "cell_type": "code",
   "execution_count": null,
   "id": "4a3e06a4",
   "metadata": {},
   "outputs": [],
   "source": []
  },
  {
   "cell_type": "code",
   "execution_count": null,
   "id": "05aa2f9b",
   "metadata": {},
   "outputs": [],
   "source": []
  },
  {
   "cell_type": "code",
   "execution_count": null,
   "id": "6a62d415",
   "metadata": {},
   "outputs": [],
   "source": []
  },
  {
   "cell_type": "code",
   "execution_count": null,
   "id": "cfc51b82",
   "metadata": {},
   "outputs": [],
   "source": []
  },
  {
   "cell_type": "code",
   "execution_count": null,
   "id": "c4581549",
   "metadata": {},
   "outputs": [],
   "source": []
  },
  {
   "cell_type": "code",
   "execution_count": null,
   "id": "4cbc26de",
   "metadata": {},
   "outputs": [],
   "source": []
  },
  {
   "cell_type": "code",
   "execution_count": null,
   "id": "ad7a8284",
   "metadata": {},
   "outputs": [],
   "source": []
  },
  {
   "cell_type": "code",
   "execution_count": null,
   "id": "5c4b0325",
   "metadata": {},
   "outputs": [],
   "source": []
  },
  {
   "cell_type": "code",
   "execution_count": null,
   "id": "11735236",
   "metadata": {},
   "outputs": [],
   "source": []
  },
  {
   "cell_type": "code",
   "execution_count": null,
   "id": "a1ae442f",
   "metadata": {},
   "outputs": [],
   "source": []
  },
  {
   "cell_type": "code",
   "execution_count": null,
   "id": "be7559e0",
   "metadata": {},
   "outputs": [],
   "source": []
  },
  {
   "cell_type": "code",
   "execution_count": null,
   "id": "93315801",
   "metadata": {},
   "outputs": [],
   "source": []
  },
  {
   "cell_type": "code",
   "execution_count": null,
   "id": "d7ca0738",
   "metadata": {},
   "outputs": [],
   "source": []
  },
  {
   "cell_type": "code",
   "execution_count": null,
   "id": "932aa32d",
   "metadata": {},
   "outputs": [],
   "source": []
  },
  {
   "cell_type": "code",
   "execution_count": null,
   "id": "4dc7904f",
   "metadata": {},
   "outputs": [],
   "source": []
  },
  {
   "cell_type": "code",
   "execution_count": null,
   "id": "5a770cbd",
   "metadata": {},
   "outputs": [],
   "source": []
  },
  {
   "cell_type": "code",
   "execution_count": null,
   "id": "fc9b2366",
   "metadata": {},
   "outputs": [],
   "source": []
  },
  {
   "cell_type": "code",
   "execution_count": null,
   "id": "050a0e3e",
   "metadata": {},
   "outputs": [],
   "source": []
  },
  {
   "cell_type": "code",
   "execution_count": null,
   "id": "e355947c",
   "metadata": {},
   "outputs": [],
   "source": []
  },
  {
   "cell_type": "code",
   "execution_count": null,
   "id": "c8eef55d",
   "metadata": {},
   "outputs": [],
   "source": []
  },
  {
   "cell_type": "code",
   "execution_count": null,
   "id": "ee53ea86",
   "metadata": {},
   "outputs": [],
   "source": []
  },
  {
   "cell_type": "code",
   "execution_count": null,
   "id": "6790d59a",
   "metadata": {},
   "outputs": [],
   "source": []
  }
 ],
 "metadata": {
  "kernelspec": {
   "display_name": "Python 3 (ipykernel)",
   "language": "python",
   "name": "python3"
  },
  "language_info": {
   "codemirror_mode": {
    "name": "ipython",
    "version": 3
   },
   "file_extension": ".py",
   "mimetype": "text/x-python",
   "name": "python",
   "nbconvert_exporter": "python",
   "pygments_lexer": "ipython3",
   "version": "3.9.16"
  }
 },
 "nbformat": 4,
 "nbformat_minor": 5
}
