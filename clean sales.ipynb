{
 "cells": [
  {
   "cell_type": "code",
   "execution_count": 1,
   "id": "68afb967",
   "metadata": {},
   "outputs": [],
   "source": [
    "import numpy as np\n",
    "import matplotlib.pyplot as plt\n",
    "import shapely\n",
    "from shapely.geometry import LineString, Point"
   ]
  },
  {
   "cell_type": "code",
   "execution_count": 92,
   "id": "28e2e925",
   "metadata": {},
   "outputs": [],
   "source": [
    "def createrandomp(n):\n",
    "    \n",
    "\n",
    "    p=[]\n",
    "    for i in range(n):\n",
    "        while True:\n",
    "            a=np.random.random()\n",
    "            b=np.random.random()\n",
    "\n",
    "            if not((a,b) in p):\n",
    "                p.append((a,b))\n",
    "                break\n",
    "    return p\n",
    "\n",
    "def plot(p):\n",
    "    x=[i[0] for i in p]\n",
    "    y=[i[1] for i in p]\n",
    "    n= [i for i in range (len(p))]\n",
    "    fig, ax = plt.subplots()\n",
    "    ax.scatter(x, y)\n",
    "\n",
    "    for i, txt in enumerate(n):\n",
    "        ax.annotate(txt, (x[i], y[i]))\n",
    "def dist(p,i,j):\n",
    "    return (((p[i][0]-p[j][0])**2)+((p[i][1]-p[j][1])**2))**0.5\n",
    "def len_ord(p):\n",
    "    l=[]\n",
    "    orders=[]\n",
    "    \n",
    "    for i in range (len(p)):\n",
    "        for j in range(i+1,len(p)):\n",
    "            orders.append((i,j))\n",
    "            l.append(dist(p,i,j))\n",
    "    return l,orders\n",
    "\n",
    "def intersect (p , i , j, k, l):\n",
    "    \n",
    "    A = p[i]\n",
    "    B = p[j]\n",
    "\n",
    "    #line 2\n",
    "    C = p[k]\n",
    "    D = p[l]\n",
    "\n",
    "    line1 = LineString([A, B])\n",
    "    line2 = LineString([C, D])\n",
    "\n",
    "    int_pt = line1.intersection(line2)\n",
    "\n",
    "    if int_pt.is_empty: \n",
    "        #print('empty')\n",
    "        return False\n",
    "    if type(int_pt)==shapely.geometry.linestring.LineString: \n",
    "        #print('line',int_pt)\n",
    "        return True\n",
    "    elif type(int_pt)==shapely.geometry.point.Point:\n",
    "        point_of_intersection = int_pt.x, int_pt.y\n",
    "        \n",
    "        #print('point')\n",
    "  \n",
    "        if point_of_intersection in (A,B,C,D): \n",
    "            \n",
    "            if len((A,B,C,D))==len(set((A,B,C,D))): return True\n",
    "            else: return False\n",
    "\n",
    "        else: return True\n",
    "    \n",
    "def matrixA(p,phi):\n",
    "    l,orders=len_ord(p)\n",
    "    #print('orders:', orders)\n",
    "    #print(l)\n",
    "    #phi1=min(l)\n",
    "    #phi2=phi1\n",
    "    #print(phi)\n",
    "    #print('phi of amatrix:',phi)\n",
    "    a=np.array (l)\n",
    "    #print('phi of amatrix:',phi)\n",
    "    a=np.diag(a)\n",
    "    for i in range (len(p)):\n",
    "        for j in range (len(p)):\n",
    "            if j!=i:\n",
    "                for k in range(len(p)):\n",
    "                    for l in range(len(p)):\n",
    "                        if k!=l:\n",
    "                            #print(i,j,k,l)\n",
    "                            if len(set((i,j,k,l)))>2:\n",
    "                                if intersect(p,i,j,k,l):\n",
    "                                    #print('done')\n",
    "                                    a[orders.index((min(i,j),max(i,j))),orders.index((min(k,l),max(k,l)))]=phi\n",
    "                                    a[orders.index((min(k,l),max(k,l))),orders.index((min(i,j),max(i,j)))]=phi\n",
    "    \n",
    "    \n",
    "    d= np.linalg.eigvals(a)\n",
    "    #print('d:',d)  \n",
    "\n",
    "    return a\n",
    "def matrixC(p):\n",
    "    l, orders = len_ord(p)\n",
    "    c= np.zeros([len(p), len(l)])\n",
    "    for x in orders:\n",
    "        c[x[0],orders.index(x)]=1\n",
    "        c[x[1],orders.index(x)]=1\n",
    "    return c\n",
    "def vectorb(p):\n",
    "    n=len(p)\n",
    "    return [2]*n    \n",
    "def custompath(p,path):\n",
    "    d=0\n",
    "    for i in range(0,len(path)):\n",
    "        d+=dist(p,i,i-1)\n",
    "    return d"
   ]
  },
  {
   "cell_type": "code",
   "execution_count": 93,
   "id": "c70780b4",
   "metadata": {},
   "outputs": [],
   "source": [
    "def lag(p):\n",
    "    l,orders= len_ord(p)\n",
    "    phi=(sum(l)+10)**(len(p))\n",
    "   \n",
    "    #print('phi of result',phi)\n",
    "    a=matrixA(p,phi)\n",
    "    #print(a)\n",
    "    c=matrixC(p)\n",
    "    b=vectorb(p)\n",
    "    \n",
    "    L=np.zeros(len(l)+len(p))\n",
    "\n",
    "    d=np.diag(np.diag(a))\n",
    "    a=a+d\n",
    "    c0=np.zeros([len(p),len(p)])\n",
    "    #print('//////////////////////////')\n",
    "    #print(a)\n",
    "    #print(c)\n",
    "    #print(a.shape)\n",
    "    #print((c.T).shape)\n",
    "    #print(c0)\n",
    "    L=np.bmat([[a, -c.T], [np.matrix(c),np.matrix(c0)]])\n",
    "    #print((L/10000).round(1))\n",
    "    L=np.array(L)\n",
    "    return L\n",
    "def lagb(p):\n",
    "    l,orders= len_ord(p)\n",
    "    phi=(sum(l)+10)**(len(p))\n",
    "    b=[phi]*len(l)+[2]*len(p)\n",
    "    return np.array(b)\n"
   ]
  },
  {
   "cell_type": "code",
   "execution_count": 131,
   "id": "d507fb37",
   "metadata": {},
   "outputs": [],
   "source": [
    "def chosen(p,x):\n",
    "    l,orders=len_ord(p)\n",
    "    phi=(sum(l)+10)**(len(p))\n",
    "    error=1/phi\n",
    "    chosen=[]\n",
    "\n",
    "    for i in range(len(x)):\n",
    "        if x[i]>1 or abs(x[i]-1)<error:\n",
    "            \n",
    "            chosen.append(i)\n",
    "        \n",
    "    return chosen\n",
    "def rejected(p,x):\n",
    "    l,orders=len_ord(p)\n",
    "    phi=(sum(l)+10)**(len(p))\n",
    "    error=1/phi\n",
    "    rejected=[]\n",
    "\n",
    "    for i in range(len(x)):\n",
    "        if x[i]<0 or abs(x[i])<error:\n",
    "            rejected.append(i)\n",
    "\n",
    "    return rejected\n",
    "def gay(p,x):\n",
    "    l,orders=len_ord(p)\n",
    "    phi=(sum(l)+10)**(len(p))\n",
    "    error=1/phi\n",
    "    gay=[]\n",
    "    for i in range(len(x)):\n",
    "        if x[i]>1 or abs(x[i]-1)<error:\n",
    "            pass\n",
    "        elif x[i]<0 or abs(x[i])<error:\n",
    "            pass\n",
    "        else:\n",
    "            gay.append(i)\n",
    "    return gay\n"
   ]
  },
  {
   "cell_type": "code",
   "execution_count": 142,
   "id": "b47725d3",
   "metadata": {},
   "outputs": [],
   "source": [
    "def chosenactivation(p,L,b,chosennum):\n",
    "    l,orders=len_ord(p)\n",
    "    phi=(sum(l)+10)**(len(p))\n",
    "    \n",
    "    for k in range (len(l),len(L)):\n",
    "        \n",
    "        if L[k,chosennum]==1:\n",
    "            actifcond=L[k,:]\n",
    "            for pt1 in range(len(actifcond)):\n",
    "                for pt2 in range(pt1+1,len(actifcond)):\n",
    "                    if pt1!=chosennum and pt2!=chosennum:\n",
    "                        if actifcond[pt1]==1 and actifcond[pt2]==1:\n",
    "                            L[pt1,pt2]=phi\n",
    "                            L [pt2,pt1]=phi\n",
    "                            \n",
    "                            \n",
    "    c=np.zeros([1,len(L)])\n",
    "    #print(c)\n",
    "    c[0,chosennum]=phi\n",
    "    #print(c)\n",
    "    #print('//////////////////////////')\n",
    "    #print(a)\n",
    "    #print(c)\n",
    "    #print(a.shape)\n",
    "    #print((c.T).shape)\n",
    "    #print(c0)\n",
    "    L=np.bmat([[L, -c.T], [np.matrix(c),np.matrix([[0]])]])\n",
    "    b=np.append(b, np.array([phi]), axis=0)\n",
    "    \n",
    "    return L,b\n",
    "\n",
    "\n",
    "def rejectedactivation(p,L,b,rejectednum):\n",
    "    l,orders=len_ord(p)\n",
    "    phi=(sum(l)+10)**(len(p))\n",
    "    #L[rejectednum,rejectednum]=phi\n",
    "    c=np.zeros([1,len(L)])\n",
    "    #print(c)\n",
    "    c[0,rejectednum]=phi\n",
    "    #print(c)\n",
    "    #print('//////////////////////////')\n",
    "    #print(a)\n",
    "    #print(c)\n",
    "    #print(a.shape)\n",
    "    #print((c.T).shape)\n",
    "    #print(c0)\n",
    "    L=np.bmat([[L, -c.T], [np.matrix(c),np.matrix([[0]])]])\n",
    "    b=np.append(b, np.array([0]), axis=0)\n",
    "        \n",
    "    return L,b\n",
    "\n"
   ]
  },
  {
   "cell_type": "code",
   "execution_count": 165,
   "id": "506154e7",
   "metadata": {},
   "outputs": [],
   "source": [
    "def result(p,L,b):\n",
    "\n",
    "\n",
    "    l,orders= len_ord(p)\n",
    "    phi=(sum(l)+10)**(len(p))\n",
    "   \n",
    "    #print('phi of result',phi)\n",
    "    \n",
    "    x=np.linalg.solve(L,b)\n",
    " \n",
    "    x=x[:len(l)]\n",
    "    return x\n",
    "def artificialmodel(p):\n",
    "    l,orders=len_ord(p)\n",
    "    L,b=lag(p), lagb(p)\n",
    "    \n",
    "    x=result(p,L,b)\n",
    "    iteration=0\n",
    "    print(x)\n",
    "    oldgay=gay(p,x)\n",
    "    gaytest=False\n",
    "    chosenforever=[]\n",
    "    rejectedforever=[]\n",
    "    while gay(p,x)!=[]:\n",
    "        oldgay=gay(p,x)\n",
    "        print(iteration)\n",
    "        choose=chosen(p,x)\n",
    "        reject=rejected(p,x)\n",
    "        print('chose',choose,'reject',reject)\n",
    "        print(gaytest)\n",
    "        print('oldgay',oldgay)\n",
    "        if (choose==[] and reject==[]) or gaytest:\n",
    "            print('bad model')\n",
    "            maxgay=0\n",
    "            mingay=1\n",
    "            for i in oldgay:\n",
    "                if x[i]<mingay:\n",
    "                    mingay=x[i]\n",
    "                    reject=[i]\n",
    "                if x[i]>maxgay:\n",
    "                    maxgay=x[i]\n",
    "                    choose=[i]\n",
    "\n",
    "            gaytest=False\n",
    "            print(choose,reject)\n",
    "        if len(choose)>=len(p):\n",
    "            choose=[]\n",
    "            print('choose deleted')\n",
    "        if len (reject)>=len(l)-len(p):\n",
    "            reject=[]\n",
    "            print('reject deleted')\n",
    "        for i in choose:\n",
    "            if not(i in chosenforever):\n",
    "                L,b=chosenactivation(p,L,b,i)\n",
    "        for i in reject:\n",
    "            if not (i in rejectedforever):\n",
    "                L,b=rejectedactivation(p,L,b,i)\n",
    "        x=result(p,L,b)\n",
    "        print(x)\n",
    "        iteration+=1\n",
    "        newgay=gay(p,x)\n",
    "        gaytest=oldgay==newgay\n",
    "        \n",
    "        chosenforever+=choose\n",
    "        rejectedforever+=reject\n",
    "        print('choose + forever',chosenforever)\n",
    "        #chosenforever=list(set(chosenforever))\n",
    "        #chosenforever=list(set(reject+rejectedforever))\n",
    "        print('forever choesen',chosenforever)\n",
    "        print('for ever rejected',rejectedforever)\n",
    "    return x\n",
    "        \n",
    "def sortedp(p,x):\n",
    "    l,orders=len_ord(p)\n",
    "    print(orders)\n",
    "    for i in range (len(x)):\n",
    "        for j in range (i+1,len(x)):\n",
    "            if x[i]<x[j]:\n",
    "                x[i],x[j]=x[j],x[i]\n",
    "                orders[i],orders[j]=orders[j],orders[i]\n",
    "    print(orders)\n",
    "    return orders[:len(p)]\n",
    "            \n",
    "def printpath(p):\n",
    "    newp=sortedp(p)\n",
    "    x=[i[0] for i in newp]\n",
    "    y=[i[1] for i in newp]\n",
    "    #plt.plot(x,y)\n",
    "    #plt.plot(x, y, 'ro', 'k')\n",
    "    plt.plot(x, y, 'r', zorder=1, lw=3)\n",
    "    plt.scatter(x, y, s=120, zorder=2)      \n",
    "def readablex(p,x):\n",
    "    l,orders=len_ord(p)\n",
    "    for i in range (len(l)):\n",
    "        print(i,orders[i],x[i])"
   ]
  },
  {
   "cell_type": "code",
   "execution_count": 101,
   "id": "27eea0a9",
   "metadata": {},
   "outputs": [
    {
     "name": "stdout",
     "output_type": "stream",
     "text": [
      "0 (0, 1) 0.8796622765322166\n",
      "1 (0, 2) 1.1203368209252824\n",
      "2 (0, 3) 1.6447422981463654e-06\n",
      "3 (0, 4) -7.421997970750976e-07\n",
      "4 (1, 2) 1.5522252300669084e-06\n",
      "5 (1, 3) 0.12033588575830345\n",
      "6 (1, 4) 1.0000002854600591\n",
      "7 (2, 3) 0.8796618197265161\n",
      "8 (2, 4) -1.9309997131887535e-07\n",
      "9 (3, 4) 1.0000006497991414\n"
     ]
    },
    {
     "data": {
      "image/png": "[encoded data removed]",
      "text/plain": [
       "<Figure size 640x480 with 1 Axes>"
      ]
     },
     "metadata": {},
     "output_type": "display_data"
    }
   ],
   "source": [
    "n=6\n",
    "#p=createrandomp(n)\n",
    "p=[(0.16664691325935033, 0.7890471389301101),\n",
    " (0.4704527326880199, 0.8364449291888473),\n",
    " (0.2183248603322735, 0.16115590925871437),\n",
    " (0.6694307938668275, 0.47760888112337796),\n",
    " (0.515724455034698, 0.7319801512308717)]\n",
    "l,orders=len_ord(p)\n",
    "L,b=lag(p), lagb(p)\n",
    "x=result(p,L,b)\n",
    "for i in range (len(l)):\n",
    "    print(i,orders[i],x[i])\n",
    "plot(p)\n"
   ]
  },
  {
   "cell_type": "code",
   "execution_count": 73,
   "id": "d82d3003",
   "metadata": {},
   "outputs": [],
   "source": [
    "\n",
    "\n"
   ]
  },
  {
   "cell_type": "code",
   "execution_count": null,
   "id": "c2be447c",
   "metadata": {},
   "outputs": [],
   "source": []
  },
  {
   "cell_type": "code",
   "execution_count": 74,
   "id": "ee89549d",
   "metadata": {},
   "outputs": [
    {
     "data": {
      "text/plain": [
       "[1, 6, 9]"
      ]
     },
     "execution_count": 74,
     "metadata": {},
     "output_type": "execute_result"
    }
   ],
   "source": [
    "chosen(p,x)"
   ]
  },
  {
   "cell_type": "code",
   "execution_count": 75,
   "id": "7a662c69",
   "metadata": {},
   "outputs": [
    {
     "data": {
      "text/plain": [
       "[3, 8]"
      ]
     },
     "execution_count": 75,
     "metadata": {},
     "output_type": "execute_result"
    }
   ],
   "source": [
    "rejected(p,x)"
   ]
  },
  {
   "cell_type": "code",
   "execution_count": 76,
   "id": "53886a31",
   "metadata": {},
   "outputs": [
    {
     "data": {
      "text/plain": [
       "[0, 2, 4, 5, 7]"
      ]
     },
     "execution_count": 76,
     "metadata": {},
     "output_type": "execute_result"
    }
   ],
   "source": [
    "gay(p,x)"
   ]
  },
  {
   "cell_type": "code",
   "execution_count": null,
   "id": "d1d20e4a",
   "metadata": {},
   "outputs": [],
   "source": []
  },
  {
   "cell_type": "code",
   "execution_count": 78,
   "id": "4428f7bd",
   "metadata": {},
   "outputs": [
    {
     "data": {
      "text/plain": [
       "array([[ 1.00000e+00,  0.00000e+00,  0.00000e+00,  0.00000e+00,\n",
       "         0.00000e+00,  0.00000e+00,  0.00000e+00,  0.00000e+00,\n",
       "         0.00000e+00,  0.00000e+00, -1.00000e+00, -1.00000e+00,\n",
       "        -0.00000e+00, -0.00000e+00, -0.00000e+00],\n",
       "       [ 0.00000e+00,  1.00000e+00,  0.00000e+00,  0.00000e+00,\n",
       "         0.00000e+00,  0.00000e+00,  0.00000e+00,  0.00000e+00,\n",
       "         0.00000e+00,  0.00000e+00, -1.00000e+00, -0.00000e+00,\n",
       "        -1.00000e+00, -0.00000e+00, -0.00000e+00],\n",
       "       [ 0.00000e+00,  0.00000e+00,  1.00000e+00,  0.00000e+00,\n",
       "         6.67827e+05,  0.00000e+00,  0.00000e+00,  0.00000e+00,\n",
       "         6.67827e+05,  0.00000e+00, -1.00000e+00, -0.00000e+00,\n",
       "        -0.00000e+00, -1.00000e+00, -0.00000e+00],\n",
       "       [ 0.00000e+00,  0.00000e+00,  0.00000e+00,  1.00000e+00,\n",
       "         6.67827e+05,  0.00000e+00,  0.00000e+00,  0.00000e+00,\n",
       "         0.00000e+00,  0.00000e+00, -1.00000e+00, -0.00000e+00,\n",
       "        -0.00000e+00, -0.00000e+00, -1.00000e+00],\n",
       "       [ 0.00000e+00,  0.00000e+00,  6.67827e+05,  6.67827e+05,\n",
       "         1.00000e+00,  0.00000e+00,  0.00000e+00,  0.00000e+00,\n",
       "         0.00000e+00,  0.00000e+00, -0.00000e+00, -1.00000e+00,\n",
       "        -1.00000e+00, -0.00000e+00, -0.00000e+00],\n",
       "       [ 0.00000e+00,  0.00000e+00,  0.00000e+00,  0.00000e+00,\n",
       "         0.00000e+00,  1.00000e+00,  0.00000e+00,  0.00000e+00,\n",
       "         0.00000e+00,  0.00000e+00, -0.00000e+00, -1.00000e+00,\n",
       "        -0.00000e+00, -1.00000e+00, -0.00000e+00],\n",
       "       [ 0.00000e+00,  0.00000e+00,  0.00000e+00,  0.00000e+00,\n",
       "         0.00000e+00,  0.00000e+00,  0.00000e+00,  0.00000e+00,\n",
       "         0.00000e+00,  0.00000e+00, -0.00000e+00, -1.00000e+00,\n",
       "        -0.00000e+00, -0.00000e+00, -1.00000e+00],\n",
       "       [ 0.00000e+00,  0.00000e+00,  0.00000e+00,  0.00000e+00,\n",
       "         0.00000e+00,  0.00000e+00,  0.00000e+00,  1.00000e+00,\n",
       "         0.00000e+00,  0.00000e+00, -0.00000e+00, -0.00000e+00,\n",
       "        -1.00000e+00, -1.00000e+00, -0.00000e+00],\n",
       "       [ 0.00000e+00,  0.00000e+00,  6.67827e+05,  0.00000e+00,\n",
       "         0.00000e+00,  0.00000e+00,  0.00000e+00,  0.00000e+00,\n",
       "         1.00000e+00,  0.00000e+00, -0.00000e+00, -0.00000e+00,\n",
       "        -1.00000e+00, -0.00000e+00, -1.00000e+00],\n",
       "       [ 0.00000e+00,  0.00000e+00,  0.00000e+00,  0.00000e+00,\n",
       "         0.00000e+00,  0.00000e+00,  0.00000e+00,  0.00000e+00,\n",
       "         0.00000e+00,  1.00000e+00, -0.00000e+00, -0.00000e+00,\n",
       "        -0.00000e+00, -1.00000e+00, -1.00000e+00],\n",
       "       [ 1.00000e+00,  1.00000e+00,  1.00000e+00,  1.00000e+00,\n",
       "         0.00000e+00,  0.00000e+00,  0.00000e+00,  0.00000e+00,\n",
       "         0.00000e+00,  0.00000e+00,  0.00000e+00,  0.00000e+00,\n",
       "         0.00000e+00,  0.00000e+00,  0.00000e+00],\n",
       "       [ 1.00000e+00,  0.00000e+00,  0.00000e+00,  0.00000e+00,\n",
       "         1.00000e+00,  1.00000e+00,  1.00000e+00,  0.00000e+00,\n",
       "         0.00000e+00,  0.00000e+00,  0.00000e+00,  0.00000e+00,\n",
       "         0.00000e+00,  0.00000e+00,  0.00000e+00],\n",
       "       [ 0.00000e+00,  1.00000e+00,  0.00000e+00,  0.00000e+00,\n",
       "         1.00000e+00,  0.00000e+00,  0.00000e+00,  1.00000e+00,\n",
       "         1.00000e+00,  0.00000e+00,  0.00000e+00,  0.00000e+00,\n",
       "         0.00000e+00,  0.00000e+00,  0.00000e+00],\n",
       "       [ 0.00000e+00,  0.00000e+00,  1.00000e+00,  0.00000e+00,\n",
       "         0.00000e+00,  1.00000e+00,  0.00000e+00,  1.00000e+00,\n",
       "         0.00000e+00,  1.00000e+00,  0.00000e+00,  0.00000e+00,\n",
       "         0.00000e+00,  0.00000e+00,  0.00000e+00],\n",
       "       [ 0.00000e+00,  0.00000e+00,  0.00000e+00,  1.00000e+00,\n",
       "         0.00000e+00,  0.00000e+00,  1.00000e+00,  0.00000e+00,\n",
       "         1.00000e+00,  1.00000e+00,  0.00000e+00,  0.00000e+00,\n",
       "         0.00000e+00,  0.00000e+00,  0.00000e+00]])"
      ]
     },
     "execution_count": 78,
     "metadata": {},
     "output_type": "execute_result"
    }
   ],
   "source": [
    "((L)).round(0)"
   ]
  },
  {
   "cell_type": "code",
   "execution_count": 79,
   "id": "d73e459e",
   "metadata": {},
   "outputs": [
    {
     "data": {
      "text/plain": [
       "array([[ 0.0000000e+00,  0.0000000e+00,  0.0000000e+00,  0.0000000e+00,\n",
       "         0.0000000e+00,  0.0000000e+00,  0.0000000e+00,  0.0000000e+00,\n",
       "         0.0000000e+00,  0.0000000e+00, -0.0000000e+00, -0.0000000e+00,\n",
       "        -0.0000000e+00, -0.0000000e+00, -0.0000000e+00],\n",
       "       [ 0.0000000e+00,  4.4599281e+07,  0.0000000e+00,  0.0000000e+00,\n",
       "         0.0000000e+00,  0.0000000e+00,  0.0000000e+00,  0.0000000e+00,\n",
       "         0.0000000e+00,  0.0000000e+00, -0.0000000e+00, -0.0000000e+00,\n",
       "        -0.0000000e+00, -0.0000000e+00, -0.0000000e+00],\n",
       "       [ 0.0000000e+00,  0.0000000e+00,  0.0000000e+00,  0.0000000e+00,\n",
       "         6.7000000e+01,  0.0000000e+00,  0.0000000e+00,  0.0000000e+00,\n",
       "         6.7000000e+01,  0.0000000e+00, -0.0000000e+00, -0.0000000e+00,\n",
       "        -0.0000000e+00, -0.0000000e+00, -0.0000000e+00],\n",
       "       [ 0.0000000e+00,  0.0000000e+00,  0.0000000e+00,  0.0000000e+00,\n",
       "         6.7000000e+01,  0.0000000e+00,  0.0000000e+00,  0.0000000e+00,\n",
       "         0.0000000e+00,  0.0000000e+00, -0.0000000e+00, -0.0000000e+00,\n",
       "        -0.0000000e+00, -0.0000000e+00, -0.0000000e+00],\n",
       "       [ 0.0000000e+00,  0.0000000e+00,  6.7000000e+01,  6.7000000e+01,\n",
       "         0.0000000e+00,  0.0000000e+00,  0.0000000e+00,  0.0000000e+00,\n",
       "         0.0000000e+00,  0.0000000e+00, -0.0000000e+00, -0.0000000e+00,\n",
       "        -0.0000000e+00, -0.0000000e+00, -0.0000000e+00],\n",
       "       [ 0.0000000e+00,  0.0000000e+00,  0.0000000e+00,  0.0000000e+00,\n",
       "         0.0000000e+00,  0.0000000e+00,  0.0000000e+00,  0.0000000e+00,\n",
       "         0.0000000e+00,  0.0000000e+00, -0.0000000e+00, -0.0000000e+00,\n",
       "        -0.0000000e+00, -0.0000000e+00, -0.0000000e+00],\n",
       "       [ 0.0000000e+00,  0.0000000e+00,  0.0000000e+00,  0.0000000e+00,\n",
       "         0.0000000e+00,  0.0000000e+00,  0.0000000e+00,  0.0000000e+00,\n",
       "         0.0000000e+00,  0.0000000e+00, -0.0000000e+00, -0.0000000e+00,\n",
       "        -0.0000000e+00, -0.0000000e+00, -0.0000000e+00],\n",
       "       [ 0.0000000e+00,  0.0000000e+00,  0.0000000e+00,  0.0000000e+00,\n",
       "         0.0000000e+00,  0.0000000e+00,  0.0000000e+00,  0.0000000e+00,\n",
       "         0.0000000e+00,  0.0000000e+00, -0.0000000e+00, -0.0000000e+00,\n",
       "        -0.0000000e+00, -0.0000000e+00, -0.0000000e+00],\n",
       "       [ 0.0000000e+00,  0.0000000e+00,  6.7000000e+01,  0.0000000e+00,\n",
       "         0.0000000e+00,  0.0000000e+00,  0.0000000e+00,  0.0000000e+00,\n",
       "         0.0000000e+00,  0.0000000e+00, -0.0000000e+00, -0.0000000e+00,\n",
       "        -0.0000000e+00, -0.0000000e+00, -0.0000000e+00],\n",
       "       [ 0.0000000e+00,  0.0000000e+00,  0.0000000e+00,  0.0000000e+00,\n",
       "         0.0000000e+00,  0.0000000e+00,  0.0000000e+00,  0.0000000e+00,\n",
       "         0.0000000e+00,  0.0000000e+00, -0.0000000e+00, -0.0000000e+00,\n",
       "        -0.0000000e+00, -0.0000000e+00, -0.0000000e+00],\n",
       "       [ 0.0000000e+00,  0.0000000e+00,  0.0000000e+00,  0.0000000e+00,\n",
       "         0.0000000e+00,  0.0000000e+00,  0.0000000e+00,  0.0000000e+00,\n",
       "         0.0000000e+00,  0.0000000e+00,  0.0000000e+00,  0.0000000e+00,\n",
       "         0.0000000e+00,  0.0000000e+00,  0.0000000e+00],\n",
       "       [ 0.0000000e+00,  0.0000000e+00,  0.0000000e+00,  0.0000000e+00,\n",
       "         0.0000000e+00,  0.0000000e+00,  0.0000000e+00,  0.0000000e+00,\n",
       "         0.0000000e+00,  0.0000000e+00,  0.0000000e+00,  0.0000000e+00,\n",
       "         0.0000000e+00,  0.0000000e+00,  0.0000000e+00],\n",
       "       [ 0.0000000e+00,  0.0000000e+00,  0.0000000e+00,  0.0000000e+00,\n",
       "         0.0000000e+00,  0.0000000e+00,  0.0000000e+00,  0.0000000e+00,\n",
       "         0.0000000e+00,  0.0000000e+00,  0.0000000e+00,  0.0000000e+00,\n",
       "         0.0000000e+00,  0.0000000e+00,  0.0000000e+00],\n",
       "       [ 0.0000000e+00,  0.0000000e+00,  0.0000000e+00,  0.0000000e+00,\n",
       "         0.0000000e+00,  0.0000000e+00,  0.0000000e+00,  0.0000000e+00,\n",
       "         0.0000000e+00,  0.0000000e+00,  0.0000000e+00,  0.0000000e+00,\n",
       "         0.0000000e+00,  0.0000000e+00,  0.0000000e+00],\n",
       "       [ 0.0000000e+00,  0.0000000e+00,  0.0000000e+00,  0.0000000e+00,\n",
       "         0.0000000e+00,  0.0000000e+00,  0.0000000e+00,  0.0000000e+00,\n",
       "         0.0000000e+00,  0.0000000e+00,  0.0000000e+00,  0.0000000e+00,\n",
       "         0.0000000e+00,  0.0000000e+00,  0.0000000e+00]])"
      ]
     },
     "execution_count": 79,
     "metadata": {},
     "output_type": "execute_result"
    }
   ],
   "source": [
    "(rejectedactivation(p,L,1)/10000).round(0)"
   ]
  },
  {
   "cell_type": "code",
   "execution_count": 104,
   "id": "b7ff57fb",
   "metadata": {},
   "outputs": [
    {
     "data": {
      "image/png": "[encoded data removed]",
      "text/plain": [
       "<Figure size 640x480 with 1 Axes>"
      ]
     },
     "metadata": {},
     "output_type": "display_data"
    }
   ],
   "source": [
    "plot(p)"
   ]
  },
  {
   "cell_type": "code",
   "execution_count": 103,
   "id": "150f5927",
   "metadata": {},
   "outputs": [
    {
     "name": "stdout",
     "output_type": "stream",
     "text": [
      "[ 2.00000074e+00  2.26991341e-07 -4.68856696e-07  2.26991344e-07\n",
      " -7.25407467e-07 -1.43149348e-07 -2.26991382e-07 -1.43149350e-07\n",
      " -2.26991397e-07 -6.51535837e-08 -7.66647489e-07  2.00000075e+00\n",
      "  2.00000062e+00  1.43149344e-07  6.51535473e-08]\n",
      "0\n",
      "[0, 11, 12] [2, 4, 5, 6, 7, 8, 9, 10, 14]\n",
      "False\n",
      "[ 1.          0.5558841  -0.05553304  0.55538292 -0.05573398  0.27781676\n",
      "  0.22228371  0.27781676  0.22208276  0.05573406  0.11126719  0.99876504\n",
      "  1.          0.77751527  0.05553312]\n",
      "1\n",
      "[0, 12] [2, 4]\n",
      "False\n",
      "[ 1.17335600e+00  2.43735613e-01 -6.65079223e-02  6.49416253e-01\n",
      "  5.82236684e-08  2.66627055e-01  2.00119089e-01  2.66627024e-01\n",
      "  2.66627096e-01  3.62787099e-08  6.65080488e-02  7.49928890e-01\n",
      "  9.50940666e-01  9.15448132e-01  6.65080082e-02]\n",
      "2\n",
      "[0] [2, 4, 9]\n",
      "False\n",
      "[ 1.17335600e+00  2.43735613e-01 -6.65079223e-02  6.49416253e-01\n",
      "  5.82236684e-08  2.66627055e-01  2.00119089e-01  2.66627024e-01\n",
      "  2.66627096e-01  3.62787099e-08  6.65080488e-02  7.49928890e-01\n",
      "  9.50940666e-01  9.15448132e-01  6.65080082e-02]\n",
      "3\n",
      "[0] [2, 4, 9]\n",
      "True\n",
      "bad model\n",
      "[ 9.99999999e-01  6.67190821e-01 -6.65079669e-02  3.99317048e-01\n",
      "  9.84369754e-08  2.66626969e-01  2.00119002e-01  2.66626982e-01\n",
      "  2.66627050e-01 -1.90592648e-08  6.65080229e-02  1.00047526e+00\n",
      "  1.18279890e+00  6.83590084e-01  6.65080376e-02]\n",
      "4\n",
      "[0, 11, 12] [2, 9]\n",
      "False\n",
      "[ 6.35200268e+00  3.28791478e-01 -6.65105523e-02 -4.61428332e+00\n",
      " -2.79589663e-07  2.66628790e-01  2.00118542e-01  2.66629108e-01\n",
      "  2.66628493e-01  3.07289354e-08  6.65103299e-02  6.01567815e+00\n",
      "  6.21463359e+00 -4.34824161e+00  6.65102948e-02]\n",
      "5\n",
      "[0, 11, 12] [2, 3, 4, 9, 13]\n",
      "False\n",
      "[1.00426621 0.49665954 0.18743182 0.18743176 0.12421067 0.1255095\n",
      " 0.31294132 0.31294129 0.24972015 0.18770813 0.18770818 0.99818384\n",
      " 0.99999999 0.31191875 0.31191877]\n",
      "6\n",
      "[0, 12] []\n",
      "False\n",
      "[0.99904466 0.50188109 0.18743182 0.18743176 0.12421067 0.1255095\n",
      " 0.31294132 0.31294129 0.24972015 0.18770813 0.18770818 0.99818384\n",
      " 0.99999999 0.31191875 0.31191877]\n",
      "7\n",
      "[12] []\n",
      "False\n",
      "[0.99904466 0.50188109 0.18743182 0.18743176 0.12421067 0.1255095\n",
      " 0.31294132 0.31294129 0.24972015 0.18770813 0.18770818 0.99818384\n",
      " 0.99999999 0.31191875 0.31191877]\n",
      "8\n",
      "[12] []\n",
      "True\n",
      "bad model\n",
      "[ 4.05859257 -9.18313929  3.07891727  6.29918039 -2.25355094 -2.27602476\n",
      "  0.8028918   4.02315538 -4.5295754   3.28283544  6.50309962  3.53672279\n",
      " -6.19392954  1.02928503  4.24954872]\n",
      "9\n",
      "[0, 2, 3, 7, 9, 10, 11, 13, 14] [1, 4, 5, 8, 12]\n",
      "False\n",
      "[  0.75147971  -2.50878779   0.97146547   0.89831387   1.88752873\n",
      "  -0.88655279  -2.15230595   0.89831363   3.50976366   1.11866917\n",
      "   0.598876   -41.81131469   1.1228925    1.07199193   0.898314  ]\n",
      "10\n",
      "[4, 8, 9, 12, 13] [1, 5, 6, 11]\n",
      "False\n"
     ]
    },
    {
     "ename": "LinAlgError",
     "evalue": "Singular matrix",
     "output_type": "error",
     "traceback": [
      "\u001b[1;31m---------------------------------------------------------------------------\u001b[0m",
      "\u001b[1;31mLinAlgError\u001b[0m                               Traceback (most recent call last)",
      "\u001b[1;32m~\\AppData\\Local\\Temp\\ipykernel_93420\\936404814.py\u001b[0m in \u001b[0;36m<module>\u001b[1;34m\u001b[0m\n\u001b[1;32m----> 1\u001b[1;33m \u001b[0martificialmodel\u001b[0m\u001b[1;33m(\u001b[0m\u001b[0mp\u001b[0m\u001b[1;33m)\u001b[0m\u001b[1;33m\u001b[0m\u001b[1;33m\u001b[0m\u001b[0m\n\u001b[0m",
      "\u001b[1;32m~\\AppData\\Local\\Temp\\ipykernel_93420\\3561427059.py\u001b[0m in \u001b[0;36martificialmodel\u001b[1;34m(p)\u001b[0m\n\u001b[0;32m     58\u001b[0m         \u001b[1;32mfor\u001b[0m \u001b[0mi\u001b[0m \u001b[1;32min\u001b[0m \u001b[0mreject\u001b[0m\u001b[1;33m:\u001b[0m\u001b[1;33m\u001b[0m\u001b[1;33m\u001b[0m\u001b[0m\n\u001b[0;32m     59\u001b[0m             \u001b[0mL\u001b[0m\u001b[1;33m=\u001b[0m\u001b[0mrejectedactivation\u001b[0m\u001b[1;33m(\u001b[0m\u001b[0mp\u001b[0m\u001b[1;33m,\u001b[0m\u001b[0mL\u001b[0m\u001b[1;33m,\u001b[0m\u001b[0mi\u001b[0m\u001b[1;33m)\u001b[0m\u001b[1;33m\u001b[0m\u001b[1;33m\u001b[0m\u001b[0m\n\u001b[1;32m---> 60\u001b[1;33m         \u001b[0mx\u001b[0m\u001b[1;33m=\u001b[0m\u001b[0mresult\u001b[0m\u001b[1;33m(\u001b[0m\u001b[0mp\u001b[0m\u001b[1;33m,\u001b[0m\u001b[0mL\u001b[0m\u001b[1;33m,\u001b[0m\u001b[0mb\u001b[0m\u001b[1;33m)\u001b[0m\u001b[1;33m\u001b[0m\u001b[1;33m\u001b[0m\u001b[0m\n\u001b[0m\u001b[0;32m     61\u001b[0m         \u001b[0mprint\u001b[0m\u001b[1;33m(\u001b[0m\u001b[0mx\u001b[0m\u001b[1;33m)\u001b[0m\u001b[1;33m\u001b[0m\u001b[1;33m\u001b[0m\u001b[0m\n\u001b[0;32m     62\u001b[0m         \u001b[0miteration\u001b[0m\u001b[1;33m+=\u001b[0m\u001b[1;36m1\u001b[0m\u001b[1;33m\u001b[0m\u001b[1;33m\u001b[0m\u001b[0m\n",
      "\u001b[1;32m~\\AppData\\Local\\Temp\\ipykernel_93420\\3561427059.py\u001b[0m in \u001b[0;36mresult\u001b[1;34m(p, L, b)\u001b[0m\n\u001b[0;32m      7\u001b[0m     \u001b[1;31m#print('phi of result',phi)\u001b[0m\u001b[1;33m\u001b[0m\u001b[1;33m\u001b[0m\u001b[0m\n\u001b[0;32m      8\u001b[0m \u001b[1;33m\u001b[0m\u001b[0m\n\u001b[1;32m----> 9\u001b[1;33m     \u001b[0mx\u001b[0m\u001b[1;33m=\u001b[0m\u001b[0mnp\u001b[0m\u001b[1;33m.\u001b[0m\u001b[0mlinalg\u001b[0m\u001b[1;33m.\u001b[0m\u001b[0msolve\u001b[0m\u001b[1;33m(\u001b[0m\u001b[0mL\u001b[0m\u001b[1;33m,\u001b[0m\u001b[0mb\u001b[0m\u001b[1;33m)\u001b[0m\u001b[1;33m\u001b[0m\u001b[1;33m\u001b[0m\u001b[0m\n\u001b[0m\u001b[0;32m     10\u001b[0m \u001b[1;33m\u001b[0m\u001b[0m\n\u001b[0;32m     11\u001b[0m     \u001b[0mx\u001b[0m\u001b[1;33m=\u001b[0m\u001b[0mx\u001b[0m\u001b[1;33m[\u001b[0m\u001b[1;33m:\u001b[0m\u001b[0mlen\u001b[0m\u001b[1;33m(\u001b[0m\u001b[0ml\u001b[0m\u001b[1;33m)\u001b[0m\u001b[1;33m]\u001b[0m\u001b[1;33m\u001b[0m\u001b[1;33m\u001b[0m\u001b[0m\n",
      "\u001b[1;32m<__array_function__ internals>\u001b[0m in \u001b[0;36msolve\u001b[1;34m(*args, **kwargs)\u001b[0m\n",
      "\u001b[1;32m~\\anaconda3\\lib\\site-packages\\numpy\\linalg\\linalg.py\u001b[0m in \u001b[0;36msolve\u001b[1;34m(a, b)\u001b[0m\n\u001b[0;32m    391\u001b[0m     \u001b[0msignature\u001b[0m \u001b[1;33m=\u001b[0m \u001b[1;34m'DD->D'\u001b[0m \u001b[1;32mif\u001b[0m \u001b[0misComplexType\u001b[0m\u001b[1;33m(\u001b[0m\u001b[0mt\u001b[0m\u001b[1;33m)\u001b[0m \u001b[1;32melse\u001b[0m \u001b[1;34m'dd->d'\u001b[0m\u001b[1;33m\u001b[0m\u001b[1;33m\u001b[0m\u001b[0m\n\u001b[0;32m    392\u001b[0m     \u001b[0mextobj\u001b[0m \u001b[1;33m=\u001b[0m \u001b[0mget_linalg_error_extobj\u001b[0m\u001b[1;33m(\u001b[0m\u001b[0m_raise_linalgerror_singular\u001b[0m\u001b[1;33m)\u001b[0m\u001b[1;33m\u001b[0m\u001b[1;33m\u001b[0m\u001b[0m\n\u001b[1;32m--> 393\u001b[1;33m     \u001b[0mr\u001b[0m \u001b[1;33m=\u001b[0m \u001b[0mgufunc\u001b[0m\u001b[1;33m(\u001b[0m\u001b[0ma\u001b[0m\u001b[1;33m,\u001b[0m \u001b[0mb\u001b[0m\u001b[1;33m,\u001b[0m \u001b[0msignature\u001b[0m\u001b[1;33m=\u001b[0m\u001b[0msignature\u001b[0m\u001b[1;33m,\u001b[0m \u001b[0mextobj\u001b[0m\u001b[1;33m=\u001b[0m\u001b[0mextobj\u001b[0m\u001b[1;33m)\u001b[0m\u001b[1;33m\u001b[0m\u001b[1;33m\u001b[0m\u001b[0m\n\u001b[0m\u001b[0;32m    394\u001b[0m \u001b[1;33m\u001b[0m\u001b[0m\n\u001b[0;32m    395\u001b[0m     \u001b[1;32mreturn\u001b[0m \u001b[0mwrap\u001b[0m\u001b[1;33m(\u001b[0m\u001b[0mr\u001b[0m\u001b[1;33m.\u001b[0m\u001b[0mastype\u001b[0m\u001b[1;33m(\u001b[0m\u001b[0mresult_t\u001b[0m\u001b[1;33m,\u001b[0m \u001b[0mcopy\u001b[0m\u001b[1;33m=\u001b[0m\u001b[1;32mFalse\u001b[0m\u001b[1;33m)\u001b[0m\u001b[1;33m)\u001b[0m\u001b[1;33m\u001b[0m\u001b[1;33m\u001b[0m\u001b[0m\n",
      "\u001b[1;32m~\\anaconda3\\lib\\site-packages\\numpy\\linalg\\linalg.py\u001b[0m in \u001b[0;36m_raise_linalgerror_singular\u001b[1;34m(err, flag)\u001b[0m\n\u001b[0;32m     86\u001b[0m \u001b[1;33m\u001b[0m\u001b[0m\n\u001b[0;32m     87\u001b[0m \u001b[1;32mdef\u001b[0m \u001b[0m_raise_linalgerror_singular\u001b[0m\u001b[1;33m(\u001b[0m\u001b[0merr\u001b[0m\u001b[1;33m,\u001b[0m \u001b[0mflag\u001b[0m\u001b[1;33m)\u001b[0m\u001b[1;33m:\u001b[0m\u001b[1;33m\u001b[0m\u001b[1;33m\u001b[0m\u001b[0m\n\u001b[1;32m---> 88\u001b[1;33m     \u001b[1;32mraise\u001b[0m \u001b[0mLinAlgError\u001b[0m\u001b[1;33m(\u001b[0m\u001b[1;34m\"Singular matrix\"\u001b[0m\u001b[1;33m)\u001b[0m\u001b[1;33m\u001b[0m\u001b[1;33m\u001b[0m\u001b[0m\n\u001b[0m\u001b[0;32m     89\u001b[0m \u001b[1;33m\u001b[0m\u001b[0m\n\u001b[0;32m     90\u001b[0m \u001b[1;32mdef\u001b[0m \u001b[0m_raise_linalgerror_nonposdef\u001b[0m\u001b[1;33m(\u001b[0m\u001b[0merr\u001b[0m\u001b[1;33m,\u001b[0m \u001b[0mflag\u001b[0m\u001b[1;33m)\u001b[0m\u001b[1;33m:\u001b[0m\u001b[1;33m\u001b[0m\u001b[1;33m\u001b[0m\u001b[0m\n",
      "\u001b[1;31mLinAlgError\u001b[0m: Singular matrix"
     ]
    }
   ],
   "source": [
    "artificialmodel(p)"
   ]
  },
  {
   "cell_type": "code",
   "execution_count": 168,
   "id": "21f9099f",
   "metadata": {
    "scrolled": false
   },
   "outputs": [
    {
     "name": "stdout",
     "output_type": "stream",
     "text": [
      "[ 2.00000018e+00  3.97476816e-08 -7.19317892e-10 -1.54835423e-07\n",
      " -6.22630328e-08  7.19314851e-10 -2.03657422e-07  6.22630271e-08\n",
      " -3.97476825e-08  2.00000019e+00 -1.65973483e-07 -6.22630322e-08\n",
      "  6.22630272e-08 -3.97476831e-08  2.00000020e+00]\n",
      "0\n",
      "chose [0, 9, 14] reject [2, 3, 4, 5, 6, 8, 10, 11, 13]\n",
      "False\n",
      "oldgay [1, 7, 12]\n",
      "reject deleted\n",
      "[ 1.00000000e+00 -2.99999940e+00  2.49999973e+00 -1.13320998e-07\n",
      "  1.49999978e+00 -1.49999972e+00  2.99999937e+00 -4.99999760e-01\n",
      "  1.08781506e-07  1.00000000e+00  3.49999951e+00  1.99999963e+00\n",
      " -1.99999959e+00 -2.49999952e+00  1.00000000e+00]\n",
      "choose + forever [0, 9, 14]\n",
      "forever choesen [0, 9, 14]\n",
      "for ever rejected []\n",
      "1\n",
      "chose [0, 2, 4, 6, 9, 10, 11, 14] reject [1, 3, 5, 7, 12, 13]\n",
      "False\n",
      "oldgay [8]\n",
      "choose deleted\n",
      "[ 1.00000000e+00 -1.37917481e-15  1.00000002e+00  3.40195293e-16\n",
      " -2.12362697e-08  1.13398355e-16 -2.12362694e-08  4.23555454e-16\n",
      "  1.00000002e+00  1.00000000e+00  9.99999996e-01 -2.18405416e-15\n",
      "  0.00000000e+00  0.00000000e+00  1.00000000e+00]\n",
      "choose + forever [0, 9, 14]\n",
      "forever choesen [0, 9, 14]\n",
      "for ever rejected [1, 3, 5, 7, 12, 13]\n",
      "0 (0, 1) 1.0\n",
      "1 (0, 2) -1.3791748085940201e-15\n",
      "2 (0, 3) 1.0000000212362703\n",
      "3 (0, 4) 3.401952929587938e-16\n",
      "4 (0, 5) -2.123626971422735e-08\n",
      "5 (1, 2) 1.133983552677577e-16\n",
      "6 (1, 3) -2.123626935115374e-08\n",
      "7 (1, 4) 4.235554542907898e-16\n",
      "8 (1, 5) 1.0000000212362699\n",
      "9 (2, 3) 1.0\n",
      "10 (2, 4) 0.9999999960258268\n",
      "11 (2, 5) -2.184054161623021e-15\n",
      "12 (3, 4) 0.0\n",
      "13 (3, 5) 0.0\n",
      "14 (4, 5) 1.0\n",
      "None\n",
      "[(0, 1), (0, 2), (0, 3), (0, 4), (0, 5), (1, 2), (1, 3), (1, 4), (1, 5), (2, 3), (2, 4), (2, 5), (3, 4), (3, 5), (4, 5)]\n",
      "[(0, 3), (1, 5), (0, 1), (2, 3), (4, 5), (2, 4), (1, 4), (0, 4), (1, 2), (3, 5), (3, 4), (0, 2), (2, 5), (1, 3), (0, 5)]\n"
     ]
    },
    {
     "data": {
      "image/png": "[encoded data removed]",
      "text/plain": [
       "<Figure size 640x480 with 1 Axes>"
      ]
     },
     "metadata": {},
     "output_type": "display_data"
    }
   ],
   "source": [
    "n=6\n",
    "p=createrandomp(n)\n",
    "\n",
    "\n",
    "x=artificialmodel(p)\n",
    "print(readablex(p,x))\n",
    "\n",
    "sortedp(p,x)\n",
    "plot(p)\n"
   ]
  },
  {
   "cell_type": "code",
   "execution_count": 171,
   "id": "bcd86435",
   "metadata": {},
   "outputs": [
    {
     "data": {
      "text/plain": [
       "0.0"
      ]
     },
     "execution_count": 171,
     "metadata": {},
     "output_type": "execute_result"
    }
   ],
   "source": [
    "p=[(0.3038504438091757, 0.5784637729944366),\n",
    " (0.040963386390709955, 0.33543155513656),\n",
    " (0.9715468315224746, 0.05613193146054163),\n",
    " (0.5901113620142922, 0.04349217878305167),\n",
    " (0.9971858890955796, 0.8188342821806295),\n",
    " (0.7478607657281613, 0.6848351757992676)]\n",
    "\n",
    "\n",
    "\n",
    "x=artificialmodel(p)\n",
    "print(readablex(p,x))\n",
    "\n",
    "sortedp(p,x)\n",
    "plot(p)\n",
    "\n",
    "custompath(p,[0,1,3,2,4,5])- custompath(p,[0,3,2,4,5,1])#mine#mine/his\n"
   ]
  },
  {
   "cell_type": "code",
   "execution_count": 34,
   "id": "b0e7f4b1",
   "metadata": {},
   "outputs": [],
   "source": [
    "\n",
    "        \n",
    "        \n",
    "        \n"
   ]
  },
  {
   "cell_type": "code",
   "execution_count": 36,
   "id": "7dfc4eca",
   "metadata": {},
   "outputs": [
    {
     "data": {
      "text/plain": [
       "2.3240013060699245"
      ]
     },
     "execution_count": 36,
     "metadata": {},
     "output_type": "execute_result"
    }
   ],
   "source": [
    "custompath(p,[0,1,3,4,2])#mine"
   ]
  },
  {
   "cell_type": "code",
   "execution_count": 37,
   "id": "b0b662f5",
   "metadata": {},
   "outputs": [
    {
     "data": {
      "text/plain": [
       "2.3240013060699245"
      ]
     },
     "execution_count": 37,
     "metadata": {},
     "output_type": "execute_result"
    }
   ],
   "source": [
    "custompath(p,[0,2,1,3,4])#algo"
   ]
  },
  {
   "cell_type": "code",
   "execution_count": 38,
   "id": "25970b5c",
   "metadata": {},
   "outputs": [
    {
     "data": {
      "text/plain": [
       "0.0"
      ]
     },
     "execution_count": 38,
     "metadata": {},
     "output_type": "execute_result"
    }
   ],
   "source": [
    "custompath(p,[0,2,1,3,4])-custompath(p,[0,1,3,4,2])"
   ]
  },
  {
   "cell_type": "code",
   "execution_count": 164,
   "id": "5cb9a655",
   "metadata": {},
   "outputs": [
    {
     "data": {
      "text/plain": [
       "{0, 1, 2, 3, 4, 862}"
      ]
     },
     "execution_count": 164,
     "metadata": {},
     "output_type": "execute_result"
    }
   ],
   "source": [
    "l=[1,2,3,4,862,3,2,1,2,3,0,0,0]\n",
    "set(l)"
   ]
  },
  {
   "cell_type": "markdown",
   "id": "daa5a38a",
   "metadata": {},
   "source": [
    "# methical test case"
   ]
  },
  {
   "cell_type": "code",
   "execution_count": null,
   "id": "a7619b21",
   "metadata": {},
   "outputs": [],
   "source": [
    "p=[(0.3038504438091757, 0.5784637729944366),\n",
    " (0.040963386390709955, 0.33543155513656),\n",
    " (0.9715468315224746, 0.05613193146054163),\n",
    " (0.5901113620142922, 0.04349217878305167),\n",
    " (0.9971858890955796, 0.8188342821806295),\n",
    " (0.7478607657281613, 0.6848351757992676)]\n",
    "custompath(p,[0,1,3,2,4,5])- custompath(p,[0,3,2,4,5,1])#mine#mine/his\n",
    "x=artificialmodel(p)\n",
    "print(readablex(p,x))\n",
    "\n",
    "sortedp(p,x)\n",
    "plot(p)\n",
    "#this test case gives a result that looks intuitively wrong(intersecting) but it is exactly as long as the obvious sol(none intersecting)\n",
    "#conclusion: the none intersection is neither essential nor suffcient\n",
    "#an intersecting path can be optimum\n",
    "# a none intersecting path can be a bad\n",
    "#this kinda destroys my first postula, need to think about it."
   ]
  }
 ],
 "metadata": {
  "kernelspec": {
   "display_name": "Python 3 (ipykernel)",
   "language": "python",
   "name": "python3"
  },
  "language_info": {
   "codemirror_mode": {
    "name": "ipython",
    "version": 3
   },
   "file_extension": ".py",
   "mimetype": "text/x-python",
   "name": "python",
   "nbconvert_exporter": "python",
   "pygments_lexer": "ipython3",
   "version": "3.9.16"
  }
 },
 "nbformat": 4,
 "nbformat_minor": 5
}
